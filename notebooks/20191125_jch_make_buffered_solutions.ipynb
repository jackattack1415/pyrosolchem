{
 "cells": [
  {
   "cell_type": "markdown",
   "metadata": {},
   "source": [
    "# calculate the solutions used in the butenedial ammonia reactions"
   ]
  },
  {
   "cell_type": "code",
   "execution_count": null,
   "metadata": {},
   "outputs": [],
   "source": [
    "import numpy as np"
   ]
  },
  {
   "cell_type": "markdown",
   "metadata": {},
   "source": [
    "first want to get information about the unbuffered butenedial solutions"
   ]
  },
  {
   "cell_type": "code",
   "execution_count": 89,
   "metadata": {},
   "outputs": [
    {
     "data": {
      "text/plain": [
       "{'bd': 0.8212691837732159,\n",
       " 'h2o': 2.8444769794721405,\n",
       " 'hac': 0.16425383675464322}"
      ]
     },
     "execution_count": 89,
     "metadata": {},
     "output_type": "execute_result"
    }
   ],
   "source": [
    "# from nmr analysis and quantitation of 2019_11_21 butenedial solution made, we get the following composition\n",
    "wt_fr_0 = {'bd': 0.35, 'h2o': 0.58, 'hac': 0.07}\n",
    "weights_0 = { key : value * weight_0 for key, value in wt_fr_0.items() }\n",
    "weight_0 = 5.014\n",
    "\n",
    "# added 3.17 grams h2o to 5.014 g solution to dilute so that butenedial goes from 5.02 to 2.4 molal\n",
    "weight_1 = weight_0 + 3.17\n",
    "weights_1 = weights_0\n",
    "weights_1['h2o'] = weights_1['h2o'] + 3.17\n",
    "wt_fr_1 = { key : value / weight_1 for key, value in weights_1.items() }\n",
    "\n",
    "# separated this large solution containing ~ 8 g into two parts:\n",
    "weight_bd_low_ph = 3.83\n",
    "weight_bd_high_ph = weight_1 - weight_bd_low_ph\n",
    "\n",
    "weights_bd_low_ph = { key : value * weight_bd_low_ph / weight_1 for key, value in weights_1.items() }\n",
    "weights_bd_low_ph"
   ]
  },
  {
   "cell_type": "code",
   "execution_count": 90,
   "metadata": {},
   "outputs": [
    {
     "data": {
      "text/plain": [
       "{'bd': 0.21443059628543495,\n",
       " 'h2o': 0.7426832844574779,\n",
       " 'hac': 0.042886119257087005}"
      ]
     },
     "execution_count": 90,
     "metadata": {},
     "output_type": "execute_result"
    }
   ],
   "source": [
    "wt_fr_1"
   ]
  },
  {
   "cell_type": "code",
   "execution_count": 91,
   "metadata": {},
   "outputs": [
    {
     "name": "stdout",
     "output_type": "stream",
     "text": [
      "5.48\n"
     ]
    }
   ],
   "source": [
    "# now want to figure out what the content is of the acetate/acetic acid buffered system\n",
    "# find the average pH measured for the buffered butenedial solution\n",
    "ph = np.mean([5.35, 5.7, 5.59, 5.32, 5.45, 5.47])\n",
    "print(ph)"
   ]
  },
  {
   "cell_type": "code",
   "execution_count": 96,
   "metadata": {},
   "outputs": [
    {
     "data": {
      "text/plain": [
       "{'bd': 0.1593565125774382,\n",
       " 'h2o': 0.5519334470495063,\n",
       " 'hac': 0.03187130251548764,\n",
       " 'naac': 0.2568387378575677}"
      ]
     },
     "execution_count": 96,
     "metadata": {},
     "output_type": "execute_result"
    }
   ],
   "source": [
    "# from buffer tables, http://microscopy.berkeley.edu/Resources/instruction/buffers.html\n",
    "# pH 5.4 ~ 29 parts acetic acid to 171 parts sodium acetate \n",
    "acetic_acid_to_sodium_acetate_ph_5_4 = 29 * 60 / (171 * 82)\n",
    "\n",
    "# assuming that i have recorded pure acetic acid and added pure sodium acetate, then the weight fractions\n",
    "# should hold up\n",
    "\n",
    "sodium_acetate_added_ph_5_4 = weights_bd_low_ph['hac'] / acetic_acid_to_sodium_acetate_ph_5_4\n",
    "weights_bd_low_ph['naac'] = sodium_acetate_added_ph_5_4\n",
    "# this value seems large, but i didn't measure. thought it should have been about 0.6 grams...\n",
    "\n",
    "weight_bd_low_ph_buffered = weight_bd_low_ph + sodium_acetate_added_ph_5_4\n",
    "wt_fr_bd_low_ph = { key : value / weight_bd_low_ph_buffered for key, value in weights_bd_low_ph.items() }\n",
    "wt_fr_bd_low_ph"
   ]
  },
  {
   "cell_type": "code",
   "execution_count": 104,
   "metadata": {},
   "outputs": [
    {
     "data": {
      "text/plain": [
       "{'bd': 0.12496302065425009,\n",
       " 'h2o': 0.6486384584776704,\n",
       " 'hac': 0.024992604130850023,\n",
       " 'naac': 0.2014059167372294}"
      ]
     },
     "execution_count": 104,
     "metadata": {},
     "output_type": "execute_result"
    }
   ],
   "source": [
    "# realized that we actually want 0.83 molal butenedial, not 1.2 (based on the fact that its in its hydrated\n",
    "# form in solution, which we have evidence of)\n",
    "# measured out an additional 1.2 g h2o to add to the mixture, so it is now 5.56 g total\n",
    "\n",
    "weight_bd_low_ph_0 = 4.36\n",
    "weight_bd_low_ph_1 = 5.56 # in favor of using this weight since its the actual measured one. but keep wt fracs\n",
    "weights_bd_low_ph_0 = { key : value * weight_bd_low_ph_0 for key, value in wt_fr_bd_low_ph.items() }\n",
    "\n",
    "weights_bd_low_ph_1 = weights_bd_low_ph_0\n",
    "weights_bd_low_ph_1['h2o'] = weights_bd_low_ph_1['h2o'] + 1.2\n",
    "\n",
    "wt_fr_bd_low_ph_1 = { key : value / weight_bd_low_ph_1 for key, value in weights_bd_low_ph_1.items() }\n",
    "wt_fr_bd_low_ph_1"
   ]
  },
  {
   "cell_type": "code",
   "execution_count": 108,
   "metadata": {},
   "outputs": [
    {
     "data": {
      "text/plain": [
       "1.6054529173248722"
      ]
     },
     "execution_count": 108,
     "metadata": {},
     "output_type": "execute_result"
    }
   ],
   "source": [
    "bd_molal = 1000 * wt_fr_bd_low_ph_1['bd'] / 120 / wt_fr_bd_low_ph_1['h2o']\n",
    "bd_molal"
   ]
  },
  {
   "cell_type": "markdown",
   "metadata": {},
   "source": [
    "now want to have equivalent water contributions from butenedial and the reaction partner, let's start with 0.5 g water contribution from each"
   ]
  },
  {
   "cell_type": "code",
   "execution_count": 115,
   "metadata": {},
   "outputs": [
    {
     "data": {
      "text/plain": [
       "0.7708454431972486"
      ]
     },
     "execution_count": 115,
     "metadata": {},
     "output_type": "execute_result"
    }
   ],
   "source": [
    "m_bd_sol_low_ph_low_conc = 0.5 / wt_fr_bd_low_ph_1['h2o']\n",
    "m_bd_sol_low_ph_low_conc"
   ]
  },
  {
   "cell_type": "code",
   "execution_count": 116,
   "metadata": {},
   "outputs": [
    {
     "data": {
      "text/plain": [
       "0.5464480874316939"
      ]
     },
     "execution_count": 116,
     "metadata": {},
     "output_type": "execute_result"
    }
   ],
   "source": [
    "m_am_sul_low_ph_low_conc = 0.5 / (1 - 0.085)\n",
    "m_am_sul_low_ph_low_conc"
   ]
  },
  {
   "cell_type": "code",
   "execution_count": 117,
   "metadata": {},
   "outputs": [
    {
     "data": {
      "text/plain": [
       "0.8756567425569177"
      ]
     },
     "execution_count": 117,
     "metadata": {},
     "output_type": "execute_result"
    }
   ],
   "source": [
    "m_am_sul_low_ph_high_conc = 0.5 / (1 - 0.429)\n",
    "m_am_sul_low_ph_high_conc"
   ]
  },
  {
   "cell_type": "code",
   "execution_count": 118,
   "metadata": {},
   "outputs": [
    {
     "data": {
      "text/plain": [
       "0.06586467653144712"
      ]
     },
     "execution_count": 118,
     "metadata": {},
     "output_type": "execute_result"
    }
   ],
   "source": [
    "m_peg_low_conc = 0.05 * (m_bd_sol_low_ph_low_conc + m_am_sul_low_ph_low_conc)\n",
    "m_peg_low_conc"
   ]
  },
  {
   "cell_type": "code",
   "execution_count": 119,
   "metadata": {},
   "outputs": [
    {
     "data": {
      "text/plain": [
       "0.08232510928770831"
      ]
     },
     "execution_count": 119,
     "metadata": {},
     "output_type": "execute_result"
    }
   ],
   "source": [
    "m_peg_high_conc = 0.05 * (m_bd_sol_low_ph_low_conc + m_am_sul_low_ph_high_conc)\n",
    "m_peg_high_conc"
   ]
  },
  {
   "cell_type": "code",
   "execution_count": 60,
   "metadata": {},
   "outputs": [
    {
     "data": {
      "text/plain": [
       "array([0.0858, 0.429 ])"
      ]
     },
     "execution_count": 60,
     "metadata": {},
     "output_type": "execute_result"
    }
   ],
   "source": [
    "# now calculate the weight fractions of the reaction partner\n",
    "nhx_molal = np.array([1.3, 6.5])\n",
    "as_mw = 132 / 1000 / 2\n",
    "nhx_wt_fr = nhx_molal * as_mw\n",
    "nhx_wt_fr"
   ]
  },
  {
   "cell_type": "code",
   "execution_count": 64,
   "metadata": {},
   "outputs": [
    {
     "data": {
      "text/plain": [
       "0.8333333333333335"
      ]
     },
     "execution_count": 64,
     "metadata": {},
     "output_type": "execute_result"
    }
   ],
   "source": [
    "# vial before\n",
    "vial_old_wt_fr = {'bd': 0.07, 'peg-6': 0.05, 'as': 0.03, 'h2o': 0.7}\n",
    "vial_new_wt_fr = {'bd': 0.07, 'peg-6': 0.05, 'as': 0.15, 'h2o': 0.7}"
   ]
  },
  {
   "cell_type": "code",
   "execution_count": null,
   "metadata": {},
   "outputs": [],
   "source": []
  }
 ],
 "metadata": {
  "kernelspec": {
   "display_name": "droplet",
   "language": "python",
   "name": "dropletenv"
  },
  "language_info": {
   "codemirror_mode": {
    "name": "ipython",
    "version": 3
   },
   "file_extension": ".py",
   "mimetype": "text/x-python",
   "name": "python",
   "nbconvert_exporter": "python",
   "pygments_lexer": "ipython3",
   "version": "3.7.4"
  }
 },
 "nbformat": 4,
 "nbformat_minor": 2
}
