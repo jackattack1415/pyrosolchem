{
 "cells": [
  {
   "cell_type": "code",
   "execution_count": 1,
   "metadata": {},
   "outputs": [],
   "source": [
    "import os\n",
    "notebook_wd = os.getcwd()"
   ]
  },
  {
   "cell_type": "code",
   "execution_count": 2,
   "metadata": {},
   "outputs": [],
   "source": [
    "import pandas as pd\n",
    "import numpy as np\n",
    "\n",
    "os.chdir(os.path.join(notebook_wd, '..'))\n",
    "from src.d00_utils.conf_utils import *\n",
    "from src.d00_utils.processing_utils import perform_bootstrap"
   ]
  },
  {
   "cell_type": "code",
   "execution_count": 3,
   "metadata": {},
   "outputs": [
    {
     "data": {
      "text/plain": [
       "{'composition': {'Butenedial': 0.075, 'PEG-6': 0.2},\n",
       " 'solution_name': 'bd10hg20_008',\n",
       " 'idx_range': [63, 500],\n",
       " 'bad_idx': [113],\n",
       " 'trap_time': [2, 50],\n",
       " 'other_query': 'rh<20',\n",
       " 'y_col': 'mz85/mz283',\n",
       " 'p283_cutoff': 1000,\n",
       " 'columns_to_keep': ['trapped', 'comp', 'experiment', 'mz85/mz283'],\n",
       " 'number_of_steps': 3000.0,\n",
       " 'r_init': [1.14e-05, 1.44e-05],\n",
       " 'T': [298.6, 301.6],\n",
       " 'RH': [0.0, 0.05],\n",
       " 'x_water': [0.0, 0.05],\n",
       " 'value_idx': 0,\n",
       " 'norm_idx': 1,\n",
       " 'cal_data_time': 5,\n",
       " 'label': 'BD (dry)'}"
      ]
     },
     "execution_count": 3,
     "metadata": {},
     "output_type": "execute_result"
    }
   ],
   "source": [
    "compounds, water = load_compounds()\n",
    "experiments = load_experiments()\n",
    "constants = load_constants()\n",
    "paths = load_paths()\n",
    "experiments['bd_dry']"
   ]
  },
  {
   "cell_type": "code",
   "execution_count": 4,
   "metadata": {},
   "outputs": [],
   "source": [
    "def convert_mass_to_molar_composition(mass_composition, compounds):\n",
    "\n",
    "    molar_composition = {}\n",
    "    for component, mass_fraction in mass_composition.items():\n",
    "        for name, compound in compounds.items():\n",
    "            if compound['name'] == component:\n",
    "                mole_fraction = mass_fraction / compound['mw']\n",
    "                molar_composition.update({component: mole_fraction})\n",
    "\n",
    "    return molar_composition"
   ]
  },
  {
   "cell_type": "code",
   "execution_count": 5,
   "metadata": {},
   "outputs": [
    {
     "name": "stdout",
     "output_type": "stream",
     "text": [
      "{'Butenedial': 0.6244796003330557, 'PEG-6': 0.7084661707403472}\n"
     ]
    }
   ],
   "source": [
    "molar_composition = convert_mass_to_molar_composition(experiments['bd_dry']['composition'], compounds)\n",
    "print(molar_composition)"
   ]
  },
  {
   "cell_type": "code",
   "execution_count": 6,
   "metadata": {},
   "outputs": [],
   "source": [
    "from src.d00_utils.data_utils import import_ms_data\n",
    "from src.d01_data.process_ms_data import *"
   ]
  },
  {
   "cell_type": "code",
   "execution_count": 7,
   "metadata": {},
   "outputs": [
    {
     "data": {
      "text/html": [
       "<div>\n",
       "<style scoped>\n",
       "    .dataframe tbody tr th:only-of-type {\n",
       "        vertical-align: middle;\n",
       "    }\n",
       "\n",
       "    .dataframe tbody tr th {\n",
       "        vertical-align: top;\n",
       "    }\n",
       "\n",
       "    .dataframe thead th {\n",
       "        text-align: right;\n",
       "    }\n",
       "</style>\n",
       "<table border=\"1\" class=\"dataframe\">\n",
       "  <thead>\n",
       "    <tr style=\"text-align: right;\">\n",
       "      <th></th>\n",
       "      <th>date</th>\n",
       "      <th>file</th>\n",
       "      <th>chrom</th>\n",
       "      <th>dc_trap</th>\n",
       "      <th>mfc</th>\n",
       "      <th>src1</th>\n",
       "      <th>src2</th>\n",
       "      <th>signal</th>\n",
       "      <th>vialstart</th>\n",
       "      <th>trapstart</th>\n",
       "      <th>...</th>\n",
       "      <th>p84_j</th>\n",
       "      <th>p85_j</th>\n",
       "      <th>p283_j</th>\n",
       "      <th>n84_j</th>\n",
       "      <th>n84</th>\n",
       "      <th>n85_j</th>\n",
       "      <th>n85</th>\n",
       "      <th>bad_data</th>\n",
       "      <th>nh3_vial</th>\n",
       "      <th>naoh_vial</th>\n",
       "    </tr>\n",
       "  </thead>\n",
       "  <tbody>\n",
       "    <tr>\n",
       "      <th>0</th>\n",
       "      <td>180815</td>\n",
       "      <td>6</td>\n",
       "      <td>0.52</td>\n",
       "      <td>680.0</td>\n",
       "      <td>303.0</td>\n",
       "      <td>NaN</td>\n",
       "      <td>NaN</td>\n",
       "      <td>1</td>\n",
       "      <td>NaN</td>\n",
       "      <td>NaN</td>\n",
       "      <td>...</td>\n",
       "      <td>NaN</td>\n",
       "      <td>3470.9</td>\n",
       "      <td>58881.1</td>\n",
       "      <td>NaN</td>\n",
       "      <td>0.000705</td>\n",
       "      <td>0.058948</td>\n",
       "      <td>0.058387</td>\n",
       "      <td>NaN</td>\n",
       "      <td>NaN</td>\n",
       "      <td>NaN</td>\n",
       "    </tr>\n",
       "    <tr>\n",
       "      <th>1</th>\n",
       "      <td>180815</td>\n",
       "      <td>6</td>\n",
       "      <td>8.66</td>\n",
       "      <td>600.0</td>\n",
       "      <td>244.0</td>\n",
       "      <td>NaN</td>\n",
       "      <td>NaN</td>\n",
       "      <td>1</td>\n",
       "      <td>NaN</td>\n",
       "      <td>NaN</td>\n",
       "      <td>...</td>\n",
       "      <td>NaN</td>\n",
       "      <td>1370.8</td>\n",
       "      <td>21289.4</td>\n",
       "      <td>NaN</td>\n",
       "      <td>0.001825</td>\n",
       "      <td>0.064389</td>\n",
       "      <td>0.060608</td>\n",
       "      <td>NaN</td>\n",
       "      <td>NaN</td>\n",
       "      <td>NaN</td>\n",
       "    </tr>\n",
       "    <tr>\n",
       "      <th>2</th>\n",
       "      <td>180816</td>\n",
       "      <td>1</td>\n",
       "      <td>0.85</td>\n",
       "      <td>470.0</td>\n",
       "      <td>250.0</td>\n",
       "      <td>NaN</td>\n",
       "      <td>NaN</td>\n",
       "      <td>1</td>\n",
       "      <td>NaN</td>\n",
       "      <td>NaN</td>\n",
       "      <td>...</td>\n",
       "      <td>NaN</td>\n",
       "      <td>1738.1</td>\n",
       "      <td>55019.3</td>\n",
       "      <td>NaN</td>\n",
       "      <td>0.000779</td>\n",
       "      <td>0.031591</td>\n",
       "      <td>0.032168</td>\n",
       "      <td>NaN</td>\n",
       "      <td>NaN</td>\n",
       "      <td>NaN</td>\n",
       "    </tr>\n",
       "    <tr>\n",
       "      <th>3</th>\n",
       "      <td>180816</td>\n",
       "      <td>2</td>\n",
       "      <td>1.00</td>\n",
       "      <td>570.0</td>\n",
       "      <td>275.0</td>\n",
       "      <td>NaN</td>\n",
       "      <td>NaN</td>\n",
       "      <td>1</td>\n",
       "      <td>NaN</td>\n",
       "      <td>NaN</td>\n",
       "      <td>...</td>\n",
       "      <td>NaN</td>\n",
       "      <td>2199.8</td>\n",
       "      <td>98592.0</td>\n",
       "      <td>NaN</td>\n",
       "      <td>0.000090</td>\n",
       "      <td>0.022312</td>\n",
       "      <td>0.022524</td>\n",
       "      <td>NaN</td>\n",
       "      <td>NaN</td>\n",
       "      <td>NaN</td>\n",
       "    </tr>\n",
       "    <tr>\n",
       "      <th>4</th>\n",
       "      <td>180816</td>\n",
       "      <td>3</td>\n",
       "      <td>1.00</td>\n",
       "      <td>560.0</td>\n",
       "      <td>245.0</td>\n",
       "      <td>NaN</td>\n",
       "      <td>NaN</td>\n",
       "      <td>1</td>\n",
       "      <td>NaN</td>\n",
       "      <td>NaN</td>\n",
       "      <td>...</td>\n",
       "      <td>NaN</td>\n",
       "      <td>477.2</td>\n",
       "      <td>20871.9</td>\n",
       "      <td>NaN</td>\n",
       "      <td>0.002030</td>\n",
       "      <td>0.022863</td>\n",
       "      <td>0.021951</td>\n",
       "      <td>NaN</td>\n",
       "      <td>NaN</td>\n",
       "      <td>NaN</td>\n",
       "    </tr>\n",
       "  </tbody>\n",
       "</table>\n",
       "<p>5 rows × 45 columns</p>\n",
       "</div>"
      ],
      "text/plain": [
       "     date  file  chrom  dc_trap    mfc src1 src2  signal  vialstart trapstart  \\\n",
       "0  180815     6   0.52    680.0  303.0  NaN  NaN       1        NaN       NaN   \n",
       "1  180815     6   8.66    600.0  244.0  NaN  NaN       1        NaN       NaN   \n",
       "2  180816     1   0.85    470.0  250.0  NaN  NaN       1        NaN       NaN   \n",
       "3  180816     2   1.00    570.0  275.0  NaN  NaN       1        NaN       NaN   \n",
       "4  180816     3   1.00    560.0  245.0  NaN  NaN       1        NaN       NaN   \n",
       "\n",
       "   ... p84_j   p85_j   p283_j  n84_j       n84     n85_j       n85  bad_data  \\\n",
       "0  ...   NaN  3470.9  58881.1    NaN  0.000705  0.058948  0.058387       NaN   \n",
       "1  ...   NaN  1370.8  21289.4    NaN  0.001825  0.064389  0.060608       NaN   \n",
       "2  ...   NaN  1738.1  55019.3    NaN  0.000779  0.031591  0.032168       NaN   \n",
       "3  ...   NaN  2199.8  98592.0    NaN  0.000090  0.022312  0.022524       NaN   \n",
       "4  ...   NaN   477.2  20871.9    NaN  0.002030  0.022863  0.021951       NaN   \n",
       "\n",
       "   nh3_vial  naoh_vial  \n",
       "0       NaN        NaN  \n",
       "1       NaN        NaN  \n",
       "2       NaN        NaN  \n",
       "3       NaN        NaN  \n",
       "4       NaN        NaN  \n",
       "\n",
       "[5 rows x 45 columns]"
      ]
     },
     "execution_count": 7,
     "metadata": {},
     "output_type": "execute_result"
    }
   ],
   "source": [
    "df = import_ms_data(file_name=paths['raw_data'])\n",
    "df.head()"
   ]
  },
  {
   "cell_type": "code",
   "execution_count": 8,
   "metadata": {},
   "outputs": [
    {
     "data": {
      "text/plain": [
       "Index(['mins', 'solution_name', 'experiment', 'mz85/mz283'], dtype='object')"
      ]
     },
     "execution_count": 8,
     "metadata": {},
     "output_type": "execute_result"
    }
   ],
   "source": [
    "df_filtered = filter_ms_data_in_experiments(df, experiments)\n",
    "df_cleaned = clean_ms_data_in_experiments(df_filtered, experiments)\n",
    "df_cleaned.columns"
   ]
  },
  {
   "cell_type": "code",
   "execution_count": 9,
   "metadata": {},
   "outputs": [],
   "source": [
    "def extract_calibration_data(df, t_init_cutoff, cal_data_col):\n",
    "    \"\"\"\"\"\"\n",
    "\n",
    "    calibration_data_query = \"mins<={}\".format(t_init_cutoff)\n",
    "    ms_signal_inits = df.query(calibration_data_query)[cal_data_col].values\n",
    "\n",
    "    return ms_signal_inits"
   ]
  },
  {
   "cell_type": "code",
   "execution_count": 10,
   "metadata": {},
   "outputs": [
    {
     "data": {
      "text/plain": [
       "array([0.04950509, 0.03339879, 0.02404221, 0.02281234, 0.0249745 ,\n",
       "       0.03512101, 0.02975492, 0.03036752, 0.02709785, 0.02357413,\n",
       "       0.03711957, 0.11233162, 0.04560863, 0.07187716, 0.09937988,\n",
       "       0.1017902 , 0.09797737, 0.05993994, 0.0893675 , 0.0948873 ,\n",
       "       0.05861352, 0.07927909, 0.29070792, 0.49927666])"
      ]
     },
     "execution_count": 10,
     "metadata": {},
     "output_type": "execute_result"
    }
   ],
   "source": [
    "dfcal = extract_calibration_data(df_cleaned, 5, 'mz85/mz283')\n",
    "dfcal"
   ]
  },
  {
   "cell_type": "code",
   "execution_count": 43,
   "metadata": {},
   "outputs": [],
   "source": [
    "def get_bootstrapped_statistics(data):\n",
    "    \"\"\"\"\"\"\n",
    "    \n",
    "    samples = perform_bootstrap(data)\n",
    "    sample_means = np.mean(samples, axis=0)\n",
    "    sample_avg = np.mean(sample_means)\n",
    "    sample_std = np.std(sample_means)\n",
    "    \n",
    "    sample_rel_std = sample_std / sample_avg\n",
    "    \n",
    "    return sample_avg, sample_rel_std"
   ]
  },
  {
   "cell_type": "code",
   "execution_count": 44,
   "metadata": {},
   "outputs": [
    {
     "data": {
      "text/plain": [
       "0.01231315099501568"
      ]
     },
     "execution_count": 44,
     "metadata": {},
     "output_type": "execute_result"
    }
   ],
   "source": [
    "s_avg, s_rstd = get_bootstrapped_statistics(dfcal)\n",
    "s_rstd"
   ]
  },
  {
   "cell_type": "code",
   "execution_count": 46,
   "metadata": {},
   "outputs": [],
   "source": [
    "def calibrate_ms_data(df, experiments, analyte='Butenedial', internal_standard='PEG-6'):\n",
    "    \"\"\"\"\"\"\n",
    "    \n",
    "    df_calibrated = pd.DataFrame()\n",
    "    for experiment_name, experiment_defs in experiments.items():\n",
    "        \n",
    "        df_experiment = df[df.experiment == experiment_name]\n",
    "        ms_signal_inits = extract_calibration_data(df=df_experiment, \n",
    "                                                   t_init_cutoff=experiment_defs['cal_data_time'], \n",
    "                                                   cal_data_col=experiment_defs['y_col'])\n",
    "        ms_signal_inits_avg, ms_signal_inits_rel_std = get_bootstrapped_statistics(ms_signal_inits)\n",
    "\n",
    "        for compound_name, compound_mol_frac in experiment_defs['composition'].items():\n",
    "            internal_standard_mol_frac = experiment_defs['composition'][internal_standard]\n",
    "            \n",
    "            if compound_name == analyte:\n",
    "                rel_molar_abundance_in_solution = compound_mol_frac / internal_standard_mol_frac\n",
    "                cal_factor_avg = ms_signal_inits_avg / rel_molar_abundance_in_solution\n",
    "                cal_factor_std = ms_signal_inits_rel_std\n",
    "\n",
    "                col_name = experiment_defs['y_col'].replace('mz', 'mol')\n",
    "\n",
    "                df_experiment[col_name] = df_experiment[experiment_defs['y_col']] / cal_factor_avg\n",
    "                df_experiment[col_name + '_std'] = df_experiment[col_name] * cal_factor_std\n",
    "    \n",
    "        df_calibrated = df_calibrated.append(df_experiment)\n",
    "        \n",
    "    return df_calibrated"
   ]
  },
  {
   "cell_type": "code",
   "execution_count": 47,
   "metadata": {},
   "outputs": [
    {
     "name": "stderr",
     "output_type": "stream",
     "text": [
      "C:\\Users\\joh3146\\AppData\\Local\\Continuum\\anaconda3\\envs\\dropletenv\\lib\\site-packages\\ipykernel_launcher.py:23: SettingWithCopyWarning: \n",
      "A value is trying to be set on a copy of a slice from a DataFrame.\n",
      "Try using .loc[row_indexer,col_indexer] = value instead\n",
      "\n",
      "See the caveats in the documentation: http://pandas.pydata.org/pandas-docs/stable/indexing.html#indexing-view-versus-copy\n",
      "C:\\Users\\joh3146\\AppData\\Local\\Continuum\\anaconda3\\envs\\dropletenv\\lib\\site-packages\\ipykernel_launcher.py:24: SettingWithCopyWarning: \n",
      "A value is trying to be set on a copy of a slice from a DataFrame.\n",
      "Try using .loc[row_indexer,col_indexer] = value instead\n",
      "\n",
      "See the caveats in the documentation: http://pandas.pydata.org/pandas-docs/stable/indexing.html#indexing-view-versus-copy\n"
     ]
    },
    {
     "data": {
      "text/html": [
       "<div>\n",
       "<style scoped>\n",
       "    .dataframe tbody tr th:only-of-type {\n",
       "        vertical-align: middle;\n",
       "    }\n",
       "\n",
       "    .dataframe tbody tr th {\n",
       "        vertical-align: top;\n",
       "    }\n",
       "\n",
       "    .dataframe thead th {\n",
       "        text-align: right;\n",
       "    }\n",
       "</style>\n",
       "<table border=\"1\" class=\"dataframe\">\n",
       "  <thead>\n",
       "    <tr style=\"text-align: right;\">\n",
       "      <th></th>\n",
       "      <th>mins</th>\n",
       "      <th>solution_name</th>\n",
       "      <th>experiment</th>\n",
       "      <th>mz85/mz283</th>\n",
       "      <th>mol85/mol283</th>\n",
       "      <th>mol85/mol283_std</th>\n",
       "    </tr>\n",
       "  </thead>\n",
       "  <tbody>\n",
       "    <tr>\n",
       "      <th>102</th>\n",
       "      <td>23.0</td>\n",
       "      <td>bd10hg20_008</td>\n",
       "      <td>bd_dry</td>\n",
       "      <td>0.009295</td>\n",
       "      <td>0.107374</td>\n",
       "      <td>0.000314</td>\n",
       "    </tr>\n",
       "    <tr>\n",
       "      <th>103</th>\n",
       "      <td>22.0</td>\n",
       "      <td>bd10hg20_008</td>\n",
       "      <td>bd_dry</td>\n",
       "      <td>0.014990</td>\n",
       "      <td>0.173153</td>\n",
       "      <td>0.000506</td>\n",
       "    </tr>\n",
       "    <tr>\n",
       "      <th>104</th>\n",
       "      <td>21.0</td>\n",
       "      <td>bd10hg20_008</td>\n",
       "      <td>bd_dry</td>\n",
       "      <td>0.005597</td>\n",
       "      <td>0.064657</td>\n",
       "      <td>0.000189</td>\n",
       "    </tr>\n",
       "    <tr>\n",
       "      <th>105</th>\n",
       "      <td>46.0</td>\n",
       "      <td>bd10hg20_008</td>\n",
       "      <td>bd_dry</td>\n",
       "      <td>0.013988</td>\n",
       "      <td>0.161578</td>\n",
       "      <td>0.000472</td>\n",
       "    </tr>\n",
       "    <tr>\n",
       "      <th>107</th>\n",
       "      <td>10.0</td>\n",
       "      <td>bd10hg20_008</td>\n",
       "      <td>bd_dry</td>\n",
       "      <td>0.027411</td>\n",
       "      <td>0.316630</td>\n",
       "      <td>0.000925</td>\n",
       "    </tr>\n",
       "  </tbody>\n",
       "</table>\n",
       "</div>"
      ],
      "text/plain": [
       "     mins solution_name experiment  mz85/mz283  mol85/mol283  mol85/mol283_std\n",
       "102  23.0  bd10hg20_008     bd_dry    0.009295      0.107374          0.000314\n",
       "103  22.0  bd10hg20_008     bd_dry    0.014990      0.173153          0.000506\n",
       "104  21.0  bd10hg20_008     bd_dry    0.005597      0.064657          0.000189\n",
       "105  46.0  bd10hg20_008     bd_dry    0.013988      0.161578          0.000472\n",
       "107  10.0  bd10hg20_008     bd_dry    0.027411      0.316630          0.000925"
      ]
     },
     "execution_count": 47,
     "metadata": {},
     "output_type": "execute_result"
    }
   ],
   "source": [
    "df_calibrated = calibrate_ms_data(df_cleaned, experiments, analyte='Butenedial', internal_standard='PEG-6')\n",
    "df_calibrated.head()"
   ]
  },
  {
   "cell_type": "code",
   "execution_count": 48,
   "metadata": {},
   "outputs": [
    {
     "data": {
      "text/html": [
       "<div>\n",
       "<style scoped>\n",
       "    .dataframe tbody tr th:only-of-type {\n",
       "        vertical-align: middle;\n",
       "    }\n",
       "\n",
       "    .dataframe tbody tr th {\n",
       "        vertical-align: top;\n",
       "    }\n",
       "\n",
       "    .dataframe thead th {\n",
       "        text-align: right;\n",
       "    }\n",
       "</style>\n",
       "<table border=\"1\" class=\"dataframe\">\n",
       "  <thead>\n",
       "    <tr style=\"text-align: right;\">\n",
       "      <th></th>\n",
       "      <th>mins</th>\n",
       "      <th>solution_name</th>\n",
       "      <th>experiment</th>\n",
       "      <th>mz85/mz283</th>\n",
       "      <th>mol85/mol283</th>\n",
       "      <th>mol85/mol283_std</th>\n",
       "      <th>mol85/mol85_0</th>\n",
       "    </tr>\n",
       "  </thead>\n",
       "  <tbody>\n",
       "    <tr>\n",
       "      <th>102</th>\n",
       "      <td>23.0</td>\n",
       "      <td>bd10hg20_008</td>\n",
       "      <td>bd_dry</td>\n",
       "      <td>0.009295</td>\n",
       "      <td>0.107387</td>\n",
       "      <td>0.000021</td>\n",
       "      <td>0.286365</td>\n",
       "    </tr>\n",
       "    <tr>\n",
       "      <th>103</th>\n",
       "      <td>22.0</td>\n",
       "      <td>bd10hg20_008</td>\n",
       "      <td>bd_dry</td>\n",
       "      <td>0.014990</td>\n",
       "      <td>0.173175</td>\n",
       "      <td>0.000034</td>\n",
       "      <td>0.461799</td>\n",
       "    </tr>\n",
       "    <tr>\n",
       "      <th>104</th>\n",
       "      <td>21.0</td>\n",
       "      <td>bd10hg20_008</td>\n",
       "      <td>bd_dry</td>\n",
       "      <td>0.005597</td>\n",
       "      <td>0.064665</td>\n",
       "      <td>0.000013</td>\n",
       "      <td>0.172441</td>\n",
       "    </tr>\n",
       "    <tr>\n",
       "      <th>105</th>\n",
       "      <td>46.0</td>\n",
       "      <td>bd10hg20_008</td>\n",
       "      <td>bd_dry</td>\n",
       "      <td>0.013988</td>\n",
       "      <td>0.161599</td>\n",
       "      <td>0.000031</td>\n",
       "      <td>0.430929</td>\n",
       "    </tr>\n",
       "    <tr>\n",
       "      <th>107</th>\n",
       "      <td>10.0</td>\n",
       "      <td>bd10hg20_008</td>\n",
       "      <td>bd_dry</td>\n",
       "      <td>0.027411</td>\n",
       "      <td>0.316670</td>\n",
       "      <td>0.000061</td>\n",
       "      <td>0.844452</td>\n",
       "    </tr>\n",
       "  </tbody>\n",
       "</table>\n",
       "</div>"
      ],
      "text/plain": [
       "     mins solution_name experiment  mz85/mz283  mol85/mol283  \\\n",
       "102  23.0  bd10hg20_008     bd_dry    0.009295      0.107387   \n",
       "103  22.0  bd10hg20_008     bd_dry    0.014990      0.173175   \n",
       "104  21.0  bd10hg20_008     bd_dry    0.005597      0.064665   \n",
       "105  46.0  bd10hg20_008     bd_dry    0.013988      0.161599   \n",
       "107  10.0  bd10hg20_008     bd_dry    0.027411      0.316670   \n",
       "\n",
       "     mol85/mol283_std  mol85/mol85_0  \n",
       "102          0.000021       0.286365  \n",
       "103          0.000034       0.461799  \n",
       "104          0.000013       0.172441  \n",
       "105          0.000031       0.430929  \n",
       "107          0.000061       0.844452  "
      ]
     },
     "execution_count": 48,
     "metadata": {},
     "output_type": "execute_result"
    }
   ],
   "source": [
    "from src.d05_reporting.plot_ms_data import plot_ms_data\n",
    "\n",
    "df_calibrated = add_calibrated_ms_data_column(df_cleaned, experiments, analyte='Butenedial', internal_standard='PEG-6')\n",
    "df_calibrated.head()"
   ]
  },
  {
   "cell_type": "code",
   "execution_count": 49,
   "metadata": {},
   "outputs": [
    {
     "data": {
      "image/png": "[encoded data removed]",
      "text/plain": [
       "<Figure size 432x288 with 1 Axes>"
      ]
     },
     "metadata": {},
     "output_type": "display_data"
    }
   ],
   "source": [
    "plot_ms_data(df_calibrated, ['bd_wet', 'bd_na2so4_low'], 'mins', y_col_name='mol85/mol85_0', analyte='BD', internal_standard='PEG6')"
   ]
  }
 ],
 "metadata": {
  "kernelspec": {
   "display_name": "droplet",
   "language": "python",
   "name": "dropletenv"
  },
  "language_info": {
   "codemirror_mode": {
    "name": "ipython",
    "version": 3
   },
   "file_extension": ".py",
   "mimetype": "text/x-python",
   "name": "python",
   "nbconvert_exporter": "python",
   "pygments_lexer": "ipython3",
   "version": "3.7.4"
  }
 },
 "nbformat": 4,
 "nbformat_minor": 2
}
