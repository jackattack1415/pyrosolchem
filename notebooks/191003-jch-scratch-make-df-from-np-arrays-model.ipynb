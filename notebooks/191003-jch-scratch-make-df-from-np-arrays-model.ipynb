{
 "cells": [
  {
   "cell_type": "code",
   "execution_count": 1,
   "metadata": {},
   "outputs": [],
   "source": [
    "import os\n",
    "notebook_wd = os.getcwd()"
   ]
  },
  {
   "cell_type": "code",
   "execution_count": 2,
   "metadata": {},
   "outputs": [],
   "source": [
    "from datetime import date\n",
    "import matplotlib.pyplot as plt\n",
    "import seaborn as sns\n",
    "import numpy as np\n",
    "import pandas as pd"
   ]
  },
  {
   "cell_type": "code",
   "execution_count": 3,
   "metadata": {},
   "outputs": [],
   "source": [
    "os.chdir(os.path.join(notebook_wd, '..'))\n",
    "from src.d00_utils.conf_utils import *"
   ]
  },
  {
   "cell_type": "code",
   "execution_count": 4,
   "metadata": {},
   "outputs": [
    {
     "data": {
      "text/plain": [
       "{'bd_wet': {'raw_data_file': '190918-butenedial-droplets.csv',\n",
       "  'composition': {'PEG-6': 0.2, 'Butenedial': 0.075},\n",
       "  'solution_name': 'bd10hg20_002',\n",
       "  'idx_range': [16, 500],\n",
       "  'bad_idx': None,\n",
       "  'trap_time': [2, 300],\n",
       "  'other_query': '(rh>50 or trapped<5) and comp==\"bd10hg20_002\"',\n",
       "  'y_col': 'mz85_mz283',\n",
       "  'p283_cutoff': 1000,\n",
       "  'columns_to_keep': ['trapped', 'comp', 'experiment', 'mz85_mz283'],\n",
       "  'number_of_steps': 3000.0,\n",
       "  'r_init': 1.29e-05,\n",
       "  'T': 300.1,\n",
       "  'RH': 0.75,\n",
       "  'x_water': 0.795,\n",
       "  'value_idx': 0,\n",
       "  'norm_idx': 1,\n",
       "  'cal_data_time': 5,\n",
       "  'label': 'BD (wet)'},\n",
       " 'bd_dry': {'raw_data_file': '190918-butenedial-droplets.csv',\n",
       "  'composition': {'Butenedial': 0.075, 'PEG-6': 0.2},\n",
       "  'solution_name': 'bd10hg20_008',\n",
       "  'idx_range': [63, 500],\n",
       "  'bad_idx': [113],\n",
       "  'trap_time': [2, 50],\n",
       "  'other_query': 'rh<20 and comp==\"bd10hg20_008\"',\n",
       "  'y_col': 'mz85_mz283',\n",
       "  'p283_cutoff': 1000,\n",
       "  'columns_to_keep': ['trapped', 'comp', 'experiment', 'mz85_mz283'],\n",
       "  'number_of_steps': 3000.0,\n",
       "  'r_init': 1.29e-05,\n",
       "  'T': 300.1,\n",
       "  'RH': 0.025,\n",
       "  'x_water': 0.025,\n",
       "  'value_idx': 0,\n",
       "  'norm_idx': 1,\n",
       "  'cal_data_time': 5,\n",
       "  'label': 'BD (dry)'},\n",
       " 'bd_nacl_low': {'raw_data_file': '190918-butenedial-droplets.csv',\n",
       "  'composition': {'Butenedial': 0.113, 'PEG-6': 0.14, 'NaCl': 0.04},\n",
       "  'solution_name': 'bd15hg14sc02_001',\n",
       "  'idx_range': [16, 500],\n",
       "  'bad_idx': None,\n",
       "  'trap_time': [0, 250],\n",
       "  'other_query': 'rh>50 and comp==\"bd15hg14sc02_001\"',\n",
       "  'y_col': 'mz85_mz283',\n",
       "  'p283_cutoff': 1000,\n",
       "  'columns_to_keep': ['trapped', 'comp', 'experiment', 'mz85_mz283'],\n",
       "  'number_of_steps': 3000.0,\n",
       "  'r_init': [1.17e-05, 1.59e-05],\n",
       "  'T': [298.6, 301.6],\n",
       "  'RH': [0.7, 0.8],\n",
       "  'x_water': [0.74, 0.82],\n",
       "  'value_idx': 0,\n",
       "  'norm_idx': 1,\n",
       "  'cal_data_time': 30,\n",
       "  'label': 'BD + NaCl'},\n",
       " 'bd_nacl_high': {'raw_data_file': '190918-butenedial-droplets.csv',\n",
       "  'composition': {'Butenedial': 0.075, 'PEG-6': 0.1, 'NaCl': 0.2},\n",
       "  'solution_name': 'bd10hg10sc10_001',\n",
       "  'idx_range': [16, 125],\n",
       "  'bad_idx': [87],\n",
       "  'trap_time': [0, 250],\n",
       "  'other_query': 'rh>50 and comp==\"bd10hg10sc10_001\"',\n",
       "  'y_col': 'mz85_mz283',\n",
       "  'p283_cutoff': 1000,\n",
       "  'columns_to_keep': ['trapped', 'comp', 'experiment', 'mz85_mz283'],\n",
       "  'number_of_steps': 3000.0,\n",
       "  'r_init': [1.17e-05, 1.59e-05],\n",
       "  'T': [298.6, 301.6],\n",
       "  'RH': [0.7, 0.8],\n",
       "  'x_water': [0.79, 0.85],\n",
       "  'value_idx': 0,\n",
       "  'norm_idx': 1,\n",
       "  'cal_data_time': 20,\n",
       "  'label': 'BD + NaCl'},\n",
       " 'bd_na2so4_low': {'raw_data_file': '190918-butenedial-droplets.csv',\n",
       "  'composition': {'Butenedial': 0.075, 'PEG-6': 0.15, 'Na2SO4': 0.15},\n",
       "  'solution_name': 'bd10hg15ss05_001',\n",
       "  'idx_range': [16, 500],\n",
       "  'bad_idx': None,\n",
       "  'trap_time': [0, 250],\n",
       "  'other_query': 'rh>50 and date>=190130 and date<=190201 and comp==\"bd10hg15ss05_001\"',\n",
       "  'y_col': 'mz85_mz283',\n",
       "  'p283_cutoff': 1000,\n",
       "  'columns_to_keep': ['trapped', 'comp', 'experiment', 'mz85_mz283'],\n",
       "  'number_of_steps': 3000.0,\n",
       "  'r_init': [1.17e-05, 1.59e-05],\n",
       "  'T': [298.6, 301.6],\n",
       "  'RH': [0.7, 0.8],\n",
       "  'x_water': [0.76, 0.83],\n",
       "  'value_idx': 0,\n",
       "  'norm_idx': 1,\n",
       "  'cal_data_time': 15,\n",
       "  'label': 'BD + Na2SO4 (bd10hg15ss05)'},\n",
       " 'bd_na2so4_high': {'raw_data_file': '190918-butenedial-droplets.csv',\n",
       "  'composition': {'Butenedial': 0.075, 'PEG-6': 0.1, 'Na2SO4': 0.3},\n",
       "  'solution_name': 'bd10hg10ss10_001',\n",
       "  'idx_range': [16, 125],\n",
       "  'bad_idx': [83, 84, 85, 86],\n",
       "  'trap_time': [0, 250],\n",
       "  'other_query': 'rh>50 and comp==\"bd10hg10ss10_001\"',\n",
       "  'y_col': 'mz85_mz283',\n",
       "  'p283_cutoff': 1000,\n",
       "  'columns_to_keep': ['trapped', 'comp', 'experiment', 'mz85_mz283'],\n",
       "  'number_of_steps': 3000.0,\n",
       "  'r_init': [1.3e-05, 1.77e-05],\n",
       "  'T': [298.6, 301.6],\n",
       "  'RH': [0.7, 0.8],\n",
       "  'x_water': [0.77, 0.84],\n",
       "  'value_idx': 0,\n",
       "  'norm_idx': 1,\n",
       "  'cal_data_time': 15,\n",
       "  'label': 'BD + Na2SO4'}}"
      ]
     },
     "execution_count": 4,
     "metadata": {},
     "output_type": "execute_result"
    }
   ],
   "source": [
    "compounds, water = load_compounds()\n",
    "exp_params = load_experiments(['bd_wet', 'bd_dry', 'bd_nacl_low', 'bd_nacl_high','bd_na2so4_low', 'bd_na2so4_high'])\n",
    "constants = load_constants()\n",
    "paths = load_paths()\n",
    "exp_params"
   ]
  },
  {
   "cell_type": "code",
   "execution_count": 5,
   "metadata": {},
   "outputs": [
    {
     "data": {
      "text/plain": [
       "{'hexaethylene_glycol': {'name': 'PEG-6',\n",
       "  'D_g': 4.26e-06,\n",
       "  'mw': 0.2823,\n",
       "  'rho': 1180.0,\n",
       "  'c_inf': 0,\n",
       "  'vp': 0.000305,\n",
       "  'vp_min': 0.000256,\n",
       "  'vp_max': 0.000364,\n",
       "  'T_vp': 298,\n",
       "  'dH': 102100.0,\n",
       "  'dH_min': 100600.0,\n",
       "  'dH_max': 103600.0,\n",
       "  'mz': 283},\n",
       " 'butenedial': {'name': 'Butenedial',\n",
       "  'D_g': 8.556e-06,\n",
       "  'mw': 0.1201,\n",
       "  'rho': 1060,\n",
       "  'c_inf': 0,\n",
       "  'vp': 0.0342,\n",
       "  'T_vp': 298,\n",
       "  'dH': 77100.0,\n",
       "  'dH_max': 77500.0,\n",
       "  'dH_min': 76700.0,\n",
       "  'mz': 85}}"
      ]
     },
     "execution_count": 5,
     "metadata": {},
     "output_type": "execute_result"
    }
   ],
   "source": [
    "cmpds_to_select = ['hexaethylene_glycol','butenedial']\n",
    "compounds = { cmpd: compounds[cmpd] for cmpd in cmpds_to_select }\n",
    "compounds"
   ]
  },
  {
   "cell_type": "code",
   "execution_count": 6,
   "metadata": {},
   "outputs": [
    {
     "data": {
      "text/plain": [
       "{'raw_data_file': '190918-butenedial-droplets.csv',\n",
       " 'composition': {'PEG-6': 0.2, 'Butenedial': 0.075},\n",
       " 'solution_name': 'bd10hg20_002',\n",
       " 'idx_range': [16, 500],\n",
       " 'bad_idx': None,\n",
       " 'trap_time': [2, 300],\n",
       " 'other_query': '(rh>50 or trapped<5) and comp==\"bd10hg20_002\"',\n",
       " 'y_col': 'mz85_mz283',\n",
       " 'p283_cutoff': 1000,\n",
       " 'columns_to_keep': ['trapped', 'comp', 'experiment', 'mz85_mz283'],\n",
       " 'number_of_steps': 3000.0,\n",
       " 'r_init': 1.29e-05,\n",
       " 'T': 300.1,\n",
       " 'RH': 0.75,\n",
       " 'x_water': 0.795,\n",
       " 'value_idx': 0,\n",
       " 'norm_idx': 1,\n",
       " 'cal_data_time': 5,\n",
       " 'label': 'BD (wet)'}"
      ]
     },
     "execution_count": 6,
     "metadata": {},
     "output_type": "execute_result"
    }
   ],
   "source": [
    "exp_params['bd_wet']"
   ]
  },
  {
   "cell_type": "code",
   "execution_count": 7,
   "metadata": {},
   "outputs": [],
   "source": [
    "from src.d03_modeling.evaporate import evaporate\n",
    "df_model = evaporate(compounds, water, params=exp_params['bd_wet'])"
   ]
  },
  {
   "cell_type": "code",
   "execution_count": 8,
   "metadata": {},
   "outputs": [
    {
     "data": {
      "text/plain": [
       "<matplotlib.collections.PathCollection at 0x1eeb9d5b208>"
      ]
     },
     "execution_count": 8,
     "metadata": {},
     "output_type": "execute_result"
    },
    {
     "data": {
      "image/png": "[encoded data removed]",
      "text/plain": [
       "<Figure size 432x288 with 1 Axes>"
      ]
     },
     "metadata": {
      "needs_background": "light"
     },
     "output_type": "display_data"
    }
   ],
   "source": [
    "df_model.head()\n",
    "\n",
    "plt.scatter(df_model.secs/3600, df_model['n_butenedial']/df_model['n_hexaethylene_glycol'])"
   ]
  }
 ],
 "metadata": {
  "kernelspec": {
   "display_name": "droplet",
   "language": "python",
   "name": "dropletenv"
  },
  "language_info": {
   "codemirror_mode": {
    "name": "ipython",
    "version": 3
   },
   "file_extension": ".py",
   "mimetype": "text/x-python",
   "name": "python",
   "nbconvert_exporter": "python",
   "pygments_lexer": "ipython3",
   "version": "3.7.4"
  }
 },
 "nbformat": 4,
 "nbformat_minor": 2
}
