{
 "cells": [
  {
   "cell_type": "markdown",
   "metadata": {},
   "source": [
    "development of functions for baseline droplet chemistry scripts"
   ]
  },
  {
   "cell_type": "code",
   "execution_count": 1,
   "metadata": {},
   "outputs": [],
   "source": [
    "import ruamel.yaml\n",
    "import pandas as pd\n",
    "import os"
   ]
  },
  {
   "cell_type": "code",
   "execution_count": 2,
   "metadata": {},
   "outputs": [],
   "source": [
    "notebook_wd = os.getcwd()"
   ]
  },
  {
   "cell_type": "markdown",
   "metadata": {},
   "source": [
    "# imports\n",
    "\n",
    "will be updating scripts here iteratively, so the functions in these scripts should reflect changes made to the functions in the space below"
   ]
  },
  {
   "cell_type": "code",
   "execution_count": 3,
   "metadata": {},
   "outputs": [],
   "source": [
    "os.chdir(os.path.join(notebook_wd, '..'))\n",
    "from src.d00_utils.conf_utils import *\n",
    "from src.d00_utils.calc_utils import *"
   ]
  },
  {
   "cell_type": "code",
   "execution_count": 4,
   "metadata": {},
   "outputs": [
    {
     "data": {
      "text/plain": [
       "{'triethylene_glycol': {'name': 'PEG-3',\n",
       "  'D_g': 5.95e-06,\n",
       "  'mw': 0.1502,\n",
       "  'rho': 1108.0,\n",
       "  'c_inf': 0,\n",
       "  'vp': 0.0668,\n",
       "  'T_vp': 298,\n",
       "  'dH': 78300.0},\n",
       " 'hexaethylene_glycol': {'name': 'PEG-6',\n",
       "  'D_g': 4.26e-06,\n",
       "  'mw': 0.2823,\n",
       "  'rho': 1180.0,\n",
       "  'c_inf': 0,\n",
       "  'vp': 3.05e-05,\n",
       "  'T_vp': 298,\n",
       "  'dH': 102100.0}}"
      ]
     },
     "execution_count": 4,
     "metadata": {},
     "output_type": "execute_result"
    }
   ],
   "source": [
    "project_dir = get_project_directory()\n",
    "cmpds, water = load_compounds()\n",
    "cmpds"
   ]
  },
  {
   "cell_type": "code",
   "execution_count": 5,
   "metadata": {},
   "outputs": [
    {
     "data": {
      "text/plain": [
       "{'r_init': 5e-05,\n",
       " 'X_h2o': 0.7,\n",
       " 'composition': {'triethylene_glycol': 0.1, 'hexaethylene_glycol': 0.1}}"
      ]
     },
     "execution_count": 5,
     "metadata": {},
     "output_type": "execute_result"
    }
   ],
   "source": [
    "params = load_parameters()\n",
    "params"
   ]
  },
  {
   "cell_type": "markdown",
   "metadata": {},
   "source": [
    "# initialization"
   ]
  },
  {
   "cell_type": "code",
   "execution_count": 6,
   "metadata": {},
   "outputs": [],
   "source": [
    "from scipy.constants import pi\n",
    "\n",
    "def calculate_volume_from_radius(r):\n",
    "    \"\"\" Calculate volume from radius.\n",
    "\n",
    "    Parameters\n",
    "    ----------\n",
    "    r : float\n",
    "    radius of droplet in m.\n",
    "\n",
    "    Returns\n",
    "    -------\n",
    "    V : float\n",
    "    volume of droplet in m^3.\n",
    "    \"\"\"\n",
    "\n",
    "    r = float(r)\n",
    "    V = 4. / 3. * pi * r ** 3\n",
    "\n",
    "    return V"
   ]
  },
  {
   "cell_type": "code",
   "execution_count": 7,
   "metadata": {},
   "outputs": [
    {
     "data": {
      "text/plain": [
       "5.235987755982989e-13"
      ]
     },
     "execution_count": 7,
     "metadata": {},
     "output_type": "execute_result"
    }
   ],
   "source": [
    "v_init = calculate_volume_from_radius(params['r_init'])\n",
    "v_init"
   ]
  },
  {
   "cell_type": "code",
   "execution_count": 8,
   "metadata": {},
   "outputs": [],
   "source": [
    "def normalize(unnormalized_array):\n",
    "    \"\"\" Takes in an unnormalized array and normalizes it.\n",
    "\n",
    "    Parameters\n",
    "    ----------\n",
    "    unnormalized_array : array\n",
    "    array of some values that are unnormalized\n",
    "\n",
    "    Returns\n",
    "    -------\n",
    "    normalized_array : array\n",
    "    array of some values that are normalized\n",
    "    \"\"\"\n",
    "\n",
    "    total = unnormalized_array.sum()\n",
    "    normalized_array = np.true_divide(unnormalized_array, total)\n",
    "\n",
    "    return normalized_array"
   ]
  },
  {
   "cell_type": "code",
   "execution_count": 9,
   "metadata": {},
   "outputs": [
    {
     "name": "stdout",
     "output_type": "stream",
     "text": [
      "[0.5 0.5]\n"
     ]
    }
   ],
   "source": [
    "comp = np.array(list(params['composition'].values()))\n",
    "comp = normalize(comp)\n",
    "print(comp)"
   ]
  },
  {
   "cell_type": "code",
   "execution_count": 10,
   "metadata": {},
   "outputs": [],
   "source": [
    "def calculate_mole_fractions_from_molar_abundances(composition, x_water=0):\n",
    "    \n",
    "    if type(composition) is dict:\n",
    "        composition = np.array(list(composition.values()))\n",
    "    \n",
    "    composition = normalize(composition)\n",
    "    xs_cmpd = composition * (1 - x_water)\n",
    "    \n",
    "    return xs_cmpd"
   ]
  },
  {
   "cell_type": "code",
   "execution_count": 11,
   "metadata": {},
   "outputs": [],
   "source": [
    "def calculate_moles_from_volume(V, compounds, water, xs_cmpd, x_water=0):\n",
    "    \"\"\" Calculate volume from the mole fractions of a list of compounds in solution.\n",
    "\n",
    "    Parameters\n",
    "    ----------\n",
    "    V : float\n",
    "    Volume of solution in m^3.\n",
    "    \n",
    "    compounds : dict\n",
    "    Dict of dicts for each component.\n",
    "\n",
    "    composition : numpy.array or dict\n",
    "    2D numpy array of molar amounts of non-aqueous material. First index is entry number\n",
    "    (e.g., each timestep), second index is index of component in `components`.\n",
    "    \n",
    "    X_h2o : float\n",
    "    mole fraction of water in solution.\n",
    "\n",
    "    Returns\n",
    "    -------\n",
    "    ns_compound : numpy.array\n",
    "    1D array of moles of compounds according to composition and droplet size.\n",
    "    \"\"\"\n",
    "\n",
    "    xs = np.append(xs_cmpd, x_water)\n",
    "    cmpds = { **compounds, **{'water' : water} }\n",
    "\n",
    "    mw_avg = np.average([defs['mw'] for name, defs in cmpds.items()],\n",
    "                        weights=xs)\n",
    "\n",
    "    rho_avg = np.average([defs['rho'] for name, defs in cmpds.items()],\n",
    "                         weights=xs)\n",
    "\n",
    "    m_total = V * rho_avg\n",
    "    n_total = m_total / mw_avg\n",
    "    ns_cmpd = xs_cmpd * n_total\n",
    "\n",
    "    return ns_cmpd"
   ]
  },
  {
   "cell_type": "code",
   "execution_count": 12,
   "metadata": {},
   "outputs": [
    {
     "data": {
      "text/plain": [
       "array([1.38496416e-09, 1.38496416e-09])"
      ]
     },
     "execution_count": 12,
     "metadata": {},
     "output_type": "execute_result"
    }
   ],
   "source": [
    "xs_cmpd = calculate_mole_fractions_from_molar_abundances(params['composition'], x_water=0)\n",
    "ns_droplet = calculate_moles_from_volume(v_init, cmpds, water, xs_cmpd, x_water=0)\n",
    "ns_droplet"
   ]
  },
  {
   "cell_type": "markdown",
   "metadata": {},
   "source": [
    "# building of the evaporation model"
   ]
  },
  {
   "cell_type": "code",
   "execution_count": 13,
   "metadata": {},
   "outputs": [],
   "source": [
    "def calculate_volume_from_moles(compounds, ns):\n",
    " \n",
    "    mw_avg = np.average([defs['mw'] for name, defs in compounds.items()],\n",
    "                        weights=ns)\n",
    "\n",
    "    rho_avg = np.average([defs['rho'] for name, defs in compounds.items()],\n",
    "                         weights=ns)\n",
    "    \n",
    "    n_total = ns.sum()\n",
    "    V = n_total * mw_avg / rho_avg\n",
    "\n",
    "    return V"
   ]
  },
  {
   "cell_type": "code",
   "execution_count": 15,
   "metadata": {},
   "outputs": [],
   "source": [
    "import numpy as np\n",
    "from scipy.constants import k, pi\n",
    "\n",
    "from src.d00_utils.calc_utils import convert_moles_to_volume, convert_volume_to_radius\n",
    "from src.d00_utils.misc_utils import normalize\n",
    "\n",
    "\n",
    "def dn_gas_particle_partitioning(ns_cmpd, c_infs, vps, D_gs, T, compounds, water, x_water=0):\n",
    "    '''Construct differential equations to describe change in n.\n",
    "\n",
    "    Parameters:\n",
    "    -----------\n",
    "    t : float\n",
    "    Time\n",
    "    y: ndarray\n",
    "    1D-array of number of molecules of each component.\n",
    "    Ma : ndarray\n",
    "    1D-array of molecular weights, kg molec^-1.\n",
    "    rho : ndarray\n",
    "    1D-array of number of densities, kg m^-3.\n",
    "    cinf : ndarray\n",
    "    1D-array of concentration of substance at infinite distance, molec m^-3.\n",
    "    po : ndarray\n",
    "    1D-array of pure compound vapor pressures, Pa.\n",
    "    Dg : ndarray\n",
    "    1D-array of gas-phase diffusivities, m^2 s^-1.\n",
    "    T : float\n",
    "    Temperature, K.\n",
    "    has_water : boolean\n",
    "    Include water in calculation.\n",
    "    xh2o : float\n",
    "    Fixed water mole fraction. Only used if has_water is True.\n",
    "\n",
    "    Outputs\n",
    "    -------\n",
    "    dn : ndarray\n",
    "    1D-array of dn for all components.\n",
    "    '''\n",
    "\n",
    "    n_water = x_water * ns_cmpd.sum() / (1 - x_water)\n",
    "    \n",
    "    # add water back to compounds and ns for radius calculation\n",
    "    ns = np.append(ns_cmpd, n_water)\n",
    "    cmpds = { **compounds, **{'water' : water} }\n",
    "    \n",
    "    V = convert_moles_to_volume(cmpds, ns)\n",
    "    r = convert_volume_to_radius(V)\n",
    "    \n",
    "    xs = calculate_mole_fractions_from_molar_abundances(ns_cmpd, x_water=x_water)\n",
    "    c_sats = xs * vps / T  # assume ideal mixing to calculate saturation concentration at surface\n",
    "    \n",
    "    # maxwellian flux\n",
    "    dns = 4 * pi * r * (D_gs * (c_infs - c_sats))\n",
    "\n",
    "    return dns"
   ]
  },
  {
   "cell_type": "code",
   "execution_count": 17,
   "metadata": {},
   "outputs": [
    {
     "data": {
      "text/plain": [
       "array([-4.19012556e-13, -1.36975548e-16])"
      ]
     },
     "execution_count": 17,
     "metadata": {},
     "output_type": "execute_result"
    }
   ],
   "source": [
    "c_infs = [compound_defs['c_inf'] for compound_name, compound_defs in cmpds.items()]\n",
    "D_gs = [compound_defs['D_g'] for compound_name, compound_defs in cmpds.items()]\n",
    "vps = [compound_defs['vp'] for compound_name, compound_defs in cmpds.items()]\n",
    "T = 298\n",
    "\n",
    "dns_droplet = dn_gas_particle_partitioning(ns_droplet, c_infs, vps, D_gs, T, cmpds, water, x_water=0)\n",
    "dns_droplet"
   ]
  },
  {
   "cell_type": "code",
   "execution_count": 18,
   "metadata": {},
   "outputs": [],
   "source": [
    "x_water = 0\n",
    "dict_test = {'c_infs' : c_infs, 'vps' : vps, 'D_gs' : D_gs, 'T' : T, 'cmpds' : cmpds, 'water' : water, 'x_water' : x_water}"
   ]
  },
  {
   "cell_type": "code",
   "execution_count": 51,
   "metadata": {},
   "outputs": [],
   "source": [
    "import numpy as np\n",
    "from scipy.constants import pi\n",
    "\n",
    "from src.d00_utils.calc_utils import (convert_moles_to_volume, convert_volume_to_radius,\n",
    "                                      convert_molar_abundances_to_mole_fractions, calculate_vp_from_reference)\n",
    "from src.d00_utils.misc_utils import unpack_dictionary\n",
    "\n",
    "\n",
    "def dn_gas_particle_partitioning(t, n_cmpds, gas_particle_partitioning_dict):\n",
    "    \"\"\"Construct differential equations to describe change in n.\n",
    "\n",
    "    Parameters:\n",
    "    -----------\n",
    "    t : int\n",
    "    time step in seconds.\n",
    "    ns_cmpd : ndarray\n",
    "    1D-array of moles of compounds.\n",
    "    c_infs: ndarray\n",
    "    1D-array of gas-phase background concentrations of compounds, mol m^-3.\n",
    "    vps : ndarray\n",
    "    1D-array of saturation vapor pressures at T, Pa.\n",
    "    D_gs : ndarray\n",
    "    1D-array of gas-phase diffusivities, m^2 s^-1.\n",
    "    T : float\n",
    "    temperature, K.\n",
    "    compounds : dict(dict)\n",
    "    dictionary of compounds and their definitions.\n",
    "    water : dict\n",
    "    dictionary of water definitions.\n",
    "    x_water : float\n",
    "    water mole fraction.\n",
    "\n",
    "    Outputs\n",
    "    -------\n",
    "    dn : ndarray\n",
    "    1D-array of dn for all compounds (excluding water).\n",
    "    \"\"\"\n",
    "\n",
    "    def unpack(c_infs, D_gs, vps, T, compounds, water, x_water):\n",
    "        return c_infs, D_gs, vps, T, compounds, water, x_water\n",
    "    \n",
    "    c_infs, D_gs, vps, T, compounds, water, x_water = unpack(**gas_particle_partitioning_dict)\n",
    "    \n",
    "    try:\n",
    "        x_water, compounds, water, vps, T, D_gs, c_infs\n",
    "    except NameError:\n",
    "        print('evaporate_params dictionary is missing variables')\n",
    "\n",
    "    n_water = x_water * n_cmpds.sum() / (1 - x_water)\n",
    "\n",
    "    # add water back to compounds and ns for radius calculation\n",
    "    ns = np.append(n_cmpds, n_water)\n",
    "    cmpds = {**compounds, **{'water': water}}\n",
    "\n",
    "    V = convert_moles_to_volume(compounds=cmpds,\n",
    "                                ns=ns)\n",
    "    r = convert_volume_to_radius(V=V)\n",
    "\n",
    "    xs = convert_molar_abundances_to_mole_fractions(composition=n_cmpds,\n",
    "                                                    x_water=x_water)\n",
    "    c_sats = xs * vps / T  # assume ideal mixing to calculate saturation concentration at surface\n",
    "\n",
    "    # maxwellian flux\n",
    "    dns = 4 * pi * r * (D_gs * (c_infs - c_sats))\n",
    "\n",
    "    return dns\n",
    "\n",
    "\n",
    "def pack_evaporate_params(compounds, water, T, x_water=0):\n",
    "    '''Calculate evaporation of multicomponent particle.\n",
    "\n",
    "    Parameters\n",
    "    ----------\n",
    "    compounds : list\n",
    "    List of compounds of particles, each represented as a dict of parameters.\n",
    "\n",
    "    ninit : numpy.ndarray\n",
    "    1D array of starting number of molecules of each compound in `compounds`.\n",
    "\n",
    "    T : float\n",
    "    Temperature of evaporation, K.\n",
    "\n",
    "    num : int\n",
    "    Total number of integrated time points, including t=0.\n",
    "\n",
    "    dt : float\n",
    "    Integration timestep, s.\n",
    "\n",
    "    has_water : boolean (optional, default False)\n",
    "    Toggle whether the presence of water is considered in calculating\n",
    "    evaporation (separate from list of `compounds`).\n",
    "\n",
    "    xh2o : float (optional, default None)\n",
    "    Fixed mole fraction of water to include in particle. Only considered if\n",
    "    `has_water` is True.\n",
    "\n",
    "    Returns\n",
    "    -------\n",
    "    output : numpy.ndarray\n",
    "    2D array of results from integration: number of molecules of each compound\n",
    "    remaining at each timestep. First index is along `num` timesteps and second\n",
    "    index is along `len(compounds)` compounds.\n",
    "    '''\n",
    "\n",
    "    # extract data from compounds and build data arrays\n",
    "    c_infs = np.array([defs['c_inf'] for name, defs in compounds.items()])\n",
    "    D_gs = np.array([defs['D_g'] for name, defs in compounds.items()])\n",
    "    \n",
    "    vp_refs = np.array([defs['vp'] for name, defs in compounds.items()])\n",
    "    dHs = np.array([defs['dH'] for name, defs in compounds.items()])\n",
    "    T_refs = np.array([defs['T_vp'] for name, defs in compounds.items()])\n",
    "    \n",
    "    vps = np.empty(len(vp_refs))\n",
    "    for tick in range(len(vps)):\n",
    "        vps[tick] = calculate_vp_from_reference(vp_ref=vp_refs[tick],\n",
    "                                                dH=dHs[tick],\n",
    "                                                T_ref=T_refs[tick],\n",
    "                                                T_desired=T)\n",
    "\n",
    "    gas_particle_partitioning_dict = {'c_infs': c_infs, 'D_gs': D_gs, 'vps': vps,\n",
    "                                      'T': T, 'compounds': compounds, 'water': water, 'x_water': x_water}\n",
    "\n",
    "    return gas_particle_partitioning_dict\n"
   ]
  },
  {
   "cell_type": "code",
   "execution_count": 50,
   "metadata": {},
   "outputs": [
    {
     "data": {
      "text/plain": [
       "array([-3.00670095e-13, -9.82893008e-17])"
      ]
     },
     "execution_count": 50,
     "metadata": {},
     "output_type": "execute_result"
    }
   ],
   "source": [
    "gp_dict = pack_evaporate_params(cmpds, water, T=298, x_water=0.3)\n",
    "t=1\n",
    "dns_test = dn_gas_particle_partitioning(t, ns_droplet, gp_dict)\n",
    "dns_test"
   ]
  },
  {
   "cell_type": "code",
   "execution_count": 52,
   "metadata": {},
   "outputs": [],
   "source": [
    "import numpy as np\n",
    "from scipy.integrate import ode\n",
    "\n",
    "def perform_dn(function, function_params_dict, n_inits, step_count, step=1):\n",
    "    \"\"\"\"\"\"\n",
    "\n",
    "    output = np.empty((int(step_count), len(n_inits)))\n",
    "    output[0, :] = n_inits\n",
    "\n",
    "    r = ode(function)\n",
    "    r.set_integrator('lsoda', with_jacobian=False,)\n",
    "    r.set_initial_value(n_inits, t=0)\n",
    "    r.set_f_params(function_params_dict)\n",
    "\n",
    "    entry = 0\n",
    "    while r.successful() and entry < step_count - 1:\n",
    "        entry = int(round(r.t / step)) + 1\n",
    "        next_step = r.integrate(r.t + step)\n",
    "        output[entry, :] = next_step\n",
    "\n",
    "    return output"
   ]
  },
  {
   "cell_type": "code",
   "execution_count": 56,
   "metadata": {},
   "outputs": [
    {
     "data": {
      "text/plain": [
       "array([[1.38496416e-09, 1.38496416e-09],\n",
       "       [1.35510007e-09, 1.38495429e-09],\n",
       "       [1.32564182e-09, 1.38494434e-09],\n",
       "       ...,\n",
       "       [2.88449753e-15, 1.15445073e-10],\n",
       "       [2.88454692e-15, 1.15437792e-10],\n",
       "       [2.88459629e-15, 1.15430511e-10]])"
      ]
     },
     "execution_count": 56,
     "metadata": {},
     "output_type": "execute_result"
    }
   ],
   "source": [
    "perform_dn(dn_gas_particle_partitioning, gp_dict, ns_droplet, 100000, step=100)"
   ]
  }
 ],
 "metadata": {
  "kernelspec": {
   "display_name": "droplet",
   "language": "python",
   "name": "dropletenv"
  },
  "language_info": {
   "codemirror_mode": {
    "name": "ipython",
    "version": 3
   },
   "file_extension": ".py",
   "mimetype": "text/x-python",
   "name": "python",
   "nbconvert_exporter": "python",
   "pygments_lexer": "ipython3",
   "version": "3.7.4"
  }
 },
 "nbformat": 4,
 "nbformat_minor": 2
}
