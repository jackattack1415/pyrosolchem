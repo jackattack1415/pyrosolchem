{
 "cells": [
  {
   "cell_type": "markdown",
   "metadata": {},
   "source": [
    "## Reexploring the butenedial_ammonia_droplets.csv dataset with new functions to see experimental landscape"
   ]
  },
  {
   "cell_type": "code",
   "execution_count": 1,
   "metadata": {},
   "outputs": [],
   "source": [
    "import os\n",
    "notebook_wd = os.getcwd()"
   ]
  },
  {
   "cell_type": "code",
   "execution_count": 2,
   "metadata": {},
   "outputs": [],
   "source": [
    "import pandas as pd\n",
    "import numpy as np\n",
    "import seaborn as sns\n",
    "\n",
    "os.chdir(os.path.join(notebook_wd, '..'))\n",
    "from src.d00_utils.conf_utils import *\n",
    "from src.d00_utils.processing_utils import perform_bootstrap"
   ]
  },
  {
   "cell_type": "code",
   "execution_count": 3,
   "metadata": {},
   "outputs": [
    {
     "data": {
      "text/plain": [
       "{'bd_as_vial': {'raw_data_file': '190918-butenedial-ammonia-droplets.csv',\n",
       "  'composition': {'Butenedial': '0.75*0.07',\n",
       "   'PEG-6': 0.2,\n",
       "   'NH42SO4': '0.03*3'},\n",
       "  'solution_name': None,\n",
       "  'bad_idx': None,\n",
       "  'idx_range': None,\n",
       "  'trap_time': [0, 10],\n",
       "  'other_query': 'comptype==\"bd07hg20as03\" and trapped<10 and p283>30000',\n",
       "  'y_col': 'mz84_mz283',\n",
       "  'p283_cutoff': 30000,\n",
       "  'columns_to_keep': ['trapped',\n",
       "   'comp',\n",
       "   'experiment',\n",
       "   'vial',\n",
       "   'mz84_mz283',\n",
       "   'mz85_mz283']},\n",
       " 'bd_as_droplet': {'raw_data_file': '190918-butenedial-ammonia-droplets.csv',\n",
       "  'composition': {'Butenedial': '0.75*0.07',\n",
       "   'PEG-6': 0.2,\n",
       "   'NH42SO4': '0.03*3'},\n",
       "  'solution_comp': 'bd07hg20as03',\n",
       "  'bad_idx': 100,\n",
       "  'idx_range': None,\n",
       "  'trap_time': None,\n",
       "  'other_query': 'vial<10 and comptype==\"bd07hg20as03\"',\n",
       "  'y_col': 'mz84_mz283',\n",
       "  'p283_cutoff': 30000,\n",
       "  'columns_to_keep': ['trapped',\n",
       "   'comp',\n",
       "   'experiment',\n",
       "   'vial',\n",
       "   'mz84_mz283',\n",
       "   'mz85_mz283']}}"
      ]
     },
     "execution_count": 3,
     "metadata": {},
     "output_type": "execute_result"
    }
   ],
   "source": [
    "compounds, water = load_compounds()\n",
    "experiments = load_experiments(['bd_as_vial', 'bd_as_droplet'])\n",
    "constants = load_constants()\n",
    "paths = load_paths()\n",
    "experiments"
   ]
  },
  {
   "cell_type": "code",
   "execution_count": 4,
   "metadata": {},
   "outputs": [],
   "source": [
    "from src.d01_data.clean_ms_data import *"
   ]
  },
  {
   "cell_type": "code",
   "execution_count": 5,
   "metadata": {},
   "outputs": [
    {
     "data": {
      "text/html": [
       "<div>\n",
       "<style scoped>\n",
       "    .dataframe tbody tr th:only-of-type {\n",
       "        vertical-align: middle;\n",
       "    }\n",
       "\n",
       "    .dataframe tbody tr th {\n",
       "        vertical-align: top;\n",
       "    }\n",
       "\n",
       "    .dataframe thead th {\n",
       "        text-align: right;\n",
       "    }\n",
       "</style>\n",
       "<table border=\"1\" class=\"dataframe\">\n",
       "  <thead>\n",
       "    <tr style=\"text-align: right;\">\n",
       "      <th></th>\n",
       "      <th>mins</th>\n",
       "      <th>solution_name</th>\n",
       "      <th>experiment</th>\n",
       "      <th>vial</th>\n",
       "      <th>mz84_mz283</th>\n",
       "      <th>mz85_mz283</th>\n",
       "    </tr>\n",
       "  </thead>\n",
       "  <tbody>\n",
       "    <tr>\n",
       "      <th>8</th>\n",
       "      <td>3.0</td>\n",
       "      <td>bd07hg20as03_002</td>\n",
       "      <td>bd_as_vial</td>\n",
       "      <td>1072.0</td>\n",
       "      <td>0.040180</td>\n",
       "      <td>0.033534</td>\n",
       "    </tr>\n",
       "    <tr>\n",
       "      <th>9</th>\n",
       "      <td>3.0</td>\n",
       "      <td>bd07hg20as03_002</td>\n",
       "      <td>bd_as_vial</td>\n",
       "      <td>1082.0</td>\n",
       "      <td>0.035870</td>\n",
       "      <td>0.044183</td>\n",
       "    </tr>\n",
       "    <tr>\n",
       "      <th>14</th>\n",
       "      <td>4.0</td>\n",
       "      <td>bd07hg20as03_006</td>\n",
       "      <td>bd_as_vial</td>\n",
       "      <td>1000.0</td>\n",
       "      <td>0.021963</td>\n",
       "      <td>0.016611</td>\n",
       "    </tr>\n",
       "    <tr>\n",
       "      <th>17</th>\n",
       "      <td>7.0</td>\n",
       "      <td>bd07hg20as03_007</td>\n",
       "      <td>bd_as_vial</td>\n",
       "      <td>61.0</td>\n",
       "      <td>0.002801</td>\n",
       "      <td>0.015251</td>\n",
       "    </tr>\n",
       "    <tr>\n",
       "      <th>19</th>\n",
       "      <td>4.0</td>\n",
       "      <td>bd07hg20as03_008</td>\n",
       "      <td>bd_as_vial</td>\n",
       "      <td>145.0</td>\n",
       "      <td>0.004552</td>\n",
       "      <td>0.011642</td>\n",
       "    </tr>\n",
       "  </tbody>\n",
       "</table>\n",
       "</div>"
      ],
      "text/plain": [
       "    mins     solution_name  experiment    vial  mz84_mz283  mz85_mz283\n",
       "8    3.0  bd07hg20as03_002  bd_as_vial  1072.0    0.040180    0.033534\n",
       "9    3.0  bd07hg20as03_002  bd_as_vial  1082.0    0.035870    0.044183\n",
       "14   4.0  bd07hg20as03_006  bd_as_vial  1000.0    0.021963    0.016611\n",
       "17   7.0  bd07hg20as03_007  bd_as_vial    61.0    0.002801    0.015251\n",
       "19   4.0  bd07hg20as03_008  bd_as_vial   145.0    0.004552    0.011642"
      ]
     },
     "execution_count": 5,
     "metadata": {},
     "output_type": "execute_result"
    }
   ],
   "source": [
    "df_cleaned = filter_and_clean_data(ms_file_name=paths['raw_data'], experiment_parameters=experiments)\n",
    "df_cleaned.head()"
   ]
  },
  {
   "cell_type": "code",
   "execution_count": 6,
   "metadata": {},
   "outputs": [
    {
     "data": {
      "text/plain": [
       "<matplotlib.axes._subplots.AxesSubplot at 0x1c5edc04288>"
      ]
     },
     "execution_count": 6,
     "metadata": {},
     "output_type": "execute_result"
    },
    {
     "data": {
      "image/png": "[encoded data removed]",
      "text/plain": [
       "<Figure size 432x288 with 1 Axes>"
      ]
     },
     "metadata": {
      "needs_background": "light"
     },
     "output_type": "display_data"
    }
   ],
   "source": [
    "import seaborn as sns\n",
    "sns.scatterplot(df_cleaned['mins'], df_cleaned.vial)"
   ]
  },
  {
   "cell_type": "code",
   "execution_count": 7,
   "metadata": {},
   "outputs": [
    {
     "data": {
      "text/plain": [
       "8     17.916667\n",
       "9     18.083333\n",
       "14    16.733333\n",
       "17     1.133333\n",
       "19     2.483333\n",
       "Name: hrs, dtype: float64"
      ]
     },
     "execution_count": 7,
     "metadata": {},
     "output_type": "execute_result"
    }
   ],
   "source": [
    "df_cleaned['hrs'] = (df_cleaned.mins + df_cleaned.vial) / 60\n",
    "df_cleaned.hrs.head()"
   ]
  },
  {
   "cell_type": "code",
   "execution_count": 8,
   "metadata": {},
   "outputs": [
    {
     "data": {
      "text/html": [
       "<div>\n",
       "<style scoped>\n",
       "    .dataframe tbody tr th:only-of-type {\n",
       "        vertical-align: middle;\n",
       "    }\n",
       "\n",
       "    .dataframe tbody tr th {\n",
       "        vertical-align: top;\n",
       "    }\n",
       "\n",
       "    .dataframe thead th {\n",
       "        text-align: right;\n",
       "    }\n",
       "</style>\n",
       "<table border=\"1\" class=\"dataframe\">\n",
       "  <thead>\n",
       "    <tr style=\"text-align: right;\">\n",
       "      <th></th>\n",
       "      <th>solution_name</th>\n",
       "      <th>experiment</th>\n",
       "      <th>mz84_mz283</th>\n",
       "      <th>mz85_mz283</th>\n",
       "      <th>hrs</th>\n",
       "    </tr>\n",
       "  </thead>\n",
       "  <tbody>\n",
       "    <tr>\n",
       "      <th>8</th>\n",
       "      <td>bd07hg20as03_002</td>\n",
       "      <td>bd_as_vial</td>\n",
       "      <td>0.040180</td>\n",
       "      <td>0.033534</td>\n",
       "      <td>17.916667</td>\n",
       "    </tr>\n",
       "    <tr>\n",
       "      <th>9</th>\n",
       "      <td>bd07hg20as03_002</td>\n",
       "      <td>bd_as_vial</td>\n",
       "      <td>0.035870</td>\n",
       "      <td>0.044183</td>\n",
       "      <td>18.083333</td>\n",
       "    </tr>\n",
       "    <tr>\n",
       "      <th>14</th>\n",
       "      <td>bd07hg20as03_006</td>\n",
       "      <td>bd_as_vial</td>\n",
       "      <td>0.021963</td>\n",
       "      <td>0.016611</td>\n",
       "      <td>16.733333</td>\n",
       "    </tr>\n",
       "    <tr>\n",
       "      <th>17</th>\n",
       "      <td>bd07hg20as03_007</td>\n",
       "      <td>bd_as_vial</td>\n",
       "      <td>0.002801</td>\n",
       "      <td>0.015251</td>\n",
       "      <td>1.133333</td>\n",
       "    </tr>\n",
       "    <tr>\n",
       "      <th>19</th>\n",
       "      <td>bd07hg20as03_008</td>\n",
       "      <td>bd_as_vial</td>\n",
       "      <td>0.004552</td>\n",
       "      <td>0.011642</td>\n",
       "      <td>2.483333</td>\n",
       "    </tr>\n",
       "  </tbody>\n",
       "</table>\n",
       "</div>"
      ],
      "text/plain": [
       "       solution_name  experiment  mz84_mz283  mz85_mz283        hrs\n",
       "8   bd07hg20as03_002  bd_as_vial    0.040180    0.033534  17.916667\n",
       "9   bd07hg20as03_002  bd_as_vial    0.035870    0.044183  18.083333\n",
       "14  bd07hg20as03_006  bd_as_vial    0.021963    0.016611  16.733333\n",
       "17  bd07hg20as03_007  bd_as_vial    0.002801    0.015251   1.133333\n",
       "19  bd07hg20as03_008  bd_as_vial    0.004552    0.011642   2.483333"
      ]
     },
     "execution_count": 8,
     "metadata": {},
     "output_type": "execute_result"
    }
   ],
   "source": [
    "df_cleaned.drop(['vial','mins'], axis=1).head()"
   ]
  },
  {
   "cell_type": "code",
   "execution_count": 9,
   "metadata": {},
   "outputs": [
    {
     "data": {
      "image/png": "[encoded data removed]",
      "text/plain": [
       "<Figure size 432x288 with 1 Axes>"
      ]
     },
     "metadata": {},
     "output_type": "display_data"
    }
   ],
   "source": [
    "from src.d05_reporting.plot_ms_data import plot_ms_data\n",
    "\n",
    "plot_ms_data(df_cleaned, experiment_names=['bd_as_vial', 'bd_as_droplet'], t_col_name='hrs', y_col_name='mz84_mz283', analyte='Pyrrolinone')"
   ]
  },
  {
   "cell_type": "code",
   "execution_count": 218,
   "metadata": {},
   "outputs": [],
   "source": [
    "experiments_nh3g = load_experiments(['bd_nh3g'])\n",
    "\n",
    "df_nh3g_cleaned = filter_and_clean_data(ms_file_name='190924-butenedial-nh3g-droplets.csv', experiment_parameters=experiments_nh3g)"
   ]
  },
  {
   "cell_type": "code",
   "execution_count": 11,
   "metadata": {},
   "outputs": [
    {
     "data": {
      "text/html": [
       "<div>\n",
       "<style scoped>\n",
       "    .dataframe tbody tr th:only-of-type {\n",
       "        vertical-align: middle;\n",
       "    }\n",
       "\n",
       "    .dataframe tbody tr th {\n",
       "        vertical-align: top;\n",
       "    }\n",
       "\n",
       "    .dataframe thead th {\n",
       "        text-align: right;\n",
       "    }\n",
       "</style>\n",
       "<table border=\"1\" class=\"dataframe\">\n",
       "  <thead>\n",
       "    <tr style=\"text-align: right;\">\n",
       "      <th></th>\n",
       "      <th>mins</th>\n",
       "      <th>solution</th>\n",
       "      <th>nominal_nh3_molarity</th>\n",
       "      <th>mz84_mz283</th>\n",
       "      <th>mz85_mz283</th>\n",
       "      <th>mz149_mz283</th>\n",
       "    </tr>\n",
       "  </thead>\n",
       "  <tbody>\n",
       "    <tr>\n",
       "      <th>8</th>\n",
       "      <td>3</td>\n",
       "      <td>butenedial-peg6-181016</td>\n",
       "      <td>0.00</td>\n",
       "      <td>0.001706</td>\n",
       "      <td>0.005410</td>\n",
       "      <td>0.000648</td>\n",
       "    </tr>\n",
       "    <tr>\n",
       "      <th>9</th>\n",
       "      <td>3</td>\n",
       "      <td>butenedial-peg6-181016</td>\n",
       "      <td>1.45</td>\n",
       "      <td>0.027495</td>\n",
       "      <td>0.001060</td>\n",
       "      <td>0.009438</td>\n",
       "    </tr>\n",
       "    <tr>\n",
       "      <th>10</th>\n",
       "      <td>3</td>\n",
       "      <td>butenedial-peg6-181016</td>\n",
       "      <td>0.00</td>\n",
       "      <td>0.003821</td>\n",
       "      <td>0.007328</td>\n",
       "      <td>0.000598</td>\n",
       "    </tr>\n",
       "    <tr>\n",
       "      <th>11</th>\n",
       "      <td>4</td>\n",
       "      <td>butenedial-peg6-181016</td>\n",
       "      <td>0.00</td>\n",
       "      <td>0.000974</td>\n",
       "      <td>0.006895</td>\n",
       "      <td>0.001039</td>\n",
       "    </tr>\n",
       "    <tr>\n",
       "      <th>12</th>\n",
       "      <td>18</td>\n",
       "      <td>butenedial-peg6-181016</td>\n",
       "      <td>1.45</td>\n",
       "      <td>0.022977</td>\n",
       "      <td>0.000669</td>\n",
       "      <td>0.022730</td>\n",
       "    </tr>\n",
       "  </tbody>\n",
       "</table>\n",
       "</div>"
      ],
      "text/plain": [
       "    mins                solution  nominal_nh3_molarity  mz84_mz283  \\\n",
       "8      3  butenedial-peg6-181016                  0.00    0.001706   \n",
       "9      3  butenedial-peg6-181016                  1.45    0.027495   \n",
       "10     3  butenedial-peg6-181016                  0.00    0.003821   \n",
       "11     4  butenedial-peg6-181016                  0.00    0.000974   \n",
       "12    18  butenedial-peg6-181016                  1.45    0.022977   \n",
       "\n",
       "    mz85_mz283  mz149_mz283  \n",
       "8     0.005410     0.000648  \n",
       "9     0.001060     0.009438  \n",
       "10    0.007328     0.000598  \n",
       "11    0.006895     0.001039  \n",
       "12    0.000669     0.022730  "
      ]
     },
     "execution_count": 11,
     "metadata": {},
     "output_type": "execute_result"
    }
   ],
   "source": [
    "df_nh3g_cleaned.head()"
   ]
  },
  {
   "cell_type": "code",
   "execution_count": 219,
   "metadata": {},
   "outputs": [
    {
     "data": {
      "text/plain": [
       "['bd_nh3g_0', 'bd_nh3g_14500', 'bd_nh3g_1450', 'bd_nh3g_145', 'bd_nh3g_28']"
      ]
     },
     "execution_count": 219,
     "metadata": {},
     "output_type": "execute_result"
    }
   ],
   "source": [
    "df_nh3g_cleaned.nominal_nh3_molarity = df_nh3g_cleaned.nominal_nh3_molarity * 10000\n",
    "df_nh3g_cleaned.nominal_nh3_molarity = df_nh3g_cleaned.nominal_nh3_molarity.astype(int)\n",
    "df_nh3g_cleaned['experiment'] = 'bd_nh3g_' + df_nh3g_cleaned.nominal_nh3_molarity.astype(str).str.replace('.','')\n",
    "experiment_list = list(df_nh3g_cleaned.experiment.unique())\n",
    "experiment_list"
   ]
  },
  {
   "cell_type": "code",
   "execution_count": 220,
   "metadata": {},
   "outputs": [
    {
     "data": {
      "text/plain": [
       "array([    0, 14500,  1450,   145,    28], dtype=int64)"
      ]
     },
     "execution_count": 220,
     "metadata": {},
     "output_type": "execute_result"
    }
   ],
   "source": [
    "df_nh3g_cleaned.nominal_nh3_molarity.unique()"
   ]
  },
  {
   "cell_type": "code",
   "execution_count": 14,
   "metadata": {},
   "outputs": [
    {
     "data": {
      "image/png": "[encoded data removed]",
      "text/plain": [
       "<Figure size 432x288 with 1 Axes>"
      ]
     },
     "metadata": {},
     "output_type": "display_data"
    }
   ],
   "source": [
    "plot_ms_data(df_nh3g_cleaned, experiment_names=experiment_list, t_col_name='mins', y_col_name='mz84_mz283', analyte='Pyrrolinone')"
   ]
  },
  {
   "cell_type": "code",
   "execution_count": 15,
   "metadata": {},
   "outputs": [
    {
     "data": {
      "image/png": "[encoded data removed]",
      "text/plain": [
       "<Figure size 432x288 with 1 Axes>"
      ]
     },
     "metadata": {},
     "output_type": "display_data"
    }
   ],
   "source": [
    "plot_ms_data(df_nh3g_cleaned, experiment_names=experiment_list, t_col_name='mins', y_col_name='mz85_mz283', analyte='Butenedial')"
   ]
  },
  {
   "cell_type": "code",
   "execution_count": 16,
   "metadata": {},
   "outputs": [
    {
     "data": {
      "text/plain": [
       "<matplotlib.collections.PathCollection at 0x1c5f30a5f08>"
      ]
     },
     "execution_count": 16,
     "metadata": {},
     "output_type": "execute_result"
    },
    {
     "data": {
      "image/png": "[encoded data removed]",
      "text/plain": [
       "<Figure size 432x288 with 2 Axes>"
      ]
     },
     "metadata": {},
     "output_type": "display_data"
    }
   ],
   "source": [
    "df_nh3g_cleaned_0029 = df_nh3g_cleaned[df_nh3g_cleaned.experiment == 'bd_nh3g_0.0029']\n",
    "\n",
    "ax = sns.scatterplot(df_nh3g_cleaned_0029['mins'], df_nh3g_cleaned_0029['mz85_mz283'], color='red')\n",
    "ax2 = ax.twinx()\n",
    "ax2.scatter(df_nh3g_cleaned_0029['mins'], df_nh3g_cleaned_0029['mz84_mz283'], color='blue')"
   ]
  },
  {
   "cell_type": "markdown",
   "metadata": {},
   "source": [
    "this particular experiment could be worth exploring. need to develop a code that clusters data together and gets their means and stds."
   ]
  },
  {
   "cell_type": "code",
   "execution_count": 25,
   "metadata": {},
   "outputs": [],
   "source": [
    "import numpy as np\n",
    "import matplotlib.pyplot as plt\n",
    "import seaborn as sns\n",
    "import sklearn.cluster as cluster\n",
    "import time\n",
    "%matplotlib inline\n",
    "sns.set_context('poster')\n",
    "sns.set_color_codes()\n",
    "plot_kwds = {'alpha' : 0.25, 's' : 80, 'linewidths':0}\n",
    "\n",
    "def plot_clusters(data, algorithm, args, kwds):\n",
    "    start_time = time.time()\n",
    "    labels = algorithm(*args, **kwds).fit_predict(data)\n",
    "    print(labels)\n",
    "    end_time = time.time()\n",
    "    palette = sns.color_palette('deep', np.unique(labels).max() + 1)\n",
    "    colors = [palette[x] if x >= 0 else (0.0, 0.0, 0.0) for x in labels]\n",
    "    plt.scatter(data.T[0], data.T[1], c=colors, **plot_kwds)\n",
    "    frame = plt.gca()\n",
    "    frame.axes.get_xaxis().set_visible(False)\n",
    "    frame.axes.get_yaxis().set_visible(False)\n",
    "    plt.title('Clusters found by {}'.format(str(algorithm.__name__)), fontsize=24)\n",
    "    plt.text(-0.5, 0.7, 'Clustering took {:.2f} s'.format(end_time - start_time), fontsize=14)"
   ]
  },
  {
   "cell_type": "code",
   "execution_count": 30,
   "metadata": {},
   "outputs": [
    {
     "data": {
      "text/plain": [
       "array([0, 2, 1, 2, 0, 1, 0, 0, 0, 3, 3, 0, 0, 1])"
      ]
     },
     "execution_count": 30,
     "metadata": {},
     "output_type": "execute_result"
    }
   ],
   "source": [
    "mins = df_nh3g_cleaned_0029[['mins']].copy()\n",
    "labels = cluster.KMeans(n_clusters=4).fit_predict(mins)\n",
    "labels"
   ]
  },
  {
   "cell_type": "code",
   "execution_count": 34,
   "metadata": {},
   "outputs": [
    {
     "name": "stdout",
     "output_type": "stream",
     "text": [
      "[[0.29803922 0.44705882 0.69019608]\n",
      " [0.33333333 0.65882353 0.40784314]\n",
      " [0.86666667 0.51764706 0.32156863]\n",
      " [0.33333333 0.65882353 0.40784314]\n",
      " [0.29803922 0.44705882 0.69019608]\n",
      " [0.86666667 0.51764706 0.32156863]\n",
      " [0.29803922 0.44705882 0.69019608]\n",
      " [0.29803922 0.44705882 0.69019608]\n",
      " [0.29803922 0.44705882 0.69019608]\n",
      " [0.76862745 0.30588235 0.32156863]\n",
      " [0.76862745 0.30588235 0.32156863]\n",
      " [0.29803922 0.44705882 0.69019608]\n",
      " [0.29803922 0.44705882 0.69019608]\n",
      " [0.86666667 0.51764706 0.32156863]]\n"
     ]
    }
   ],
   "source": [
    "palette = sns.color_palette('deep', np.unique(labels).max() + 1)\n",
    "colors = np.array([palette[x] if x >= 0 else (0.0, 0.0, 0.0) for x in labels])\n",
    "print(colors)"
   ]
  },
  {
   "cell_type": "code",
   "execution_count": 223,
   "metadata": {},
   "outputs": [
    {
     "data": {
      "text/plain": [
       "array([0.07612951, 0.02188433, 0.0216397 , 0.03092224, 0.01931339,\n",
       "       0.03360746, 0.0110794 , 0.03031024, 0.05419462, 0.07874781,\n",
       "       0.01322171, 0.01548869, 0.10786207, 0.01095998])"
      ]
     },
     "execution_count": 223,
     "metadata": {},
     "output_type": "execute_result"
    }
   ],
   "source": [
    "xs = np.array(df_nh3g_cleaned_0029['mins'])\n",
    "xs\n",
    "\n",
    "ys = np.array(df_nh3g_cleaned_0029['mz84_mz283'])\n",
    "ys"
   ]
  },
  {
   "cell_type": "code",
   "execution_count": 44,
   "metadata": {},
   "outputs": [
    {
     "data": {
      "text/plain": [
       "<matplotlib.collections.PathCollection at 0x1c5f1794bc8>"
      ]
     },
     "execution_count": 44,
     "metadata": {},
     "output_type": "execute_result"
    },
    {
     "data": {
      "image/png": "[encoded data removed]",
      "text/plain": [
       "<Figure size 432x288 with 1 Axes>"
      ]
     },
     "metadata": {
      "needs_background": "light"
     },
     "output_type": "display_data"
    }
   ],
   "source": [
    "plt.scatter(xs,ys, c=colors)"
   ]
  },
  {
   "cell_type": "markdown",
   "metadata": {},
   "source": [
    "create code to take clusters and then turn them into averages and stds"
   ]
  },
  {
   "cell_type": "code",
   "execution_count": 77,
   "metadata": {},
   "outputs": [
    {
     "data": {
      "text/html": [
       "<div>\n",
       "<style scoped>\n",
       "    .dataframe tbody tr th:only-of-type {\n",
       "        vertical-align: middle;\n",
       "    }\n",
       "\n",
       "    .dataframe tbody tr th {\n",
       "        vertical-align: top;\n",
       "    }\n",
       "\n",
       "    .dataframe thead th {\n",
       "        text-align: right;\n",
       "    }\n",
       "</style>\n",
       "<table border=\"1\" class=\"dataframe\">\n",
       "  <thead>\n",
       "    <tr style=\"text-align: right;\">\n",
       "      <th></th>\n",
       "      <th>mins_mean</th>\n",
       "      <th>mz84_mz283_mean</th>\n",
       "      <th>mz85_mz283_mean</th>\n",
       "      <th>mins_std</th>\n",
       "      <th>mz84_mz283_std</th>\n",
       "      <th>mz85_mz283_std</th>\n",
       "    </tr>\n",
       "  </thead>\n",
       "  <tbody>\n",
       "    <tr>\n",
       "      <th>0</th>\n",
       "      <td>14.571429</td>\n",
       "      <td>0.044911</td>\n",
       "      <td>0.017320</td>\n",
       "      <td>1.618347</td>\n",
       "      <td>0.036291</td>\n",
       "      <td>0.007111</td>\n",
       "    </tr>\n",
       "    <tr>\n",
       "      <th>1</th>\n",
       "      <td>68.000000</td>\n",
       "      <td>0.022069</td>\n",
       "      <td>0.003820</td>\n",
       "      <td>2.645751</td>\n",
       "      <td>0.011330</td>\n",
       "      <td>0.001489</td>\n",
       "    </tr>\n",
       "    <tr>\n",
       "      <th>2</th>\n",
       "      <td>35.500000</td>\n",
       "      <td>0.026403</td>\n",
       "      <td>0.006648</td>\n",
       "      <td>2.121320</td>\n",
       "      <td>0.006391</td>\n",
       "      <td>0.002800</td>\n",
       "    </tr>\n",
       "    <tr>\n",
       "      <th>3</th>\n",
       "      <td>3.500000</td>\n",
       "      <td>0.045985</td>\n",
       "      <td>0.026417</td>\n",
       "      <td>0.707107</td>\n",
       "      <td>0.046334</td>\n",
       "      <td>0.004438</td>\n",
       "    </tr>\n",
       "  </tbody>\n",
       "</table>\n",
       "</div>"
      ],
      "text/plain": [
       "   mins_mean  mz84_mz283_mean  mz85_mz283_mean  mins_std  mz84_mz283_std  \\\n",
       "0  14.571429         0.044911         0.017320  1.618347        0.036291   \n",
       "1  68.000000         0.022069         0.003820  2.645751        0.011330   \n",
       "2  35.500000         0.026403         0.006648  2.121320        0.006391   \n",
       "3   3.500000         0.045985         0.026417  0.707107        0.046334   \n",
       "\n",
       "   mz85_mz283_std  \n",
       "0        0.007111  \n",
       "1        0.001489  \n",
       "2        0.002800  \n",
       "3        0.004438  "
      ]
     },
     "execution_count": 77,
     "metadata": {},
     "output_type": "execute_result"
    }
   ],
   "source": [
    "df_nh3g_cleaned_0029 = df_nh3g_cleaned_0029.assign(clusters=labels)\n",
    "df_test = df_nh3g_cleaned_0029.groupby('clusters', as_index=False)['mins', 'mz84_mz283', 'mz85_mz283'].mean()\n",
    "df_test_std = df_nh3g_cleaned_0029.groupby('clusters', as_index=False)['mins', 'mz84_mz283', 'mz85_mz283'].std()\n",
    "df_comb = pd.merge(df_test, df_test_std, on=None, suffixes=('_mean','_std'), left_index=True, right_index=True, how='outer')\n",
    "df_comb = df_comb.drop(columns=['clusters_mean', 'clusters_std'])\n",
    "df_comb"
   ]
  },
  {
   "cell_type": "code",
   "execution_count": 91,
   "metadata": {},
   "outputs": [
    {
     "data": {
      "text/plain": [
       "<ErrorbarContainer object of 3 artists>"
      ]
     },
     "execution_count": 91,
     "metadata": {},
     "output_type": "execute_result"
    },
    {
     "data": {
      "image/png": "[encoded data removed]",
      "text/plain": [
       "<Figure size 432x288 with 1 Axes>"
      ]
     },
     "metadata": {
      "needs_background": "light"
     },
     "output_type": "display_data"
    }
   ],
   "source": [
    "plt.scatter(df_test.mins, df_test.mz84_mz283)\n",
    "plt.errorbar(df_comb.mins_mean, df_comb.mz84_mz283_mean, yerr=df_comb.mz84_mz283_std, xerr=df_comb.mins_std, fmt='o',\n",
    "             ecolor='lightgray', capsize=1)\n",
    "plt.errorbar(df_comb.mins_mean + 1, df_comb.mz85_mz283_mean, yerr=df_comb.mz85_mz283_std, xerr=df_comb.mins_std, fmt='o',\n",
    "             color='k', alpha=0.5, ecolor='lightgray', capsize=1)\n",
    "# plt.scatter(df_test.mins, df_test.mz85_mz283)"
   ]
  },
  {
   "cell_type": "markdown",
   "metadata": {},
   "source": [
    "build unifying function"
   ]
  },
  {
   "cell_type": "code",
   "execution_count": 92,
   "metadata": {},
   "outputs": [],
   "source": [
    "def add_clusters_to_dataframe(df, col_to_cluster, N_clusters):\n",
    "    \"\"\"\"\"\"\n",
    "    data = df[[col_to_cluster]].copy()\n",
    "    clusters = cluster.KMeans(N_clusters).fit_predict(data)\n",
    "    df_with_clusters = df.assign(clusters=clusters)\n",
    "    \n",
    "    return df_with_clusters"
   ]
  },
  {
   "cell_type": "code",
   "execution_count": 106,
   "metadata": {},
   "outputs": [],
   "source": [
    "def create_clustered_statistics_dataframe(df, col_to_cluster, cols_to_keep, N_clusters=4):\n",
    "    df_with_clusters = add_clusters_to_dataframe(df=df, col_to_cluster=col_to_cluster, N_clusters=N_clusters)\n",
    "    \n",
    "    df_means = df_with_clusters.groupby('clusters', as_index=False)[cols_to_keep].mean()\n",
    "    df_ses = df_with_clusters.groupby('clusters', as_index=False)[cols_to_keep].sem()\n",
    "    df_combined = pd.merge(df_means, df_ses, on=None, \n",
    "                           suffixes=('_mean','_se'), left_index=True, right_index=True, how='outer')\n",
    "    df_combined = df_combined.drop(columns=['clusters_mean', 'clusters_se'])\n",
    "    \n",
    "    return df_combined"
   ]
  },
  {
   "cell_type": "code",
   "execution_count": 107,
   "metadata": {},
   "outputs": [
    {
     "data": {
      "text/html": [
       "<div>\n",
       "<style scoped>\n",
       "    .dataframe tbody tr th:only-of-type {\n",
       "        vertical-align: middle;\n",
       "    }\n",
       "\n",
       "    .dataframe tbody tr th {\n",
       "        vertical-align: top;\n",
       "    }\n",
       "\n",
       "    .dataframe thead th {\n",
       "        text-align: right;\n",
       "    }\n",
       "</style>\n",
       "<table border=\"1\" class=\"dataframe\">\n",
       "  <thead>\n",
       "    <tr style=\"text-align: right;\">\n",
       "      <th></th>\n",
       "      <th>mins_mean</th>\n",
       "      <th>mz84_mz283_mean</th>\n",
       "      <th>mz85_mz283_mean</th>\n",
       "      <th>mins_se</th>\n",
       "      <th>mz84_mz283_se</th>\n",
       "      <th>mz85_mz283_se</th>\n",
       "    </tr>\n",
       "  </thead>\n",
       "  <tbody>\n",
       "    <tr>\n",
       "      <th>0</th>\n",
       "      <td>14.571429</td>\n",
       "      <td>0.044911</td>\n",
       "      <td>0.017320</td>\n",
       "      <td>0.611678</td>\n",
       "      <td>0.013717</td>\n",
       "      <td>0.002688</td>\n",
       "    </tr>\n",
       "    <tr>\n",
       "      <th>1</th>\n",
       "      <td>68.000000</td>\n",
       "      <td>0.022069</td>\n",
       "      <td>0.003820</td>\n",
       "      <td>1.527525</td>\n",
       "      <td>0.006541</td>\n",
       "      <td>0.000860</td>\n",
       "    </tr>\n",
       "    <tr>\n",
       "      <th>2</th>\n",
       "      <td>35.500000</td>\n",
       "      <td>0.026403</td>\n",
       "      <td>0.006648</td>\n",
       "      <td>1.500000</td>\n",
       "      <td>0.004519</td>\n",
       "      <td>0.001980</td>\n",
       "    </tr>\n",
       "    <tr>\n",
       "      <th>3</th>\n",
       "      <td>3.500000</td>\n",
       "      <td>0.045985</td>\n",
       "      <td>0.026417</td>\n",
       "      <td>0.500000</td>\n",
       "      <td>0.032763</td>\n",
       "      <td>0.003138</td>\n",
       "    </tr>\n",
       "  </tbody>\n",
       "</table>\n",
       "</div>"
      ],
      "text/plain": [
       "   mins_mean  mz84_mz283_mean  mz85_mz283_mean   mins_se  mz84_mz283_se  \\\n",
       "0  14.571429         0.044911         0.017320  0.611678       0.013717   \n",
       "1  68.000000         0.022069         0.003820  1.527525       0.006541   \n",
       "2  35.500000         0.026403         0.006648  1.500000       0.004519   \n",
       "3   3.500000         0.045985         0.026417  0.500000       0.032763   \n",
       "\n",
       "   mz85_mz283_se  \n",
       "0       0.002688  \n",
       "1       0.000860  \n",
       "2       0.001980  \n",
       "3       0.003138  "
      ]
     },
     "execution_count": 107,
     "metadata": {},
     "output_type": "execute_result"
    }
   ],
   "source": [
    "df_0029_clustered = create_clustered_statistics_dataframe(df=df_nh3g_cleaned_0029, \n",
    "                                                          col_to_cluster='mins', \n",
    "                                                          cols_to_keep=['mins', 'mz84_mz283', 'mz85_mz283'],\n",
    "                                                          N_clusters=4)\n",
    "df_0029_clustered"
   ]
  },
  {
   "cell_type": "markdown",
   "metadata": {},
   "source": [
    "try looping over experiments"
   ]
  },
  {
   "cell_type": "code",
   "execution_count": 122,
   "metadata": {},
   "outputs": [],
   "source": [
    "from math import floor\n",
    "\n",
    "def create_clustered_statistics_dataframe(df, experiments, col_to_cluster, cols_to_keep):\n",
    "    \n",
    "    df_clustered_stats = pd.DataFrame()\n",
    "    for experiment_name, experiment_defs in experiments.items():\n",
    "        df_exp = df[df.experiment == experiment_name]\n",
    "        print(df_exp)\n",
    "        print(experiment_name)\n",
    "        \n",
    "    \n",
    "        N_clusters = floor(len(df_exp) / 4)\n",
    "        print(N_clusters)\n",
    "        df_with_clusters = add_clusters_to_dataframe(df=df_exp, col_to_cluster=col_to_cluster, N_clusters=N_clusters)\n",
    "\n",
    "        df_means = df_with_clusters.groupby('clusters', as_index=False)[cols_to_keep].mean()\n",
    "        df_ses = df_with_clusters.groupby('clusters', as_index=False)[cols_to_keep].sem()\n",
    "        df_combined = pd.merge(df_means, df_ses, on=None, \n",
    "                               suffixes=('_mean','_se'), left_index=True, right_index=True, how='outer')\n",
    "        df_combined = df_combined.drop(columns=['clusters_mean', 'clusters_se'])\n",
    "        \n",
    "        df_clustered_stats.append(df_combined)\n",
    "    \n",
    "    return df_clustered_stats"
   ]
  },
  {
   "cell_type": "code",
   "execution_count": 124,
   "metadata": {},
   "outputs": [
    {
     "name": "stdout",
     "output_type": "stream",
     "text": [
      "Empty DataFrame\n",
      "Columns: [mins, solution, nominal_nh3_molarity, mz84_mz283, mz85_mz283, mz149_mz283, experiment]\n",
      "Index: []\n",
      "bd_nh3g\n",
      "0\n"
     ]
    },
    {
     "ename": "ValueError",
     "evalue": "Found array with 0 sample(s) (shape=(0, 1)) while a minimum of 1 is required.",
     "output_type": "error",
     "traceback": [
      "\u001b[1;31m---------------------------------------------------------------------------\u001b[0m",
      "\u001b[1;31mValueError\u001b[0m                                Traceback (most recent call last)",
      "\u001b[1;32m<ipython-input-124-caebad13e120>\u001b[0m in \u001b[0;36m<module>\u001b[1;34m\u001b[0m\n\u001b[0;32m      3\u001b[0m                                                           \u001b[0mexperiments\u001b[0m\u001b[1;33m=\u001b[0m\u001b[0mexperiments\u001b[0m\u001b[1;33m,\u001b[0m\u001b[1;33m\u001b[0m\u001b[1;33m\u001b[0m\u001b[0m\n\u001b[0;32m      4\u001b[0m                                                           \u001b[0mcol_to_cluster\u001b[0m\u001b[1;33m=\u001b[0m\u001b[1;34m'mins'\u001b[0m\u001b[1;33m,\u001b[0m\u001b[1;33m\u001b[0m\u001b[1;33m\u001b[0m\u001b[0m\n\u001b[1;32m----> 5\u001b[1;33m                                                           cols_to_keep=['mins', 'mz84_mz283', 'mz85_mz283'])\n\u001b[0m",
      "\u001b[1;32m<ipython-input-122-e09e8d384a70>\u001b[0m in \u001b[0;36mcreate_clustered_statistics_dataframe\u001b[1;34m(df, experiments, col_to_cluster, cols_to_keep)\u001b[0m\n\u001b[0;32m     12\u001b[0m         \u001b[0mN_clusters\u001b[0m \u001b[1;33m=\u001b[0m \u001b[0mfloor\u001b[0m\u001b[1;33m(\u001b[0m\u001b[0mlen\u001b[0m\u001b[1;33m(\u001b[0m\u001b[0mdf_exp\u001b[0m\u001b[1;33m)\u001b[0m \u001b[1;33m/\u001b[0m \u001b[1;36m4\u001b[0m\u001b[1;33m)\u001b[0m\u001b[1;33m\u001b[0m\u001b[1;33m\u001b[0m\u001b[0m\n\u001b[0;32m     13\u001b[0m         \u001b[0mprint\u001b[0m\u001b[1;33m(\u001b[0m\u001b[0mN_clusters\u001b[0m\u001b[1;33m)\u001b[0m\u001b[1;33m\u001b[0m\u001b[1;33m\u001b[0m\u001b[0m\n\u001b[1;32m---> 14\u001b[1;33m         \u001b[0mdf_with_clusters\u001b[0m \u001b[1;33m=\u001b[0m \u001b[0madd_clusters_to_dataframe\u001b[0m\u001b[1;33m(\u001b[0m\u001b[0mdf\u001b[0m\u001b[1;33m=\u001b[0m\u001b[0mdf_exp\u001b[0m\u001b[1;33m,\u001b[0m \u001b[0mcol_to_cluster\u001b[0m\u001b[1;33m=\u001b[0m\u001b[0mcol_to_cluster\u001b[0m\u001b[1;33m,\u001b[0m \u001b[0mN_clusters\u001b[0m\u001b[1;33m=\u001b[0m\u001b[0mN_clusters\u001b[0m\u001b[1;33m)\u001b[0m\u001b[1;33m\u001b[0m\u001b[1;33m\u001b[0m\u001b[0m\n\u001b[0m\u001b[0;32m     15\u001b[0m \u001b[1;33m\u001b[0m\u001b[0m\n\u001b[0;32m     16\u001b[0m         \u001b[0mdf_means\u001b[0m \u001b[1;33m=\u001b[0m \u001b[0mdf_with_clusters\u001b[0m\u001b[1;33m.\u001b[0m\u001b[0mgroupby\u001b[0m\u001b[1;33m(\u001b[0m\u001b[1;34m'clusters'\u001b[0m\u001b[1;33m,\u001b[0m \u001b[0mas_index\u001b[0m\u001b[1;33m=\u001b[0m\u001b[1;32mFalse\u001b[0m\u001b[1;33m)\u001b[0m\u001b[1;33m[\u001b[0m\u001b[0mcols_to_keep\u001b[0m\u001b[1;33m]\u001b[0m\u001b[1;33m.\u001b[0m\u001b[0mmean\u001b[0m\u001b[1;33m(\u001b[0m\u001b[1;33m)\u001b[0m\u001b[1;33m\u001b[0m\u001b[1;33m\u001b[0m\u001b[0m\n",
      "\u001b[1;32m<ipython-input-92-c5e39763558a>\u001b[0m in \u001b[0;36madd_clusters_to_dataframe\u001b[1;34m(df, col_to_cluster, N_clusters)\u001b[0m\n\u001b[0;32m      1\u001b[0m \u001b[1;32mdef\u001b[0m \u001b[0madd_clusters_to_dataframe\u001b[0m\u001b[1;33m(\u001b[0m\u001b[0mdf\u001b[0m\u001b[1;33m,\u001b[0m \u001b[0mcol_to_cluster\u001b[0m\u001b[1;33m,\u001b[0m \u001b[0mN_clusters\u001b[0m\u001b[1;33m=\u001b[0m\u001b[1;36m4\u001b[0m\u001b[1;33m)\u001b[0m\u001b[1;33m:\u001b[0m\u001b[1;33m\u001b[0m\u001b[1;33m\u001b[0m\u001b[0m\n\u001b[0;32m      2\u001b[0m     \u001b[0mdata\u001b[0m \u001b[1;33m=\u001b[0m \u001b[0mdf\u001b[0m\u001b[1;33m[\u001b[0m\u001b[1;33m[\u001b[0m\u001b[0mcol_to_cluster\u001b[0m\u001b[1;33m]\u001b[0m\u001b[1;33m]\u001b[0m\u001b[1;33m.\u001b[0m\u001b[0mcopy\u001b[0m\u001b[1;33m(\u001b[0m\u001b[1;33m)\u001b[0m\u001b[1;33m\u001b[0m\u001b[1;33m\u001b[0m\u001b[0m\n\u001b[1;32m----> 3\u001b[1;33m     \u001b[0mclusters\u001b[0m \u001b[1;33m=\u001b[0m \u001b[0mcluster\u001b[0m\u001b[1;33m.\u001b[0m\u001b[0mKMeans\u001b[0m\u001b[1;33m(\u001b[0m\u001b[0mN_clusters\u001b[0m\u001b[1;33m)\u001b[0m\u001b[1;33m.\u001b[0m\u001b[0mfit_predict\u001b[0m\u001b[1;33m(\u001b[0m\u001b[0mdata\u001b[0m\u001b[1;33m)\u001b[0m\u001b[1;33m\u001b[0m\u001b[1;33m\u001b[0m\u001b[0m\n\u001b[0m\u001b[0;32m      4\u001b[0m     \u001b[0mdf_with_clusters\u001b[0m \u001b[1;33m=\u001b[0m \u001b[0mdf\u001b[0m\u001b[1;33m.\u001b[0m\u001b[0massign\u001b[0m\u001b[1;33m(\u001b[0m\u001b[0mclusters\u001b[0m\u001b[1;33m=\u001b[0m\u001b[0mclusters\u001b[0m\u001b[1;33m)\u001b[0m\u001b[1;33m\u001b[0m\u001b[1;33m\u001b[0m\u001b[0m\n\u001b[0;32m      5\u001b[0m \u001b[1;33m\u001b[0m\u001b[0m\n",
      "\u001b[1;32m~\\AppData\\Local\\Continuum\\anaconda3\\envs\\dropletenv\\lib\\site-packages\\sklearn\\cluster\\k_means_.py\u001b[0m in \u001b[0;36mfit_predict\u001b[1;34m(self, X, y, sample_weight)\u001b[0m\n\u001b[0;32m    996\u001b[0m             \u001b[0mIndex\u001b[0m \u001b[0mof\u001b[0m \u001b[0mthe\u001b[0m \u001b[0mcluster\u001b[0m \u001b[0meach\u001b[0m \u001b[0msample\u001b[0m \u001b[0mbelongs\u001b[0m \u001b[0mto\u001b[0m\u001b[1;33m.\u001b[0m\u001b[1;33m\u001b[0m\u001b[1;33m\u001b[0m\u001b[0m\n\u001b[0;32m    997\u001b[0m         \"\"\"\n\u001b[1;32m--> 998\u001b[1;33m         \u001b[1;32mreturn\u001b[0m \u001b[0mself\u001b[0m\u001b[1;33m.\u001b[0m\u001b[0mfit\u001b[0m\u001b[1;33m(\u001b[0m\u001b[0mX\u001b[0m\u001b[1;33m,\u001b[0m \u001b[0msample_weight\u001b[0m\u001b[1;33m=\u001b[0m\u001b[0msample_weight\u001b[0m\u001b[1;33m)\u001b[0m\u001b[1;33m.\u001b[0m\u001b[0mlabels_\u001b[0m\u001b[1;33m\u001b[0m\u001b[1;33m\u001b[0m\u001b[0m\n\u001b[0m\u001b[0;32m    999\u001b[0m \u001b[1;33m\u001b[0m\u001b[0m\n\u001b[0;32m   1000\u001b[0m     \u001b[1;32mdef\u001b[0m \u001b[0mfit_transform\u001b[0m\u001b[1;33m(\u001b[0m\u001b[0mself\u001b[0m\u001b[1;33m,\u001b[0m \u001b[0mX\u001b[0m\u001b[1;33m,\u001b[0m \u001b[0my\u001b[0m\u001b[1;33m=\u001b[0m\u001b[1;32mNone\u001b[0m\u001b[1;33m,\u001b[0m \u001b[0msample_weight\u001b[0m\u001b[1;33m=\u001b[0m\u001b[1;32mNone\u001b[0m\u001b[1;33m)\u001b[0m\u001b[1;33m:\u001b[0m\u001b[1;33m\u001b[0m\u001b[1;33m\u001b[0m\u001b[0m\n",
      "\u001b[1;32m~\\AppData\\Local\\Continuum\\anaconda3\\envs\\dropletenv\\lib\\site-packages\\sklearn\\cluster\\k_means_.py\u001b[0m in \u001b[0;36mfit\u001b[1;34m(self, X, y, sample_weight)\u001b[0m\n\u001b[0;32m    970\u001b[0m                 \u001b[0mtol\u001b[0m\u001b[1;33m=\u001b[0m\u001b[0mself\u001b[0m\u001b[1;33m.\u001b[0m\u001b[0mtol\u001b[0m\u001b[1;33m,\u001b[0m \u001b[0mrandom_state\u001b[0m\u001b[1;33m=\u001b[0m\u001b[0mrandom_state\u001b[0m\u001b[1;33m,\u001b[0m \u001b[0mcopy_x\u001b[0m\u001b[1;33m=\u001b[0m\u001b[0mself\u001b[0m\u001b[1;33m.\u001b[0m\u001b[0mcopy_x\u001b[0m\u001b[1;33m,\u001b[0m\u001b[1;33m\u001b[0m\u001b[1;33m\u001b[0m\u001b[0m\n\u001b[0;32m    971\u001b[0m                 \u001b[0mn_jobs\u001b[0m\u001b[1;33m=\u001b[0m\u001b[0mself\u001b[0m\u001b[1;33m.\u001b[0m\u001b[0mn_jobs\u001b[0m\u001b[1;33m,\u001b[0m \u001b[0malgorithm\u001b[0m\u001b[1;33m=\u001b[0m\u001b[0mself\u001b[0m\u001b[1;33m.\u001b[0m\u001b[0malgorithm\u001b[0m\u001b[1;33m,\u001b[0m\u001b[1;33m\u001b[0m\u001b[1;33m\u001b[0m\u001b[0m\n\u001b[1;32m--> 972\u001b[1;33m                 return_n_iter=True)\n\u001b[0m\u001b[0;32m    973\u001b[0m         \u001b[1;32mreturn\u001b[0m \u001b[0mself\u001b[0m\u001b[1;33m\u001b[0m\u001b[1;33m\u001b[0m\u001b[0m\n\u001b[0;32m    974\u001b[0m \u001b[1;33m\u001b[0m\u001b[0m\n",
      "\u001b[1;32m~\\AppData\\Local\\Continuum\\anaconda3\\envs\\dropletenv\\lib\\site-packages\\sklearn\\cluster\\k_means_.py\u001b[0m in \u001b[0;36mk_means\u001b[1;34m(X, n_clusters, sample_weight, init, precompute_distances, n_init, max_iter, verbose, tol, random_state, copy_x, n_jobs, algorithm, return_n_iter)\u001b[0m\n\u001b[0;32m    310\u001b[0m     \u001b[0morder\u001b[0m \u001b[1;33m=\u001b[0m \u001b[1;34m\"C\"\u001b[0m \u001b[1;32mif\u001b[0m \u001b[0mcopy_x\u001b[0m \u001b[1;32melse\u001b[0m \u001b[1;32mNone\u001b[0m\u001b[1;33m\u001b[0m\u001b[1;33m\u001b[0m\u001b[0m\n\u001b[0;32m    311\u001b[0m     X = check_array(X, accept_sparse='csr', dtype=[np.float64, np.float32],\n\u001b[1;32m--> 312\u001b[1;33m                     order=order, copy=copy_x)\n\u001b[0m\u001b[0;32m    313\u001b[0m     \u001b[1;31m# verify that the number of samples given is larger than k\u001b[0m\u001b[1;33m\u001b[0m\u001b[1;33m\u001b[0m\u001b[1;33m\u001b[0m\u001b[0m\n\u001b[0;32m    314\u001b[0m     \u001b[1;32mif\u001b[0m \u001b[0m_num_samples\u001b[0m\u001b[1;33m(\u001b[0m\u001b[0mX\u001b[0m\u001b[1;33m)\u001b[0m \u001b[1;33m<\u001b[0m \u001b[0mn_clusters\u001b[0m\u001b[1;33m:\u001b[0m\u001b[1;33m\u001b[0m\u001b[1;33m\u001b[0m\u001b[0m\n",
      "\u001b[1;32m~\\AppData\\Local\\Continuum\\anaconda3\\envs\\dropletenv\\lib\\site-packages\\sklearn\\utils\\validation.py\u001b[0m in \u001b[0;36mcheck_array\u001b[1;34m(array, accept_sparse, accept_large_sparse, dtype, order, copy, force_all_finite, ensure_2d, allow_nd, ensure_min_samples, ensure_min_features, warn_on_dtype, estimator)\u001b[0m\n\u001b[0;32m    548\u001b[0m                              \u001b[1;34m\" minimum of %d is required%s.\"\u001b[0m\u001b[1;33m\u001b[0m\u001b[1;33m\u001b[0m\u001b[0m\n\u001b[0;32m    549\u001b[0m                              % (n_samples, array.shape, ensure_min_samples,\n\u001b[1;32m--> 550\u001b[1;33m                                 context))\n\u001b[0m\u001b[0;32m    551\u001b[0m \u001b[1;33m\u001b[0m\u001b[0m\n\u001b[0;32m    552\u001b[0m     \u001b[1;32mif\u001b[0m \u001b[0mensure_min_features\u001b[0m \u001b[1;33m>\u001b[0m \u001b[1;36m0\u001b[0m \u001b[1;32mand\u001b[0m \u001b[0marray\u001b[0m\u001b[1;33m.\u001b[0m\u001b[0mndim\u001b[0m \u001b[1;33m==\u001b[0m \u001b[1;36m2\u001b[0m\u001b[1;33m:\u001b[0m\u001b[1;33m\u001b[0m\u001b[1;33m\u001b[0m\u001b[0m\n",
      "\u001b[1;31mValueError\u001b[0m: Found array with 0 sample(s) (shape=(0, 1)) while a minimum of 1 is required."
     ]
    }
   ],
   "source": [
    "experiments = load_experiments(['bd_nh3g'])\n",
    "df_0029_clustered = create_clustered_statistics_dataframe(df=df_nh3g_cleaned, \n",
    "                                                          experiments=experiments,\n",
    "                                                          col_to_cluster='mins', \n",
    "                                                          cols_to_keep=['mins', 'mz84_mz283', 'mz85_mz283'])"
   ]
  },
  {
   "cell_type": "code",
   "execution_count": 192,
   "metadata": {},
   "outputs": [],
   "source": [
    "import math\n",
    "def create_clustered_statistics_dataframe(df_cleaned, col_to_cluster, y_cols_to_keep):\n",
    "    \"\"\"\"\"\"\n",
    "    \n",
    "    cols_to_keep = y_cols_to_keep\n",
    "    cols_to_keep.append(col_to_cluster)\n",
    "    \n",
    "    df_clustered_stats = pd.DataFrame()\n",
    "    experiment_names = list(df_cleaned.experiment.unique())\n",
    "    for experiment_name in experiment_names:\n",
    "        df_exp = df_cleaned[df_cleaned.experiment == experiment_name]\n",
    "        \n",
    "        if len(df_exp) >= 4:\n",
    "            N_clusters = math.floor(len(df_exp) / 3)\n",
    "        elif len(df_exp) < 4:\n",
    "            N_clusters = len(df_exp)\n",
    "        df_with_clusters = add_clusters_to_dataframe(df=df_exp,\n",
    "                                                     col_to_cluster=col_to_cluster,\n",
    "                                                     N_clusters=N_clusters)\n",
    "\n",
    "        df_means = df_with_clusters.groupby('clusters', as_index=False)[cols_to_keep].mean()\n",
    "        df_ses = df_with_clusters.groupby('clusters', as_index=False)[cols_to_keep].sem()\n",
    "        df_combined = pd.merge(df_means, df_ses, on=None,\n",
    "                               suffixes=('_mean', '_se'), left_index=True, right_index=True, how='outer')\n",
    "        df_combined = df_combined.drop(columns=['clusters_mean', 'clusters_se'])\n",
    "        df_combined = df_combined.assign(experiment=experiment_name)\n",
    "        \n",
    "        df_clustered_stats = df_clustered_stats.append(df_combined)\n",
    "\n",
    "    return df_clustered_stats"
   ]
  },
  {
   "cell_type": "code",
   "execution_count": 193,
   "metadata": {},
   "outputs": [],
   "source": [
    "df_clustered = create_clustered_statistics_dataframe(df_nh3g_cleaned, \n",
    "                                                     col_to_cluster='mins', \n",
    "                                                     y_cols_to_keep=['mz84_mz283', 'mz85_mz283'])"
   ]
  },
  {
   "cell_type": "code",
   "execution_count": 236,
   "metadata": {},
   "outputs": [
    {
     "data": {
      "image/png": "[encoded data removed]",
      "text/plain": [
       "<Figure size 432x288 with 1 Axes>"
      ]
     },
     "metadata": {
      "needs_background": "light"
     },
     "output_type": "display_data"
    }
   ],
   "source": [
    "experiment_list = list(df_clustered.experiment.unique())\n",
    "\n",
    "colors = sns.color_palette(\"Spectral\", 5)\n",
    "count = 0\n",
    "for experiment_name in experiment_list:\n",
    "    df_to_plot = df_clustered[df_clustered.experiment == experiment_name]\n",
    "    plt.errorbar(df_to_plot.mins_mean, df_to_plot.mz84_mz283_mean, \n",
    "                 yerr=df_to_plot.mz84_mz283_se, xerr=df_to_plot.mins_se, fmt='o', c=colors[count],\n",
    "                 ecolor='lightgray', capsize=1, label=experiment_name)\n",
    "    count += 1"
   ]
  },
  {
   "cell_type": "code",
   "execution_count": 228,
   "metadata": {},
   "outputs": [
    {
     "data": {
      "text/html": [
       "<div>\n",
       "<style scoped>\n",
       "    .dataframe tbody tr th:only-of-type {\n",
       "        vertical-align: middle;\n",
       "    }\n",
       "\n",
       "    .dataframe tbody tr th {\n",
       "        vertical-align: top;\n",
       "    }\n",
       "\n",
       "    .dataframe thead th {\n",
       "        text-align: right;\n",
       "    }\n",
       "</style>\n",
       "<table border=\"1\" class=\"dataframe\">\n",
       "  <thead>\n",
       "    <tr style=\"text-align: right;\">\n",
       "      <th></th>\n",
       "      <th>mins</th>\n",
       "      <th>solution</th>\n",
       "      <th>nominal_nh3_molarity</th>\n",
       "      <th>mz84_mz283</th>\n",
       "      <th>mz85_mz283</th>\n",
       "      <th>mz149_mz283</th>\n",
       "      <th>experiment</th>\n",
       "    </tr>\n",
       "  </thead>\n",
       "  <tbody>\n",
       "    <tr>\n",
       "      <th>8</th>\n",
       "      <td>3</td>\n",
       "      <td>butenedial-peg6-181016</td>\n",
       "      <td>0</td>\n",
       "      <td>0.001706</td>\n",
       "      <td>0.005410</td>\n",
       "      <td>0.000648</td>\n",
       "      <td>bd_nh3g_0</td>\n",
       "    </tr>\n",
       "    <tr>\n",
       "      <th>9</th>\n",
       "      <td>3</td>\n",
       "      <td>butenedial-peg6-181016</td>\n",
       "      <td>14500</td>\n",
       "      <td>0.027495</td>\n",
       "      <td>0.001060</td>\n",
       "      <td>0.009438</td>\n",
       "      <td>bd_nh3g_14500</td>\n",
       "    </tr>\n",
       "    <tr>\n",
       "      <th>10</th>\n",
       "      <td>3</td>\n",
       "      <td>butenedial-peg6-181016</td>\n",
       "      <td>0</td>\n",
       "      <td>0.003821</td>\n",
       "      <td>0.007328</td>\n",
       "      <td>0.000598</td>\n",
       "      <td>bd_nh3g_0</td>\n",
       "    </tr>\n",
       "    <tr>\n",
       "      <th>11</th>\n",
       "      <td>4</td>\n",
       "      <td>butenedial-peg6-181016</td>\n",
       "      <td>0</td>\n",
       "      <td>0.000974</td>\n",
       "      <td>0.006895</td>\n",
       "      <td>0.001039</td>\n",
       "      <td>bd_nh3g_0</td>\n",
       "    </tr>\n",
       "    <tr>\n",
       "      <th>12</th>\n",
       "      <td>18</td>\n",
       "      <td>butenedial-peg6-181016</td>\n",
       "      <td>14500</td>\n",
       "      <td>0.022977</td>\n",
       "      <td>0.000669</td>\n",
       "      <td>0.022730</td>\n",
       "      <td>bd_nh3g_14500</td>\n",
       "    </tr>\n",
       "    <tr>\n",
       "      <th>13</th>\n",
       "      <td>16</td>\n",
       "      <td>butenedial-peg6-181016</td>\n",
       "      <td>0</td>\n",
       "      <td>0.006020</td>\n",
       "      <td>0.004281</td>\n",
       "      <td>0.001163</td>\n",
       "      <td>bd_nh3g_0</td>\n",
       "    </tr>\n",
       "    <tr>\n",
       "      <th>14</th>\n",
       "      <td>11</td>\n",
       "      <td>butenedial-peg6-181016</td>\n",
       "      <td>14500</td>\n",
       "      <td>0.014203</td>\n",
       "      <td>0.000593</td>\n",
       "      <td>0.015460</td>\n",
       "      <td>bd_nh3g_14500</td>\n",
       "    </tr>\n",
       "    <tr>\n",
       "      <th>15</th>\n",
       "      <td>4</td>\n",
       "      <td>butenedial-peg6-181016</td>\n",
       "      <td>0</td>\n",
       "      <td>0.001900</td>\n",
       "      <td>0.003839</td>\n",
       "      <td>0.001102</td>\n",
       "      <td>bd_nh3g_0</td>\n",
       "    </tr>\n",
       "    <tr>\n",
       "      <th>16</th>\n",
       "      <td>15</td>\n",
       "      <td>butenedial-peg6-181016</td>\n",
       "      <td>1450</td>\n",
       "      <td>0.005532</td>\n",
       "      <td>0.002269</td>\n",
       "      <td>0.000357</td>\n",
       "      <td>bd_nh3g_1450</td>\n",
       "    </tr>\n",
       "    <tr>\n",
       "      <th>17</th>\n",
       "      <td>18</td>\n",
       "      <td>butenedial-peg6-181016</td>\n",
       "      <td>0</td>\n",
       "      <td>0.024033</td>\n",
       "      <td>0.001254</td>\n",
       "      <td>0.011797</td>\n",
       "      <td>bd_nh3g_0</td>\n",
       "    </tr>\n",
       "    <tr>\n",
       "      <th>18</th>\n",
       "      <td>16</td>\n",
       "      <td>butenedial-peg6-181016</td>\n",
       "      <td>1450</td>\n",
       "      <td>0.017751</td>\n",
       "      <td>0.000799</td>\n",
       "      <td>0.022266</td>\n",
       "      <td>bd_nh3g_1450</td>\n",
       "    </tr>\n",
       "    <tr>\n",
       "      <th>19</th>\n",
       "      <td>16</td>\n",
       "      <td>butenedial-peg6-181016</td>\n",
       "      <td>0</td>\n",
       "      <td>0.000845</td>\n",
       "      <td>0.003003</td>\n",
       "      <td>0.000452</td>\n",
       "      <td>bd_nh3g_0</td>\n",
       "    </tr>\n",
       "    <tr>\n",
       "      <th>20</th>\n",
       "      <td>17</td>\n",
       "      <td>butenedial-peg6-181016</td>\n",
       "      <td>1450</td>\n",
       "      <td>0.012655</td>\n",
       "      <td>0.000401</td>\n",
       "      <td>0.021842</td>\n",
       "      <td>bd_nh3g_1450</td>\n",
       "    </tr>\n",
       "    <tr>\n",
       "      <th>21</th>\n",
       "      <td>10</td>\n",
       "      <td>butenedial-peg6-181016</td>\n",
       "      <td>1450</td>\n",
       "      <td>0.016696</td>\n",
       "      <td>0.000602</td>\n",
       "      <td>0.015855</td>\n",
       "      <td>bd_nh3g_1450</td>\n",
       "    </tr>\n",
       "    <tr>\n",
       "      <th>22</th>\n",
       "      <td>37</td>\n",
       "      <td>butenedial-peg6-181016</td>\n",
       "      <td>1450</td>\n",
       "      <td>0.030996</td>\n",
       "      <td>0.001282</td>\n",
       "      <td>0.015250</td>\n",
       "      <td>bd_nh3g_1450</td>\n",
       "    </tr>\n",
       "  </tbody>\n",
       "</table>\n",
       "</div>"
      ],
      "text/plain": [
       "    mins                solution  nominal_nh3_molarity  mz84_mz283  \\\n",
       "8      3  butenedial-peg6-181016                     0    0.001706   \n",
       "9      3  butenedial-peg6-181016                 14500    0.027495   \n",
       "10     3  butenedial-peg6-181016                     0    0.003821   \n",
       "11     4  butenedial-peg6-181016                     0    0.000974   \n",
       "12    18  butenedial-peg6-181016                 14500    0.022977   \n",
       "13    16  butenedial-peg6-181016                     0    0.006020   \n",
       "14    11  butenedial-peg6-181016                 14500    0.014203   \n",
       "15     4  butenedial-peg6-181016                     0    0.001900   \n",
       "16    15  butenedial-peg6-181016                  1450    0.005532   \n",
       "17    18  butenedial-peg6-181016                     0    0.024033   \n",
       "18    16  butenedial-peg6-181016                  1450    0.017751   \n",
       "19    16  butenedial-peg6-181016                     0    0.000845   \n",
       "20    17  butenedial-peg6-181016                  1450    0.012655   \n",
       "21    10  butenedial-peg6-181016                  1450    0.016696   \n",
       "22    37  butenedial-peg6-181016                  1450    0.030996   \n",
       "\n",
       "    mz85_mz283  mz149_mz283     experiment  \n",
       "8     0.005410     0.000648      bd_nh3g_0  \n",
       "9     0.001060     0.009438  bd_nh3g_14500  \n",
       "10    0.007328     0.000598      bd_nh3g_0  \n",
       "11    0.006895     0.001039      bd_nh3g_0  \n",
       "12    0.000669     0.022730  bd_nh3g_14500  \n",
       "13    0.004281     0.001163      bd_nh3g_0  \n",
       "14    0.000593     0.015460  bd_nh3g_14500  \n",
       "15    0.003839     0.001102      bd_nh3g_0  \n",
       "16    0.002269     0.000357   bd_nh3g_1450  \n",
       "17    0.001254     0.011797      bd_nh3g_0  \n",
       "18    0.000799     0.022266   bd_nh3g_1450  \n",
       "19    0.003003     0.000452      bd_nh3g_0  \n",
       "20    0.000401     0.021842   bd_nh3g_1450  \n",
       "21    0.000602     0.015855   bd_nh3g_1450  \n",
       "22    0.001282     0.015250   bd_nh3g_1450  "
      ]
     },
     "execution_count": 228,
     "metadata": {},
     "output_type": "execute_result"
    }
   ],
   "source": [
    "df_nh3g_cleaned[df_nh3g_cleaned.solution == 'butenedial-peg6-181016']"
   ]
  }
 ],
 "metadata": {
  "kernelspec": {
   "display_name": "droplet",
   "language": "python",
   "name": "dropletenv"
  },
  "language_info": {
   "codemirror_mode": {
    "name": "ipython",
    "version": 3
   },
   "file_extension": ".py",
   "mimetype": "text/x-python",
   "name": "python",
   "nbconvert_exporter": "python",
   "pygments_lexer": "ipython3",
   "version": "3.7.4"
  }
 },
 "nbformat": 4,
 "nbformat_minor": 2
}
