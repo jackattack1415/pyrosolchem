{
 "cells": [
  {
   "cell_type": "code",
   "execution_count": 3,
   "metadata": {},
   "outputs": [],
   "source": [
    "import os\n",
    "notebook_wd = os.getcwd()"
   ]
  },
  {
   "cell_type": "code",
   "execution_count": 4,
   "metadata": {},
   "outputs": [],
   "source": [
    "from datetime import date\n",
    "import matplotlib.pyplot as plt\n",
    "import seaborn as sns\n",
    "import numpy as np"
   ]
  },
  {
   "cell_type": "code",
   "execution_count": 11,
   "metadata": {},
   "outputs": [],
   "source": [
    "os.chdir(os.path.join(notebook_wd, '..'))\n",
    "from src.d00_utils.conf_utils import *\n",
    "from src.d00_utils.data_utils import import_ms_data"
   ]
  },
  {
   "cell_type": "code",
   "execution_count": 10,
   "metadata": {},
   "outputs": [
    {
     "data": {
      "text/plain": [
       "{'bd_rxn_nh3g_droplet': {'paths': {'raw_data': '190924-butenedial-nh3g-droplets.csv',\n",
       "   'cleaned_data': '191010-bd_rxn_nh3g_droplet-CLEANED.csv',\n",
       "   'processed_data': '191010-bd_rxn_nh3g_droplet-PROCESSED.csv',\n",
       "   'clustered_data': '191010-bd_rxn_nh3g_droplet-CLUSTERED.csv'},\n",
       "  'experimental': {'composition': {'Butenedial': 0.75, 'PEG-6': 0.2}},\n",
       "  'processing': {'solution_name': ['butenedial-peg6-181016',\n",
       "    'butenedial-peg6-181018'],\n",
       "   'bad_idx': None,\n",
       "   'idx_range': None,\n",
       "   'trap_time': None,\n",
       "   'other_query': 'p283>=10000 and (solution==\"butenedial-peg6-181016\" or solution==\"butenedial-peg6-181018\")',\n",
       "   'y_col': 'mz84_mz283',\n",
       "   'p283_cutoff': 30000,\n",
       "   'columns_to_keep': ['trapped',\n",
       "    'solution',\n",
       "    'nominal_nh3_mM',\n",
       "    'mz84_mz283',\n",
       "    'mz85_mz283',\n",
       "    'mz149_mz283']}}}"
      ]
     },
     "execution_count": 10,
     "metadata": {},
     "output_type": "execute_result"
    }
   ],
   "source": [
    "compounds, water = load_compounds()\n",
    "exp_droplet_nh3g = load_experiments(['bd_rxn_nh3g_droplet'])\n",
    "constants = load_constants()\n",
    "exp_droplet_nh3g"
   ]
  },
  {
   "cell_type": "code",
   "execution_count": 14,
   "metadata": {},
   "outputs": [
    {
     "data": {
      "text/html": [
       "<div>\n",
       "<style scoped>\n",
       "    .dataframe tbody tr th:only-of-type {\n",
       "        vertical-align: middle;\n",
       "    }\n",
       "\n",
       "    .dataframe tbody tr th {\n",
       "        vertical-align: top;\n",
       "    }\n",
       "\n",
       "    .dataframe thead th {\n",
       "        text-align: right;\n",
       "    }\n",
       "</style>\n",
       "<table border=\"1\" class=\"dataframe\">\n",
       "  <thead>\n",
       "    <tr style=\"text-align: right;\">\n",
       "      <th></th>\n",
       "      <th>mins</th>\n",
       "      <th>solution</th>\n",
       "      <th>nominal_nh3_mM</th>\n",
       "      <th>mz84_mz283</th>\n",
       "      <th>mz85_mz283</th>\n",
       "      <th>mz149_mz283</th>\n",
       "      <th>experiment</th>\n",
       "    </tr>\n",
       "  </thead>\n",
       "  <tbody>\n",
       "    <tr>\n",
       "      <th>0</th>\n",
       "      <td>3</td>\n",
       "      <td>butenedial-peg6-181016</td>\n",
       "      <td>0.0</td>\n",
       "      <td>0.001706</td>\n",
       "      <td>0.005410</td>\n",
       "      <td>0.000648</td>\n",
       "      <td>bd_nh3g_00</td>\n",
       "    </tr>\n",
       "    <tr>\n",
       "      <th>1</th>\n",
       "      <td>3</td>\n",
       "      <td>butenedial-peg6-181016</td>\n",
       "      <td>1450.0</td>\n",
       "      <td>0.027495</td>\n",
       "      <td>0.001060</td>\n",
       "      <td>0.009438</td>\n",
       "      <td>bd_nh3g_14500</td>\n",
       "    </tr>\n",
       "    <tr>\n",
       "      <th>2</th>\n",
       "      <td>3</td>\n",
       "      <td>butenedial-peg6-181016</td>\n",
       "      <td>0.0</td>\n",
       "      <td>0.003821</td>\n",
       "      <td>0.007328</td>\n",
       "      <td>0.000598</td>\n",
       "      <td>bd_nh3g_00</td>\n",
       "    </tr>\n",
       "    <tr>\n",
       "      <th>3</th>\n",
       "      <td>4</td>\n",
       "      <td>butenedial-peg6-181016</td>\n",
       "      <td>0.0</td>\n",
       "      <td>0.000974</td>\n",
       "      <td>0.006895</td>\n",
       "      <td>0.001039</td>\n",
       "      <td>bd_nh3g_00</td>\n",
       "    </tr>\n",
       "    <tr>\n",
       "      <th>4</th>\n",
       "      <td>18</td>\n",
       "      <td>butenedial-peg6-181016</td>\n",
       "      <td>1450.0</td>\n",
       "      <td>0.022977</td>\n",
       "      <td>0.000669</td>\n",
       "      <td>0.022730</td>\n",
       "      <td>bd_nh3g_14500</td>\n",
       "    </tr>\n",
       "  </tbody>\n",
       "</table>\n",
       "</div>"
      ],
      "text/plain": [
       "   mins                solution  nominal_nh3_mM  mz84_mz283  mz85_mz283  \\\n",
       "0     3  butenedial-peg6-181016             0.0    0.001706    0.005410   \n",
       "1     3  butenedial-peg6-181016          1450.0    0.027495    0.001060   \n",
       "2     3  butenedial-peg6-181016             0.0    0.003821    0.007328   \n",
       "3     4  butenedial-peg6-181016             0.0    0.000974    0.006895   \n",
       "4    18  butenedial-peg6-181016          1450.0    0.022977    0.000669   \n",
       "\n",
       "   mz149_mz283     experiment  \n",
       "0     0.000648     bd_nh3g_00  \n",
       "1     0.009438  bd_nh3g_14500  \n",
       "2     0.000598     bd_nh3g_00  \n",
       "3     0.001039     bd_nh3g_00  \n",
       "4     0.022730  bd_nh3g_14500  "
      ]
     },
     "execution_count": 14,
     "metadata": {},
     "output_type": "execute_result"
    }
   ],
   "source": [
    "df_processed = import_ms_data(exp_droplet_nh3g['bd_rxn_nh3g_droplet']['paths']['processed_data'], \n",
    "                              subdirectory='bd_rxn_nh3g_droplet')\n",
    "\n",
    "df_processed.head()"
   ]
  },
  {
   "cell_type": "code",
   "execution_count": 18,
   "metadata": {},
   "outputs": [
    {
     "data": {
      "text/plain": [
       "<matplotlib.collections.PathCollection at 0x1c57184e0c8>"
      ]
     },
     "execution_count": 18,
     "metadata": {},
     "output_type": "execute_result"
    },
    {
     "data": {
      "image/png": "[encoded data removed]",
      "text/plain": [
       "<Figure size 432x288 with 1 Axes>"
      ]
     },
     "metadata": {
      "needs_background": "light"
     },
     "output_type": "display_data"
    }
   ],
   "source": [
    "plt.scatter(df_processed['mins'], df_processed['mz149_mz283'], df_processed['mz85_mz283'])"
   ]
  },
  {
   "cell_type": "code",
   "execution_count": 38,
   "metadata": {},
   "outputs": [
    {
     "data": {
      "text/plain": [
       "[3]"
      ]
     },
     "execution_count": 38,
     "metadata": {},
     "output_type": "execute_result"
    }
   ],
   "source": [
    "a = [[1, 3]]\n",
    "z = 1\n",
    "b = [item[1] for item in a]\n",
    "b"
   ]
  },
  {
   "cell_type": "code",
   "execution_count": 40,
   "metadata": {},
   "outputs": [],
   "source": [
    "from copy import copy\n",
    "import logging\n",
    "import matplotlib.pyplot as plt\n",
    "import numpy as np\n",
    "import pandas as pd\n",
    "from scipy.optimize import curve_fit\n",
    "from scipy.constants import pi, k, R, N_A\n",
    "from scipy.special import lambertw"
   ]
  },
  {
   "cell_type": "code",
   "execution_count": null,
   "metadata": {},
   "outputs": [],
   "source": [
    "def B(k1, k2, c0, P, t):\n",
    "    kevap = xx\n",
    "    B = -((k2 * P + kevap)*np.exp(k2 * c0 * P + c0 * kevap)) /\n",
    "    (2 * k1 * np.exp(k2 * c0 * P + c0 * kevap) - np.exp(t * (k2 * P + kevap)))\n",
    "    \n",
    "    return B\n",
    "\n",
    "def P(k1, k2, c0, B, t):\n",
    "    "
   ]
  },
  {
   "cell_type": "code",
   "execution_count": null,
   "metadata": {},
   "outputs": [],
   "source": [
    "def extract():\n",
    "    coef = optimize.curve_fit(function, tfit, observations,\n",
    "        bounds=([-np.inf], [0])\n",
    "    )\n",
    "\n",
    "    # draw a from normal distribution, incorporating uncertainty\n",
    "    # (diagonal of coef[1])\n",
    "    a = coef[0][0]"
   ]
  }
 ],
 "metadata": {
  "kernelspec": {
   "display_name": "droplet",
   "language": "python",
   "name": "dropletenv"
  },
  "language_info": {
   "codemirror_mode": {
    "name": "ipython",
    "version": 3
   },
   "file_extension": ".py",
   "mimetype": "text/x-python",
   "name": "python",
   "nbconvert_exporter": "python",
   "pygments_lexer": "ipython3",
   "version": "3.7.4"
  }
 },
 "nbformat": 4,
 "nbformat_minor": 2
}
