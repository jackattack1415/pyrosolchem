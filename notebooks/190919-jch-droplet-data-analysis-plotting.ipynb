{
 "cells": [
  {
   "cell_type": "code",
   "execution_count": 5,
   "metadata": {},
   "outputs": [],
   "source": [
    "import os\n",
    "notebook_wd = os.getcwd()"
   ]
  },
  {
   "cell_type": "code",
   "execution_count": 6,
   "metadata": {},
   "outputs": [],
   "source": [
    "import pandas as pd\n",
    "import numpy as np\n",
    "\n",
    "os.chdir(os.path.join(notebook_wd, '..'))\n",
    "from src.d00_utils.conf_utils import *"
   ]
  },
  {
   "cell_type": "code",
   "execution_count": 7,
   "metadata": {},
   "outputs": [
    {
     "data": {
      "text/plain": [
       "{'composition': {'Butenedial': 0.075, 'PEG-6': 0.2},\n",
       " 'solution_name': 'bd10hg20_008',\n",
       " 'idx_range': [63, 500],\n",
       " 'bad_idx': [113],\n",
       " 'trap_time': [2, 50],\n",
       " 'other_query': 'rh<20',\n",
       " 'y_col': 'n85',\n",
       " 'p283_cutoff': 1000,\n",
       " 'columns_to_keep': ['trapped', 'comp', 'experiment', 'n85'],\n",
       " 'number_of_steps': 3000.0,\n",
       " 'r_init': [1.14e-05, 1.44e-05],\n",
       " 'T': [298.6, 301.6],\n",
       " 'RH': [0.0, 0.05],\n",
       " 'x_water': [0.0, 0.05],\n",
       " 'value_idx': 0,\n",
       " 'norm_idx': 1,\n",
       " 'cal_data_time': 5,\n",
       " 'label': 'BD (dry)'}"
      ]
     },
     "execution_count": 7,
     "metadata": {},
     "output_type": "execute_result"
    }
   ],
   "source": [
    "compounds, water = load_compounds()\n",
    "experiments = load_experiments()\n",
    "constants = load_constants()\n",
    "paths = load_paths()\n",
    "experiments['bd_dry']"
   ]
  },
  {
   "cell_type": "code",
   "execution_count": 8,
   "metadata": {},
   "outputs": [],
   "source": [
    "from src.d00_utils.conf_utils import get_project_directory\n",
    "\n",
    "def import_ms_data(file_name, directory=None):\n",
    "    \n",
    "    if directory is not None:\n",
    "        data_path = os.path.join(directory, file_name)\n",
    "    else:\n",
    "        project_dir = get_project_directory()\n",
    "        data_path = os.path.join(project_dir, 'data', file_name)\n",
    "        \n",
    "    df = pd.read_csv(data_path)\n",
    "    \n",
    "    return df"
   ]
  },
  {
   "cell_type": "code",
   "execution_count": 9,
   "metadata": {},
   "outputs": [
    {
     "data": {
      "text/html": [
       "<div>\n",
       "<style scoped>\n",
       "    .dataframe tbody tr th:only-of-type {\n",
       "        vertical-align: middle;\n",
       "    }\n",
       "\n",
       "    .dataframe tbody tr th {\n",
       "        vertical-align: top;\n",
       "    }\n",
       "\n",
       "    .dataframe thead th {\n",
       "        text-align: right;\n",
       "    }\n",
       "</style>\n",
       "<table border=\"1\" class=\"dataframe\">\n",
       "  <thead>\n",
       "    <tr style=\"text-align: right;\">\n",
       "      <th></th>\n",
       "      <th>date</th>\n",
       "      <th>file</th>\n",
       "      <th>chrom</th>\n",
       "      <th>dc_trap</th>\n",
       "      <th>mfc</th>\n",
       "      <th>src1</th>\n",
       "      <th>src2</th>\n",
       "      <th>signal</th>\n",
       "      <th>vialstart</th>\n",
       "      <th>trapstart</th>\n",
       "      <th>...</th>\n",
       "      <th>p84_j</th>\n",
       "      <th>p85_j</th>\n",
       "      <th>p283_j</th>\n",
       "      <th>n84_j</th>\n",
       "      <th>n84</th>\n",
       "      <th>n85_j</th>\n",
       "      <th>n85</th>\n",
       "      <th>bad_data</th>\n",
       "      <th>nh3_vial</th>\n",
       "      <th>naoh_vial</th>\n",
       "    </tr>\n",
       "  </thead>\n",
       "  <tbody>\n",
       "    <tr>\n",
       "      <th>0</th>\n",
       "      <td>180815</td>\n",
       "      <td>6</td>\n",
       "      <td>0.52</td>\n",
       "      <td>680.0</td>\n",
       "      <td>303.0</td>\n",
       "      <td>NaN</td>\n",
       "      <td>NaN</td>\n",
       "      <td>1</td>\n",
       "      <td>NaN</td>\n",
       "      <td>NaN</td>\n",
       "      <td>...</td>\n",
       "      <td>NaN</td>\n",
       "      <td>3470.9</td>\n",
       "      <td>58881.1</td>\n",
       "      <td>NaN</td>\n",
       "      <td>0.000705</td>\n",
       "      <td>0.058948</td>\n",
       "      <td>0.058387</td>\n",
       "      <td>NaN</td>\n",
       "      <td>NaN</td>\n",
       "      <td>NaN</td>\n",
       "    </tr>\n",
       "    <tr>\n",
       "      <th>1</th>\n",
       "      <td>180815</td>\n",
       "      <td>6</td>\n",
       "      <td>8.66</td>\n",
       "      <td>600.0</td>\n",
       "      <td>244.0</td>\n",
       "      <td>NaN</td>\n",
       "      <td>NaN</td>\n",
       "      <td>1</td>\n",
       "      <td>NaN</td>\n",
       "      <td>NaN</td>\n",
       "      <td>...</td>\n",
       "      <td>NaN</td>\n",
       "      <td>1370.8</td>\n",
       "      <td>21289.4</td>\n",
       "      <td>NaN</td>\n",
       "      <td>0.001825</td>\n",
       "      <td>0.064389</td>\n",
       "      <td>0.060608</td>\n",
       "      <td>NaN</td>\n",
       "      <td>NaN</td>\n",
       "      <td>NaN</td>\n",
       "    </tr>\n",
       "    <tr>\n",
       "      <th>2</th>\n",
       "      <td>180816</td>\n",
       "      <td>1</td>\n",
       "      <td>0.85</td>\n",
       "      <td>470.0</td>\n",
       "      <td>250.0</td>\n",
       "      <td>NaN</td>\n",
       "      <td>NaN</td>\n",
       "      <td>1</td>\n",
       "      <td>NaN</td>\n",
       "      <td>NaN</td>\n",
       "      <td>...</td>\n",
       "      <td>NaN</td>\n",
       "      <td>1738.1</td>\n",
       "      <td>55019.3</td>\n",
       "      <td>NaN</td>\n",
       "      <td>0.000779</td>\n",
       "      <td>0.031591</td>\n",
       "      <td>0.032168</td>\n",
       "      <td>NaN</td>\n",
       "      <td>NaN</td>\n",
       "      <td>NaN</td>\n",
       "    </tr>\n",
       "    <tr>\n",
       "      <th>3</th>\n",
       "      <td>180816</td>\n",
       "      <td>2</td>\n",
       "      <td>1.00</td>\n",
       "      <td>570.0</td>\n",
       "      <td>275.0</td>\n",
       "      <td>NaN</td>\n",
       "      <td>NaN</td>\n",
       "      <td>1</td>\n",
       "      <td>NaN</td>\n",
       "      <td>NaN</td>\n",
       "      <td>...</td>\n",
       "      <td>NaN</td>\n",
       "      <td>2199.8</td>\n",
       "      <td>98592.0</td>\n",
       "      <td>NaN</td>\n",
       "      <td>0.000090</td>\n",
       "      <td>0.022312</td>\n",
       "      <td>0.022524</td>\n",
       "      <td>NaN</td>\n",
       "      <td>NaN</td>\n",
       "      <td>NaN</td>\n",
       "    </tr>\n",
       "    <tr>\n",
       "      <th>4</th>\n",
       "      <td>180816</td>\n",
       "      <td>3</td>\n",
       "      <td>1.00</td>\n",
       "      <td>560.0</td>\n",
       "      <td>245.0</td>\n",
       "      <td>NaN</td>\n",
       "      <td>NaN</td>\n",
       "      <td>1</td>\n",
       "      <td>NaN</td>\n",
       "      <td>NaN</td>\n",
       "      <td>...</td>\n",
       "      <td>NaN</td>\n",
       "      <td>477.2</td>\n",
       "      <td>20871.9</td>\n",
       "      <td>NaN</td>\n",
       "      <td>0.002030</td>\n",
       "      <td>0.022863</td>\n",
       "      <td>0.021951</td>\n",
       "      <td>NaN</td>\n",
       "      <td>NaN</td>\n",
       "      <td>NaN</td>\n",
       "    </tr>\n",
       "  </tbody>\n",
       "</table>\n",
       "<p>5 rows × 45 columns</p>\n",
       "</div>"
      ],
      "text/plain": [
       "     date  file  chrom  dc_trap    mfc src1 src2  signal  vialstart trapstart  \\\n",
       "0  180815     6   0.52    680.0  303.0  NaN  NaN       1        NaN       NaN   \n",
       "1  180815     6   8.66    600.0  244.0  NaN  NaN       1        NaN       NaN   \n",
       "2  180816     1   0.85    470.0  250.0  NaN  NaN       1        NaN       NaN   \n",
       "3  180816     2   1.00    570.0  275.0  NaN  NaN       1        NaN       NaN   \n",
       "4  180816     3   1.00    560.0  245.0  NaN  NaN       1        NaN       NaN   \n",
       "\n",
       "   ... p84_j   p85_j   p283_j  n84_j       n84     n85_j       n85  bad_data  \\\n",
       "0  ...   NaN  3470.9  58881.1    NaN  0.000705  0.058948  0.058387       NaN   \n",
       "1  ...   NaN  1370.8  21289.4    NaN  0.001825  0.064389  0.060608       NaN   \n",
       "2  ...   NaN  1738.1  55019.3    NaN  0.000779  0.031591  0.032168       NaN   \n",
       "3  ...   NaN  2199.8  98592.0    NaN  0.000090  0.022312  0.022524       NaN   \n",
       "4  ...   NaN   477.2  20871.9    NaN  0.002030  0.022863  0.021951       NaN   \n",
       "\n",
       "   nh3_vial  naoh_vial  \n",
       "0       NaN        NaN  \n",
       "1       NaN        NaN  \n",
       "2       NaN        NaN  \n",
       "3       NaN        NaN  \n",
       "4       NaN        NaN  \n",
       "\n",
       "[5 rows x 45 columns]"
      ]
     },
     "execution_count": 9,
     "metadata": {},
     "output_type": "execute_result"
    }
   ],
   "source": [
    "df = import_ms_data(file_name=paths['raw_data'])\n",
    "df.head()"
   ]
  },
  {
   "cell_type": "code",
   "execution_count": 10,
   "metadata": {},
   "outputs": [],
   "source": [
    "def add_normalized_intensity_column(df, internal_std='p283'):\n",
    "    \"\"\"Add \"n###\" columns to DataFrame of normalized peak intensities.\n",
    "\n",
    "    \"\"\"\n",
    "\n",
    "    p_cols = [col for col in df.columns if col[0] == 'p']  # first column of mass spec peaks is p\n",
    "\n",
    "    for tick, p_col in enumerate(p_cols):\n",
    "        df['n' + p_col[1:]] = df[p_col] / df[internal_std]\n",
    "\n",
    "    return df"
   ]
  },
  {
   "cell_type": "code",
   "execution_count": 11,
   "metadata": {},
   "outputs": [
    {
     "data": {
      "text/plain": [
       "array(['bd10hg20_001', 'bd10hg20_002', 'hg20as10_002', 'bd10hg10sc10_001',\n",
       "       'bd10hg10ss10_001', 'bd10hg20_005', 'bd10hg20_006', 'bd10hg20_007',\n",
       "       'bd10hg20_008', 'bd10hg15ss05_001', 'bd15hg14sc02_001'],\n",
       "      dtype=object)"
      ]
     },
     "execution_count": 11,
     "metadata": {},
     "output_type": "execute_result"
    }
   ],
   "source": [
    "df = add_normalized_intensity_column(df)\n",
    "df.comp.unique()"
   ]
  },
  {
   "cell_type": "code",
   "execution_count": 12,
   "metadata": {},
   "outputs": [],
   "source": [
    "def filter_ms_data_in_experiments(df, experiment_parameters):\n",
    "    \"\"\"\n",
    "    \"\"\"\n",
    "\n",
    "    df_filtered = pd.DataFrame()\n",
    "    for experiment_name, experiment in experiment_parameters.items():\n",
    "        query_parts = []\n",
    "        query_parts.append(\"comp == '{}'\".format(experiment['solution_name']))\n",
    "        query_parts.append(\"trapped>={} and trapped<{}\".format(*experiment['trap_time']))\n",
    "\n",
    "        if experiment['other_query'] is not None:\n",
    "            query_parts.append(experiment['other_query'])\n",
    "\n",
    "        query = \" and \".join(query_parts)\n",
    "\n",
    "        df_experiment = (df.query(query).loc[experiment['idx_range'][0]:experiment['idx_range'][1]])\n",
    "        if experiment['bad_idx'] is not None:\n",
    "            df_experiment = df_experiment.drop(experiment['bad_idx'])\n",
    "\n",
    "        df_experiment['experiment'] = experiment_name\n",
    "        df_filtered = df_filtered.append(df_experiment)\n",
    "\n",
    "    return df_filtered"
   ]
  },
  {
   "cell_type": "code",
   "execution_count": 13,
   "metadata": {},
   "outputs": [
    {
     "data": {
      "text/plain": [
       "array(['bd_dry', 'bd_wet', 'bd_nacl_high', 'bd_nacl_low',\n",
       "       'bd_na2so4_high', 'bd_na2so4_low'], dtype=object)"
      ]
     },
     "execution_count": 13,
     "metadata": {},
     "output_type": "execute_result"
    }
   ],
   "source": [
    "df_filtered = filter_ms_data_in_experiments(df, experiment_parameters=experiments)\n",
    "df_filtered.experiment.unique()"
   ]
  },
  {
   "cell_type": "code",
   "execution_count": 14,
   "metadata": {},
   "outputs": [],
   "source": [
    "def clean_ms_data_in_experiments(df_filtered, experiment_parameters):\n",
    "    \"\"\"\n",
    "    \"\"\"\n",
    "\n",
    "    df_cleaned = pd.DataFrame()\n",
    "\n",
    "    for name, experiment in experiment_parameters.items():\n",
    "        experiment_cleaned = df_filtered[df_filtered.experiment == name][experiment['columns_to_keep']]\n",
    "\n",
    "        df_cleaned = df_cleaned.append(experiment_cleaned)\n",
    "\n",
    "    df_cleaned = df_cleaned.rename(columns={'trapped': 'mins', 'comp': 'solution_name'})\n",
    "\n",
    "    return df_cleaned"
   ]
  },
  {
   "cell_type": "code",
   "execution_count": 15,
   "metadata": {},
   "outputs": [
    {
     "data": {
      "text/html": [
       "<div>\n",
       "<style scoped>\n",
       "    .dataframe tbody tr th:only-of-type {\n",
       "        vertical-align: middle;\n",
       "    }\n",
       "\n",
       "    .dataframe tbody tr th {\n",
       "        vertical-align: top;\n",
       "    }\n",
       "\n",
       "    .dataframe thead th {\n",
       "        text-align: right;\n",
       "    }\n",
       "</style>\n",
       "<table border=\"1\" class=\"dataframe\">\n",
       "  <thead>\n",
       "    <tr style=\"text-align: right;\">\n",
       "      <th></th>\n",
       "      <th>mins</th>\n",
       "      <th>solution_name</th>\n",
       "      <th>experiment</th>\n",
       "      <th>n85</th>\n",
       "    </tr>\n",
       "  </thead>\n",
       "  <tbody>\n",
       "    <tr>\n",
       "      <th>102</th>\n",
       "      <td>23.0</td>\n",
       "      <td>bd10hg20_008</td>\n",
       "      <td>bd_dry</td>\n",
       "      <td>0.009295</td>\n",
       "    </tr>\n",
       "    <tr>\n",
       "      <th>103</th>\n",
       "      <td>22.0</td>\n",
       "      <td>bd10hg20_008</td>\n",
       "      <td>bd_dry</td>\n",
       "      <td>0.014990</td>\n",
       "    </tr>\n",
       "    <tr>\n",
       "      <th>104</th>\n",
       "      <td>21.0</td>\n",
       "      <td>bd10hg20_008</td>\n",
       "      <td>bd_dry</td>\n",
       "      <td>0.005597</td>\n",
       "    </tr>\n",
       "    <tr>\n",
       "      <th>105</th>\n",
       "      <td>46.0</td>\n",
       "      <td>bd10hg20_008</td>\n",
       "      <td>bd_dry</td>\n",
       "      <td>0.013988</td>\n",
       "    </tr>\n",
       "    <tr>\n",
       "      <th>107</th>\n",
       "      <td>10.0</td>\n",
       "      <td>bd10hg20_008</td>\n",
       "      <td>bd_dry</td>\n",
       "      <td>0.027411</td>\n",
       "    </tr>\n",
       "  </tbody>\n",
       "</table>\n",
       "</div>"
      ],
      "text/plain": [
       "     mins solution_name experiment       n85\n",
       "102  23.0  bd10hg20_008     bd_dry  0.009295\n",
       "103  22.0  bd10hg20_008     bd_dry  0.014990\n",
       "104  21.0  bd10hg20_008     bd_dry  0.005597\n",
       "105  46.0  bd10hg20_008     bd_dry  0.013988\n",
       "107  10.0  bd10hg20_008     bd_dry  0.027411"
      ]
     },
     "execution_count": 15,
     "metadata": {},
     "output_type": "execute_result"
    }
   ],
   "source": [
    "df_cleaned = clean_ms_data_in_experiments(df_filtered, experiment_parameters=experiments)\n",
    "df_cleaned.head()"
   ]
  },
  {
   "cell_type": "code",
   "execution_count": 16,
   "metadata": {},
   "outputs": [
    {
     "data": {
      "text/plain": [
       "102    False\n",
       "103    False\n",
       "104    False\n",
       "105    False\n",
       "107    False\n",
       "108    False\n",
       "109    False\n",
       "114    False\n",
       "115    False\n",
       "116    False\n",
       "117    False\n",
       "118    False\n",
       "119    False\n",
       "120    False\n",
       "121    False\n",
       "122    False\n",
       "123    False\n",
       "138    False\n",
       "139    False\n",
       "18     False\n",
       "19     False\n",
       "20     False\n",
       "21     False\n",
       "24     False\n",
       "25     False\n",
       "26     False\n",
       "27     False\n",
       "28     False\n",
       "29     False\n",
       "30     False\n",
       "       ...  \n",
       "149    False\n",
       "160    False\n",
       "161    False\n",
       "162    False\n",
       "163    False\n",
       "164    False\n",
       "165    False\n",
       "70     False\n",
       "71     False\n",
       "72     False\n",
       "73     False\n",
       "74     False\n",
       "76     False\n",
       "77     False\n",
       "78     False\n",
       "79     False\n",
       "80     False\n",
       "81     False\n",
       "82     False\n",
       "183    False\n",
       "184    False\n",
       "185    False\n",
       "186    False\n",
       "187    False\n",
       "188    False\n",
       "189    False\n",
       "191    False\n",
       "192    False\n",
       "193    False\n",
       "194    False\n",
       "Name: experiment, Length: 90, dtype: bool"
      ]
     },
     "execution_count": 16,
     "metadata": {},
     "output_type": "execute_result"
    }
   ],
   "source": [
    "df_cleaned.experiment.isin(['bd_hg_dry'])"
   ]
  },
  {
   "cell_type": "code",
   "execution_count": 78,
   "metadata": {},
   "outputs": [],
   "source": [
    "import seaborn as sns\n",
    "from datetime import date\n",
    "import matplotlib.pyplot as plt\n",
    "\n",
    "def plot_ms_data(df, experiment_names, t_col_name, y_col_name, y_axis_label):\n",
    "    \"\"\" plots time evolution of compounds in solution (e.g., droplet). Figure saved in results as png.\n",
    "\n",
    "    :param compounds: (dict) dictionary of definitions of each compound.\n",
    "    :param ts: (ndarray(floats)) 1D array of floats of times in simulation.\n",
    "    :param ys: (ndarray(floats)) 2D array of floats of y parameter to plot by compound and time in simulation.\n",
    "    :param y_axis: (str) can either be M, n, or N and governs the resulting y axis label. corresponds to ys.\n",
    "    :param rs: (ndarray(floats)) 1D array of floats of radii (m) in time in simulation. Not plotted if None.\n",
    "    \"\"\"\n",
    "\n",
    "    sns.set(style=\"ticks\")  # sets sns as the rule\n",
    "    sns.set_context(\"talk\")\n",
    "    sns.set_palette(\"Spectral\")\n",
    "\n",
    "    N_expt = len(experiment_names)\n",
    "    x_max = 0\n",
    "    y_max = 0\n",
    "    for tick in range(N_expt):\n",
    "        experiment_name = experiment_names[tick]\n",
    "        xs = df[df.experiment == experiment_name][t_col_name]\n",
    "        ys = df[df.experiment == experiment_name][y_col_name]\n",
    "        \n",
    "        if xs.max() > x_max:\n",
    "            x_max = xs.max()\n",
    "        if ys.max() > y_max:\n",
    "            y_max = ys.max()\n",
    "        \n",
    "        ax = sns.scatterplot(x=xs, y=ys, label=experiment_name, alpha=1, s=200)\n",
    "\n",
    "    ax.set(xlabel='time (%s)' % (t_col_name), ylabel=y_axis_label, \n",
    "           ylim=(-y_max*0.1, y_max*1.1), xlim=(-x_max*0.05, x_max*1.05))\n",
    "    ax.legend(title='Experiment')\n",
    "\n",
    "    project_dir = get_project_directory()\n",
    "    today_str = date.today().strftime(\"%Y%m%d\")\n",
    "    expt_strings = '-'.join(experiment_names)\n",
    "    file_name = today_str[2:] + '-' + expt_strings + '.png'\n",
    "    file_path = os.path.join(project_dir, 'results', 'figs_out', file_name)\n",
    "\n",
    "    plt.savefig(file_path, bbox_inches='tight', dpi=300, transparent=True)"
   ]
  },
  {
   "cell_type": "code",
   "execution_count": 76,
   "metadata": {},
   "outputs": [
    {
     "data": {
      "text/plain": [
       "array(['bd_dry', 'bd_wet', 'bd_nacl_high', 'bd_nacl_low',\n",
       "       'bd_na2so4_high', 'bd_na2so4_low'], dtype=object)"
      ]
     },
     "execution_count": 76,
     "metadata": {},
     "output_type": "execute_result"
    }
   ],
   "source": [
    "df_cleaned.experiment.unique()"
   ]
  },
  {
   "cell_type": "code",
   "execution_count": 79,
   "metadata": {},
   "outputs": [
    {
     "data": {
      "image/png": "[encoded data removed]",
      "text/plain": [
       "<Figure size 432x288 with 1 Axes>"
      ]
     },
     "metadata": {},
     "output_type": "display_data"
    }
   ],
   "source": [
    "plot_ms_data(df_cleaned, ['bd_wet', 'bd_na2so4_low', 'bd_na2so4_high'], 'mins', 'n85', y_axis_label='n85')"
   ]
  }
 ],
 "metadata": {
  "kernelspec": {
   "display_name": "droplet",
   "language": "python",
   "name": "dropletenv"
  },
  "language_info": {
   "codemirror_mode": {
    "name": "ipython",
    "version": 3
   },
   "file_extension": ".py",
   "mimetype": "text/x-python",
   "name": "python",
   "nbconvert_exporter": "python",
   "pygments_lexer": "ipython3",
   "version": "3.7.4"
  }
 },
 "nbformat": 4,
 "nbformat_minor": 2
}
