{
 "cells": [
  {
   "cell_type": "code",
   "execution_count": 1,
   "metadata": {},
   "outputs": [],
   "source": [
    "import numpy as np"
   ]
  },
  {
   "cell_type": "code",
   "execution_count": 10,
   "metadata": {},
   "outputs": [
    {
     "name": "stdout",
     "output_type": "stream",
     "text": [
      "[0.17109464 0.09068255 0.00780236 0.06432967 0.06186158 0.6042292 ]\n"
     ]
    }
   ],
   "source": [
    "# bd_ph92_ah_001 = np.array([.2149, .1139, .0098, 0.0808, 0.0777, 0.5756])\n",
    "bd_ph92_ah_001 = np.array([.2149, .1139, .0098, 0.0808, 0.0777, 0.5756 + .2149*.6 + .0777*.7])\n",
    "\n",
    "print(bd_ph92_ah_001/np.sum(bd_ph92_ah_001))"
   ]
  },
  {
   "cell_type": "code",
   "execution_count": 11,
   "metadata": {},
   "outputs": [
    {
     "data": {
      "text/plain": [
       "0.75893"
      ]
     },
     "execution_count": 11,
     "metadata": {},
     "output_type": "execute_result"
    }
   ],
   "source": [
    "0.5756 + .2149*.6 + .0777*.7"
   ]
  },
  {
   "cell_type": "code",
   "execution_count": 16,
   "metadata": {},
   "outputs": [
    {
     "name": "stdout",
     "output_type": "stream",
     "text": [
      "[0.06972967 0.10156858 0.04605629 0.0056736  0.72056959 0.05640227]\n"
     ]
    }
   ],
   "source": [
    "bd_ah_002 = np.array([.1567*.4, .0913, .0414, .0051, .5537 + .1567*.6, .0507])\n",
    "print(bd_ah_002/np.sum(bd_ah_002))"
   ]
  },
  {
   "cell_type": "code",
   "execution_count": 17,
   "metadata": {},
   "outputs": [
    {
     "data": {
      "text/plain": [
       "0.5714285714285714"
      ]
     },
     "execution_count": 17,
     "metadata": {},
     "output_type": "execute_result"
    }
   ],
   "source": [
    "20 / 35"
   ]
  }
 ],
 "metadata": {
  "kernelspec": {
   "display_name": "Python (myenv)",
   "language": "python",
   "name": "myenv"
  },
  "language_info": {
   "codemirror_mode": {
    "name": "ipython",
    "version": 3
   },
   "file_extension": ".py",
   "mimetype": "text/x-python",
   "name": "python",
   "nbconvert_exporter": "python",
   "pygments_lexer": "ipython3",
   "version": "3.7.3"
  }
 },
 "nbformat": 4,
 "nbformat_minor": 2
}
