{
 "cells": [
  {
   "cell_type": "markdown",
   "metadata": {},
   "source": [
    "goal is to obtain butenedial decay rates as a function of pH"
   ]
  },
  {
   "cell_type": "code",
   "execution_count": 1,
   "metadata": {},
   "outputs": [
    {
     "data": {
      "text/plain": [
       "'C:\\\\Users\\\\joh3146\\\\Documents\\\\pyrosolchem\\\\notebooks'"
      ]
     },
     "execution_count": 1,
     "metadata": {},
     "output_type": "execute_result"
    }
   ],
   "source": [
    "import os\n",
    "notebook_wd = os.getcwd()\n",
    "notebook_wd"
   ]
  },
  {
   "cell_type": "code",
   "execution_count": 2,
   "metadata": {},
   "outputs": [],
   "source": [
    "os.chdir(os.path.join(notebook_wd, '..'))"
   ]
  },
  {
   "cell_type": "code",
   "execution_count": 3,
   "metadata": {},
   "outputs": [],
   "source": [
    "import pandas as pd\n",
    "import numpy as np\n",
    "import seaborn as sns\n",
    "import matplotlib.pyplot as plt\n",
    "\n",
    "sns.set(context='talk')\n",
    "\n",
    "%matplotlib inline\n",
    "\n",
    "from src.d00_utils.conf_utils import *\n",
    "from src.d00_utils.data_utils import *\n",
    "from src.d00_utils.plotting_utils import *"
   ]
  },
  {
   "cell_type": "code",
   "execution_count": 4,
   "metadata": {},
   "outputs": [
    {
     "data": {
      "text/html": [
       "<div>\n",
       "<style scoped>\n",
       "    .dataframe tbody tr th:only-of-type {\n",
       "        vertical-align: middle;\n",
       "    }\n",
       "\n",
       "    .dataframe tbody tr th {\n",
       "        vertical-align: top;\n",
       "    }\n",
       "\n",
       "    .dataframe thead th {\n",
       "        text-align: right;\n",
       "    }\n",
       "</style>\n",
       "<table border=\"1\" class=\"dataframe\">\n",
       "  <thead>\n",
       "    <tr style=\"text-align: right;\">\n",
       "      <th></th>\n",
       "      <th>sample</th>\n",
       "      <th>pH_est</th>\n",
       "      <th>t_mix</th>\n",
       "      <th>t_ nmr</th>\n",
       "      <th>t_elapsed</th>\n",
       "      <th>bd_sig_norm</th>\n",
       "    </tr>\n",
       "  </thead>\n",
       "  <tbody>\n",
       "    <tr>\n",
       "      <th>0</th>\n",
       "      <td>bd_ph9.6_d2o_001</td>\n",
       "      <td>9.6</td>\n",
       "      <td>11:31</td>\n",
       "      <td>11:34:30</td>\n",
       "      <td>0:03:30</td>\n",
       "      <td>6.86</td>\n",
       "    </tr>\n",
       "    <tr>\n",
       "      <th>1</th>\n",
       "      <td>bd_ph9.6_d2o_001</td>\n",
       "      <td>9.6</td>\n",
       "      <td>11:31</td>\n",
       "      <td>11:39</td>\n",
       "      <td>0:08:00</td>\n",
       "      <td>6.43</td>\n",
       "    </tr>\n",
       "    <tr>\n",
       "      <th>2</th>\n",
       "      <td>bd_ph9.6_d2o_001</td>\n",
       "      <td>9.6</td>\n",
       "      <td>11:31</td>\n",
       "      <td>11:42:30</td>\n",
       "      <td>0:11:30</td>\n",
       "      <td>5.85</td>\n",
       "    </tr>\n",
       "    <tr>\n",
       "      <th>3</th>\n",
       "      <td>bd_ph9.6_d2o_001</td>\n",
       "      <td>9.6</td>\n",
       "      <td>11:31</td>\n",
       "      <td>11:46:30</td>\n",
       "      <td>0:15:30</td>\n",
       "      <td>5.35</td>\n",
       "    </tr>\n",
       "    <tr>\n",
       "      <th>4</th>\n",
       "      <td>bd_ph9.6_d2o_001</td>\n",
       "      <td>9.6</td>\n",
       "      <td>11:31</td>\n",
       "      <td>11:50</td>\n",
       "      <td>0:19:00</td>\n",
       "      <td>4.71</td>\n",
       "    </tr>\n",
       "  </tbody>\n",
       "</table>\n",
       "</div>"
      ],
      "text/plain": [
       "             sample  pH_est  t_mix    t_ nmr t_elapsed  bd_sig_norm\n",
       "0  bd_ph9.6_d2o_001     9.6  11:31  11:34:30   0:03:30         6.86\n",
       "1  bd_ph9.6_d2o_001     9.6  11:31     11:39   0:08:00         6.43\n",
       "2  bd_ph9.6_d2o_001     9.6  11:31  11:42:30   0:11:30         5.85\n",
       "3  bd_ph9.6_d2o_001     9.6  11:31  11:46:30   0:15:30         5.35\n",
       "4  bd_ph9.6_d2o_001     9.6  11:31     11:50   0:19:00         4.71"
      ]
     },
     "execution_count": 4,
     "metadata": {},
     "output_type": "execute_result"
    }
   ],
   "source": [
    "csv_file_dir = os.path.join(notebook_wd, '..', 'data', '20200109_butenedial_decay.csv')\n",
    "df = pd.read_csv(csv_file_dir)\n",
    "df.head()"
   ]
  },
  {
   "cell_type": "markdown",
   "metadata": {},
   "source": [
    "have the right file name, now perform a simple plot to look at the data."
   ]
  },
  {
   "cell_type": "code",
   "execution_count": 5,
   "metadata": {},
   "outputs": [
    {
     "data": {
      "text/plain": [
       "0     3.5\n",
       "1     8.0\n",
       "2    11.5\n",
       "3    15.5\n",
       "4    19.0\n",
       "Name: t, dtype: float64"
      ]
     },
     "execution_count": 5,
     "metadata": {},
     "output_type": "execute_result"
    }
   ],
   "source": [
    "# need to fix the time column to plot\n",
    "df['t'] = df['t_elapsed'].str.split(':').apply(lambda x: int(x[0]) * 60 + int(x[1]) + int(x[2]) / 60)\n",
    "df.t.head()"
   ]
  },
  {
   "cell_type": "code",
   "execution_count": 6,
   "metadata": {},
   "outputs": [
    {
     "data": {
      "text/plain": [
       "Text(0, 0.5, 'normalized butenedial signal')"
      ]
     },
     "execution_count": 6,
     "metadata": {},
     "output_type": "execute_result"
    },
    {
     "data": {
      "image/png": "[encoded data removed]",
      "text/plain": [
       "<Figure size 432x288 with 1 Axes>"
      ]
     },
     "metadata": {
      "needs_background": "light"
     },
     "output_type": "display_data"
    }
   ],
   "source": [
    "pHs = df.pH_est.unique()\n",
    "N_sample = len(pHs)\n",
    "\n",
    "fig, ax = plt.subplots(1,1)\n",
    "\n",
    "for tick in range(N_sample):\n",
    "    df_sub = df[df.pH_est == pHs[tick]]\n",
    "    \n",
    "    ax.scatter(df_sub.t, df_sub.bd_sig_norm, label=pHs[tick])\n",
    "    \n",
    "ax.legend(title='pH')\n",
    "ax.set_xlabel('time (min)')\n",
    "ax.set_ylabel('normalized butenedial signal')"
   ]
  },
  {
   "cell_type": "markdown",
   "metadata": {},
   "source": [
    "notes: they should all start from the same signal (since the butenedial and dms molarity should have remained constant through experiments); looks somewhat exponential (can we assume that the pH remains roughly constant?? and if not, what does that say about the shapes of the lines and how they should be fit?)\n",
    "\n",
    "\n",
    "for now i'll assume that ph is constant and extract first order rate terms. the ph can probably more accurately been taken with acetic acid shifts and then applied with the disproportionation function (see below)."
   ]
  },
  {
   "cell_type": "code",
   "execution_count": 7,
   "metadata": {},
   "outputs": [
    {
     "data": {
      "text/plain": [
       "0    1.925707\n",
       "1    1.860975\n",
       "2    1.766442\n",
       "3    1.677097\n",
       "4    1.549688\n",
       "Name: ln_sig, dtype: float64"
      ]
     },
     "execution_count": 7,
     "metadata": {},
     "output_type": "execute_result"
    }
   ],
   "source": [
    "df['ln_sig'] = np.log(df.bd_sig_norm)\n",
    "df.ln_sig.head()"
   ]
  },
  {
   "cell_type": "code",
   "execution_count": 8,
   "metadata": {},
   "outputs": [
    {
     "data": {
      "text/plain": [
       "Text(0, 0.5, 'log(normalized butenedial signal)')"
      ]
     },
     "execution_count": 8,
     "metadata": {},
     "output_type": "execute_result"
    },
    {
     "data": {
      "image/png": "[encoded data removed]",
      "text/plain": [
       "<Figure size 432x288 with 1 Axes>"
      ]
     },
     "metadata": {
      "needs_background": "light"
     },
     "output_type": "display_data"
    }
   ],
   "source": [
    "pHs = df.pH_est.unique()\n",
    "N_sample = len(pHs)\n",
    "\n",
    "fig, ax = plt.subplots(1,1)\n",
    "\n",
    "for tick in range(N_sample):\n",
    "    df_sub = df[df.pH_est == pHs[tick]]\n",
    "    \n",
    "    ax.scatter(df_sub.t, df_sub.ln_sig, label=pHs[tick])\n",
    "    \n",
    "ax.legend(title='pH')\n",
    "ax.set_xlabel('time (min)')\n",
    "ax.set_ylabel('log(normalized butenedial signal)')"
   ]
  },
  {
   "cell_type": "markdown",
   "metadata": {},
   "source": [
    "looks approximately linear, but again, they should be going through the same y-intercept. i can only assume that there is a big ph shift in the beginning for the faster reactions.\n",
    "\n",
    "perform linear regression with sklearn on the log data."
   ]
  },
  {
   "cell_type": "code",
   "execution_count": 9,
   "metadata": {},
   "outputs": [],
   "source": [
    "from src.d01_data.perform_ols import *\n",
    "from sklearn.linear_model import LinearRegression"
   ]
  },
  {
   "cell_type": "code",
   "execution_count": 10,
   "metadata": {},
   "outputs": [
    {
     "data": {
      "image/png": "[encoded data removed]",
      "text/plain": [
       "<Figure size 432x288 with 1 Axes>"
      ]
     },
     "metadata": {
      "needs_background": "light"
     },
     "output_type": "display_data"
    }
   ],
   "source": [
    "fig, ax = plt.subplots()\n",
    "\n",
    "sns.set_context('talk')\n",
    "\n",
    "for tick in range(N_sample):\n",
    "    df_sub = df[df.pH_est == pHs[tick]]\n",
    "    \n",
    "    x_data = df_sub[df_sub.pH_est == pHs[tick]].t.values.reshape(-1, 1)\n",
    "    y_data = df_sub[df_sub.pH_est == pHs[tick]].ln_sig.values\n",
    "\n",
    "    b0, b1, score = perform_regression(x_data, y_data)\n",
    "    xs, lnyhats = generate_linear_data(x_data, b0, b1)\n",
    "    yhats = np.exp(lnyhats)\n",
    "\n",
    "    label = 'pH=' + str(pHs[tick]) + ', k=' + str(b1[0])[0:5]\n",
    "    ax.scatter(df_sub.t, df_sub.bd_sig_norm, label=label)\n",
    "    ax.plot(xs, yhats)\n",
    "    \n",
    "ax.legend(prop={'size': 12})\n",
    "ax.set_xlabel('time elapsed (min)')\n",
    "ax.set_ylabel('BD (normalized signal)');"
   ]
  },
  {
   "cell_type": "markdown",
   "metadata": {},
   "source": [
    "for later: a starting place for the disproportionation functions"
   ]
  },
  {
   "cell_type": "code",
   "execution_count": 11,
   "metadata": {},
   "outputs": [],
   "source": [
    "def disproportionation_fn(y, t, coefs):\n",
    "    \"\"\"\n",
    "    Your system of differential equations\n",
    "    \"\"\"\n",
    "\n",
    "    B = y[0]\n",
    "\n",
    "    a0 = coefs['a0'].value\n",
    "    a1 = coefs['a1'].value\n",
    "    a2 = coefs['a2'].value\n",
    "    \n",
    "    OH_minus = 10**(-9.6)\n",
    "    \n",
    "    # the model equation (franske & reilly, 1986)\n",
    "    dBdt = (a0 * OH_minus + a2 * (OH_minus**2) * B) / (1 + a3 * OH_minus)\n",
    "    \n",
    "    return [dBdt]"
   ]
  },
  {
   "cell_type": "code",
   "execution_count": 12,
   "metadata": {},
   "outputs": [],
   "source": [
    "def g(t, y0, coefs):\n",
    "    \"\"\"\n",
    "    Solution to the ODE y'(t) = f(t,y,k) with initial condition y0\n",
    "    \"\"\"\n",
    "    \n",
    "    y = odeint(droplet_function, y0, t, args=(coefs,))\n",
    "    \n",
    "    return y"
   ]
  },
  {
   "cell_type": "code",
   "execution_count": 13,
   "metadata": {},
   "outputs": [],
   "source": [
    "def residual(coefs, t, data):\n",
    "    \"\"\"\n",
    "    compute the residual between actual data and fitted data\n",
    "    \"\"\"\n",
    "\n",
    "    y0 = coefs['B_0'].value\n",
    "    model = g(t, y0, coefs).T\n",
    "\n",
    "    return (model - data).ravel()"
   ]
  },
  {
   "cell_type": "code",
   "execution_count": 14,
   "metadata": {},
   "outputs": [
    {
     "ename": "NameError",
     "evalue": "name 'Parameters' is not defined",
     "output_type": "error",
     "traceback": [
      "\u001b[1;31m---------------------------------------------------------------------------\u001b[0m",
      "\u001b[1;31mNameError\u001b[0m                                 Traceback (most recent call last)",
      "\u001b[1;32m<ipython-input-14-c0470a19580e>\u001b[0m in \u001b[0;36m<module>\u001b[1;34m\u001b[0m\n\u001b[0;32m      3\u001b[0m \u001b[0mX_0\u001b[0m \u001b[1;33m=\u001b[0m \u001b[1;33m[\u001b[0m\u001b[0mB_0\u001b[0m\u001b[1;33m,\u001b[0m \u001b[0mP_0\u001b[0m\u001b[1;33m,\u001b[0m \u001b[0mD_0\u001b[0m\u001b[1;33m]\u001b[0m\u001b[1;33m\u001b[0m\u001b[1;33m\u001b[0m\u001b[0m\n\u001b[0;32m      4\u001b[0m \u001b[1;33m\u001b[0m\u001b[0m\n\u001b[1;32m----> 5\u001b[1;33m \u001b[0mparams\u001b[0m \u001b[1;33m=\u001b[0m \u001b[0mParameters\u001b[0m\u001b[1;33m(\u001b[0m\u001b[1;33m)\u001b[0m\u001b[1;33m\u001b[0m\u001b[1;33m\u001b[0m\u001b[0m\n\u001b[0m\u001b[0;32m      6\u001b[0m \u001b[0mparams\u001b[0m\u001b[1;33m.\u001b[0m\u001b[0madd\u001b[0m\u001b[1;33m(\u001b[0m\u001b[1;34m'B_0'\u001b[0m\u001b[1;33m,\u001b[0m \u001b[0mvalue\u001b[0m\u001b[1;33m=\u001b[0m\u001b[0mB_0\u001b[0m\u001b[1;33m,\u001b[0m \u001b[0mvary\u001b[0m\u001b[1;33m=\u001b[0m\u001b[1;32mFalse\u001b[0m\u001b[1;33m)\u001b[0m\u001b[1;33m\u001b[0m\u001b[1;33m\u001b[0m\u001b[0m\n\u001b[0;32m      7\u001b[0m \u001b[0mparams\u001b[0m\u001b[1;33m.\u001b[0m\u001b[0madd\u001b[0m\u001b[1;33m(\u001b[0m\u001b[1;34m'k0'\u001b[0m\u001b[1;33m,\u001b[0m \u001b[0mvalue\u001b[0m\u001b[1;33m=\u001b[0m\u001b[1;36m5\u001b[0m\u001b[1;33m,\u001b[0m \u001b[0mmin\u001b[0m\u001b[1;33m=\u001b[0m\u001b[1;36m0\u001b[0m\u001b[1;33m,\u001b[0m \u001b[0mmax\u001b[0m\u001b[1;33m=\u001b[0m\u001b[1;36m10.\u001b[0m\u001b[1;33m)\u001b[0m\u001b[1;33m\u001b[0m\u001b[1;33m\u001b[0m\u001b[0m\n",
      "\u001b[1;31mNameError\u001b[0m: name 'Parameters' is not defined"
     ]
    }
   ],
   "source": [
    "B_0 = 0.033\n",
    "P_0 = D_0 = 0\n",
    "X_0 = [B_0, P_0, D_0]\n",
    "\n",
    "params = Parameters()\n",
    "params.add('B_0', value=B_0, vary=False)\n",
    "params.add('k0', value=5, min=0, max=10.)\n",
    "params.add('k1', value=5, min=0, max=10.)\n",
    "params.add('k_LD', value=3.5, min=0, max=2.)\n",
    "params.add('a', value=5, min=0.0001, max=20.)\n",
    "params.add('b', value=3.5, min=0.0001, max=20.)"
   ]
  },
  {
   "cell_type": "code",
   "execution_count": null,
   "metadata": {},
   "outputs": [],
   "source": [
    "ys = np.array([df_processed.mz85_mz283.values, df_processed.mz84_mz283.values, df_processed.mz149_mz283.values])"
   ]
  },
  {
   "cell_type": "code",
   "execution_count": null,
   "metadata": {},
   "outputs": [],
   "source": [
    "result = minimize(residual, params, args=(df_processed.mins.values, ys), method='leastsq')\n",
    "result"
   ]
  },
  {
   "cell_type": "code",
   "execution_count": null,
   "metadata": {},
   "outputs": [],
   "source": [
    "from src.d05_reporting.plot_ms_data import *\n",
    "\n",
    "series_labels = [['Pyrrolinone', 'Butenedial']]\n",
    "series_colors = [['red', 'green']]\n",
    "\n",
    "ax = plot_ms_data_with_break(experiments_dict=bd_as_expts, x_col_name='hrs', \n",
    "                                     y_col_names=['mz84_mz283', 'mz85_mz283'],\n",
    "                                     series_labels=series_labels, series_colors=series_colors,\n",
    "                                     x_label='Reaction time (hrs)', y_label='Normalized signal',\n",
    "                                     left_xlims=[-0.5, 5.5], right_xlims=[13, 19],\n",
    "                                     series_title=None, save_fig=True)"
   ]
  },
  {
   "cell_type": "markdown",
   "metadata": {},
   "source": [
    "now consider ammonium hydroxide experiments"
   ]
  },
  {
   "cell_type": "code",
   "execution_count": null,
   "metadata": {},
   "outputs": [],
   "source": [
    "bd_ah_expts = load_experiments(['bd_rxn_nh4oh_vial'])\n",
    "bd_ah_expts.keys()"
   ]
  },
  {
   "cell_type": "code",
   "execution_count": null,
   "metadata": {},
   "outputs": [],
   "source": [
    "bd_ah_file_name = bd_ah_expts['bd_rxn_nh4oh_vial']['paths']['raw_data']\n",
    "df_bd_ah = import_ms_data(bd_ah_file_name)\n",
    "df_bd_ah.columns"
   ]
  },
  {
   "cell_type": "markdown",
   "metadata": {},
   "source": [
    "explore the dataset"
   ]
  },
  {
   "cell_type": "code",
   "execution_count": null,
   "metadata": {},
   "outputs": [],
   "source": [
    "nhx = df_bd_ah.nhx.unique()\n",
    "nhx = np.sort(nhx)\n",
    "nhx"
   ]
  },
  {
   "cell_type": "code",
   "execution_count": null,
   "metadata": {},
   "outputs": [],
   "source": [
    "fig, ax = plt.subplots(1, len(nhx), figsize=(15,4))\n",
    "\n",
    "for tick in range(len(nhx)):\n",
    "    df_to_plot = df_bd_ah[df_bd_ah.nhx == nhx[tick]]\n",
    "    ax[tick].scatter(df_to_plot.vial, df_to_plot.n85, label='bd')\n",
    "    ax[tick].scatter(df_to_plot.vial, df_to_plot.n84, label='py')\n",
    "    title_string = 'nhx = ' + str(nhx[tick]) + ' molal'\n",
    "    ax[tick].set_title(title_string)\n",
    "    ax[tick].legend()\n",
    "    ax[tick].set_xlabel('time (mins)')\n",
    "\n",
    "ax[0].set_ylabel('normalized signal')"
   ]
  },
  {
   "cell_type": "code",
   "execution_count": null,
   "metadata": {},
   "outputs": [],
   "source": [
    "df_bd_ah['n112'] = df_bd_ah['p112'] / df_bd_ah['p283']\n",
    "df_bd_ah['n122'] = df_bd_ah['p122'] / df_bd_ah['p283']\n",
    "df_bd_ah['n149'] = df_bd_ah['p149'] / df_bd_ah['p283']\n",
    "df_bd_ah['n150'] = df_bd_ah['p150'] / df_bd_ah['p283']\n",
    "df_bd_ah['n168'] = df_bd_ah['p168'] / df_bd_ah['p283']"
   ]
  },
  {
   "cell_type": "code",
   "execution_count": null,
   "metadata": {},
   "outputs": [],
   "source": [
    "nhx_to_plot = [0.32, 0.65]\n",
    "species_to_plot = ['n84', 'n85', 'n112', 'n122', 'n149', 'n150', 'n168']\n",
    "num_species = len(species_to_plot)\n",
    "\n",
    "fig, ax = plt.subplots(num_species, 2, figsize=(8, 15))\n",
    "fig.tight_layout()\n",
    "\n",
    "for tock in range(2):\n",
    "    df_to_plot = df_bd_ah[df_bd_ah.nhx == nhx_to_plot[tock]]\n",
    "\n",
    "    for tick in range(num_species):\n",
    "        species = species_to_plot[tick]\n",
    "        maxval = np.max(df_to_plot[species])\n",
    "        ax[tick, tock].scatter(df_to_plot.vial, df_to_plot[species], label=species)\n",
    "        title_string = 'nhx = ' + str(nhx_to_plot[tock]) + ' molal'\n",
    "        ax[tick, 0].set_ylabel(species)\n",
    "        ax[tick, tock].set_ylim(ymin=-0.01, ymax=maxval+0.01)\n",
    "\n",
    "    ax[0, tock].set_title(title_string)\n",
    "    ax[num_species-1, tock].set_xlabel('time (mins)')"
   ]
  },
  {
   "cell_type": "markdown",
   "metadata": {},
   "source": [
    "now want to look at the measurements taken last two weeks, with buffered solution"
   ]
  },
  {
   "cell_type": "code",
   "execution_count": null,
   "metadata": {},
   "outputs": [],
   "source": [
    "bd_as_buff_expts = load_experiments(['bd_rxn_nh42so4_buffer_vial'])\n",
    "bd_as_buff_expts.keys()"
   ]
  },
  {
   "cell_type": "code",
   "execution_count": null,
   "metadata": {},
   "outputs": [],
   "source": [
    "bd_as_buff_file_name = bd_as_buff_expts['bd_rxn_nh42so4_buffer_vial']['paths']['raw_data']\n",
    "df_bd_as_buff = import_ms_data(bd_as_buff_file_name)\n",
    "df_bd_as_buff.columns"
   ]
  },
  {
   "cell_type": "code",
   "execution_count": null,
   "metadata": {},
   "outputs": [],
   "source": [
    "df_bd_as_buff.drop([0, 39], inplace=True)"
   ]
  },
  {
   "cell_type": "code",
   "execution_count": null,
   "metadata": {},
   "outputs": [],
   "source": [
    "df_bd_as_buff['mz84_mz283'] = df_bd_as_buff['mz84'] / df_bd_as_buff['mz283']\n",
    "df_bd_as_buff['mz85_mz283'] = df_bd_as_buff['mz85'] / df_bd_as_buff['mz283']\n",
    "df_bd_as_buff['mz112_mz283'] = df_bd_as_buff['mz112'] / df_bd_as_buff['mz283']\n",
    "df_bd_as_buff['mz122_mz283'] = df_bd_as_buff['mz122'] / df_bd_as_buff['mz283']\n",
    "df_bd_as_buff['mz150_mz283'] = df_bd_as_buff['mz150'] / df_bd_as_buff['mz283']\n",
    "df_bd_as_buff['mz168_mz283'] = df_bd_as_buff['mz168'] / df_bd_as_buff['mz283']"
   ]
  },
  {
   "cell_type": "code",
   "execution_count": null,
   "metadata": {},
   "outputs": [],
   "source": [
    "df_bd_as_buff['mins'] = pd.to_timedelta(df_bd_as_buff.rxn_time).dt.total_seconds()/60\n",
    "df_bd_as_buff['mins'] = df_bd_as_buff['mins'].astype(int)\n",
    "df_bd_as_buff['mins'].head()"
   ]
  },
  {
   "cell_type": "code",
   "execution_count": null,
   "metadata": {},
   "outputs": [],
   "source": [
    "expt_names = ['bd_as_001', 'bd_as_002']\n",
    "nh3 = [0.1, 0.5]"
   ]
  },
  {
   "cell_type": "code",
   "execution_count": null,
   "metadata": {},
   "outputs": [],
   "source": [
    "fig, ax = plt.subplots(1, 2, figsize=(10,4))\n",
    "\n",
    "for tick in range(2):\n",
    "    expt_name = expt_names[tick]\n",
    "    df_to_plot = df_bd_as_buff[df_bd_as_buff.sol_id == expt_name]\n",
    "    ax[tick].scatter(df_to_plot.mins[df_to_plot.mz85_mz283 > 0], df_to_plot.mz85_mz283[df_to_plot.mz85_mz283 > 0], \n",
    "                     label='bd')\n",
    "    ax[tick].scatter(df_to_plot.mins[df_to_plot.mz84_mz283 > 0], df_to_plot.mz84_mz283[df_to_plot.mz84_mz283 > 0], \n",
    "                     label='py')\n",
    "    title_string = 'nh3 = ' + str(nh3[tick]) + ' millimolal'\n",
    "    ax[tick].set_title(title_string)\n",
    "    ax[tick].legend()\n",
    "    ax[tick].set_xlabel('time (mins)')\n",
    "\n",
    "ax[0].set_ylabel('normalized signal')"
   ]
  },
  {
   "cell_type": "code",
   "execution_count": null,
   "metadata": {},
   "outputs": [],
   "source": [
    "ac_expt_names = ['bd_ac_001', 'bd_ac_002']\n",
    "species_names_to_plot = ['mz84_mz283', 'mz85_mz283', 'mz112_mz283', 'mz122_mz283', 'mz150_mz283', 'mz168_mz283']\n",
    "num_species = len(species_names_to_plot)\n",
    "nh3 = [0.1, 3]"
   ]
  },
  {
   "cell_type": "code",
   "execution_count": null,
   "metadata": {},
   "outputs": [],
   "source": [
    "fig, ax = plt.subplots(num_species, 2, figsize=(10,15))\n",
    "\n",
    "for tick in range(num_species):\n",
    "    df_to_plot_001 = df_bd_as_buff[df_bd_as_buff.sol_id == 'bd_ac_001']\n",
    "    df_to_plot_002 = df_bd_as_buff[df_bd_as_buff.sol_id == 'bd_ac_002']\n",
    "    \n",
    "    species = species_names_to_plot[tick]\n",
    "    ax[tick, 0].scatter(df_to_plot_001.mins[df_to_plot_001[species] > 0], df_to_plot_001[species][df_to_plot_001[species] > 0],\n",
    "                        label=species)\n",
    "    ax[tick, 1].scatter(df_to_plot_002.mins[df_to_plot_002[species] > 0], df_to_plot_002[species][df_to_plot_002[species] > 0],\n",
    "                        label=species)\n",
    "    ax[tick, 0].set_ylabel(species)\n",
    "    ax[tick, 0].set_ylim(ymin=0)\n",
    "    ax[tick, 1].set_ylim(ymin=0)\n",
    "\n",
    "for tick in range(len(nh3)):    \n",
    "    title_string = 'nh3 = ' + str(nh3[tick]) + ' millimolal'\n",
    "    ax[0, tick].set_title(title_string)\n",
    "    ax[5, tick].set_xlabel('time (mins)')"
   ]
  },
  {
   "cell_type": "markdown",
   "metadata": {},
   "source": [
    "looks like 112, 122, 150, 168 all have the same shape?\n",
    "look at correlation."
   ]
  },
  {
   "cell_type": "code",
   "execution_count": null,
   "metadata": {},
   "outputs": [],
   "source": [
    "species_names_to_correlate = ['mz112_mz283', 'mz122_mz283', 'mz150_mz283', 'mz168_mz283']\n",
    "num_species = len(species_names_to_correlate)"
   ]
  },
  {
   "cell_type": "code",
   "execution_count": null,
   "metadata": {},
   "outputs": [],
   "source": [
    "fig, ax = plt.subplots(num_species, num_species, figsize=(10,10))\n",
    "\n",
    "df_to_plot = df_bd_as_buff[df_bd_as_buff.sol_id == 'bd_ac_001']\n",
    "for tick in range(num_species):\n",
    "    y_species = species_names_to_correlate[tick]\n",
    "    for tock in range(num_species):\n",
    "        x_species = species_names_to_correlate[tock]\n",
    "        \n",
    "        ax[tick, tock].scatter(df_to_plot[y_species], df_to_plot[x_species],\n",
    "                               label=species)\n",
    "        ax[tick, tock].set_ylim(ymin=0,ymax=0.01)\n",
    "        ax[tick, tock].set_xlim(xmin=0,xmax=0.01)\n",
    "        \n",
    "        if tick==3:\n",
    "            ax[tick, tock].set_xlabel(x_species)\n",
    "    \n",
    "    ax[tick, 0].set_ylabel(y_species)\n",
    "\n",
    "# for tick in range(len(nh3)):    \n",
    "#     title_string = 'nh3 = ' + str(nh3[tick]) + ' millimolal'\n",
    "#     ax[0, tick].set_title(title_string)\n",
    "#     ax[5, tick].set_xlabel('time (mins)')"
   ]
  },
  {
   "cell_type": "code",
   "execution_count": null,
   "metadata": {},
   "outputs": [],
   "source": [
    "fig, ax = plt.subplots(num_species, num_species, figsize=(10,10))\n",
    "\n",
    "df_to_plot = df_bd_as_buff[df_bd_as_buff.sol_id == 'bd_ac_002']\n",
    "for tick in range(num_species):\n",
    "    y_species = species_names_to_correlate[tick]\n",
    "    for tock in range(num_species):\n",
    "        x_species = species_names_to_correlate[tock]\n",
    "        \n",
    "        ax[tick, tock].scatter(df_to_plot[x_species], df_to_plot[y_species],\n",
    "                               label=species)\n",
    "        ax[tick, tock].set_ylim(ymin=-0.02,ymax=0.1)\n",
    "        ax[tick, tock].set_xlim(xmin=-0.02,xmax=0.1)\n",
    "        ax[tick, tock].set_xticks([]) \n",
    "        ax[tick, tock].set_yticks([])\n",
    "        ax[tick, tock].plot(np.linspace(-1, 1, 50), np.linspace(-1, 1, 50))\n",
    "        \n",
    "        if tick==3:\n",
    "            ax[tick, tock].set_xlabel(x_species)\n",
    "    \n",
    "    ax[tick, 0].set_ylabel(y_species)\n",
    "\n",
    "# for tick in range(len(nh3)):    \n",
    "#     title_string = 'nh3 = ' + str(nh3[tick]) + ' millimolal'\n",
    "#     ax[0, tick].set_title(title_string)\n",
    "#     ax[5, tick].set_xlabel('time (mins)')"
   ]
  },
  {
   "cell_type": "markdown",
   "metadata": {},
   "source": [
    "look at data from the gas experiments"
   ]
  },
  {
   "cell_type": "code",
   "execution_count": null,
   "metadata": {},
   "outputs": [],
   "source": [
    "bd_nh3g_expts = load_experiments(['bd_rxn_nh3g_droplet'])\n",
    "bd_nh3g_expts.keys()"
   ]
  },
  {
   "cell_type": "code",
   "execution_count": null,
   "metadata": {},
   "outputs": [],
   "source": [
    "bd_nh3g_file_name = bd_nh3g_expts['bd_rxn_nh3g_droplet']['paths']['raw_data']\n",
    "df_bd_nh3g = import_ms_data(bd_nh3g_file_name)\n",
    "df_bd_nh3g.columns"
   ]
  },
  {
   "cell_type": "code",
   "execution_count": null,
   "metadata": {},
   "outputs": [],
   "source": [
    "df_bd_nh3g['n112'] = df_bd_nh3g['p112'] / df_bd_nh3g['p283']\n",
    "df_bd_nh3g['n122'] = df_bd_nh3g['p122'] / df_bd_nh3g['p283']\n",
    "df_bd_nh3g['n149'] = df_bd_nh3g['p149'] / df_bd_nh3g['p283']\n",
    "df_bd_nh3g['n150'] = df_bd_nh3g['p150'] / df_bd_nh3g['p283']\n",
    "df_bd_nh3g['n168'] = df_bd_nh3g['p168'] / df_bd_nh3g['p283']\n",
    "df_bd_nh3g['n84'] = df_bd_nh3g['np84']\n",
    "df_bd_nh3g['n85'] = df_bd_nh3g['np85']\n",
    "df_bd_nh3g['n149'] = df_bd_nh3g['np149']\n",
    "\n",
    "df_bd_nh3g.columns"
   ]
  },
  {
   "cell_type": "code",
   "execution_count": null,
   "metadata": {},
   "outputs": [],
   "source": [
    "df_bd_nh3g.nominal_nh3_mM.unique()"
   ]
  },
  {
   "cell_type": "code",
   "execution_count": null,
   "metadata": {},
   "outputs": [],
   "source": [
    "nh3_to_plot = 2.9\n",
    "species_to_plot = ['n84', 'n85', 'n112', 'n122', 'n149', 'n150', 'n168']\n",
    "num_species = len(species_to_plot)\n",
    "\n",
    "fig, ax = plt.subplots(num_species, 1, figsize=(4, 15))\n",
    "fig.tight_layout()\n",
    "\n",
    "df_to_plot = df_bd_nh3g[df_bd_nh3g.nominal_nh3_mM == nh3_to_plot]\n",
    "\n",
    "for tick in range(num_species):\n",
    "    species = species_to_plot[tick]\n",
    "    maxval = np.max(df_to_plot[species])\n",
    "    ax[tick].scatter(df_to_plot.trapped, df_to_plot[species], label=species)\n",
    "    title_string = 'nhx = ' + str(nh3_to_plot) + ' mmolal'\n",
    "    ax[tick].set_ylabel(species)\n",
    "    ax[tick].set_ylim(ymin=-0.01, ymax=maxval+0.01)\n",
    "\n",
    "ax[0].set_title(title_string)\n",
    "ax[num_species-1].set_xlabel('time (mins)')"
   ]
  },
  {
   "cell_type": "markdown",
   "metadata": {},
   "source": [
    "now, repeat the same thing with the ammonium sulfate experiments (probably ph~3?)"
   ]
  },
  {
   "cell_type": "code",
   "execution_count": null,
   "metadata": {},
   "outputs": [],
   "source": [
    "bd_as_expts = load_experiments(['bd_rxn_nh42so4_droplet'])\n",
    "bd_as_expts.keys()"
   ]
  },
  {
   "cell_type": "code",
   "execution_count": null,
   "metadata": {},
   "outputs": [],
   "source": [
    "bd_as_file_name = bd_as_expts['bd_rxn_nh42so4_droplet']['paths']['raw_data']\n",
    "df_bd_as = import_ms_data(bd_as_file_name)\n",
    "df_bd_as.columns"
   ]
  },
  {
   "cell_type": "code",
   "execution_count": null,
   "metadata": {},
   "outputs": [],
   "source": [
    "df_bd_as['n112'] = df_bd_as['p112'] / df_bd_as['p283']\n",
    "df_bd_as['n122'] = df_bd_as['p122'] / df_bd_as['p283']\n",
    "df_bd_as['n149'] = df_bd_as['p149'] / df_bd_as['p283']\n",
    "df_bd_as['n150'] = df_bd_as['p150'] / df_bd_as['p283']\n",
    "df_bd_as['n149'] = df_bd_as['p149'] / df_bd_as['p283']\n",
    "df_bd_as['n168'] = df_bd_as['p168'] / df_bd_as['p283']\n",
    "\n",
    "df_bd_as.columns"
   ]
  },
  {
   "cell_type": "code",
   "execution_count": null,
   "metadata": {},
   "outputs": [],
   "source": [
    "df_bd_as['n150'].unique()"
   ]
  },
  {
   "cell_type": "code",
   "execution_count": null,
   "metadata": {},
   "outputs": [],
   "source": [
    "species_to_plot = ['n84', 'n85', 'n112', 'n122', 'n149', 'n150', 'n168']\n",
    "num_species = len(species_to_plot)\n",
    "\n",
    "fig, ax = plt.subplots(num_species, 1, figsize=(4, 15))\n",
    "fig.tight_layout()\n",
    "\n",
    "df_to_plot = df_bd_as.query('trapped<10 and comptype==\"bd07hg20as03\"')\n",
    "\n",
    "for tick in range(num_species):\n",
    "    species = species_to_plot[tick]\n",
    "#     maxval = np.nanmax(df_to_plot[species])\n",
    "    ax[tick].scatter(df_to_plot.vial, df_to_plot[species], label=species)\n",
    "    title_string = 'nhx = ' + str(nh3_to_plot) + ' mmolal'\n",
    "    ax[tick].set_ylabel(species)\n",
    "    ax[tick].set_ylim(ymin=-0.01)\n",
    "\n",
    "ax[0].set_title(title_string)\n",
    "ax[num_species-1].set_xlabel('time (hrs)')\n",
    "\n"
   ]
  }
 ],
 "metadata": {
  "kernelspec": {
   "display_name": "droplet",
   "language": "python",
   "name": "dropletenv"
  },
  "language_info": {
   "codemirror_mode": {
    "name": "ipython",
    "version": 3
   },
   "file_extension": ".py",
   "mimetype": "text/x-python",
   "name": "python",
   "nbconvert_exporter": "python",
   "pygments_lexer": "ipython3",
   "version": "3.7.4"
  }
 },
 "nbformat": 4,
 "nbformat_minor": 2
}
