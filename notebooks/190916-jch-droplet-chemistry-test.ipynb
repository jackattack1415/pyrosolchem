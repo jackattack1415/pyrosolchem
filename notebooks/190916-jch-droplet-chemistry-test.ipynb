{
 "cells": [
  {
   "cell_type": "markdown",
   "metadata": {},
   "source": [
    "first test to make sure the functions work as written in script form to get an evaporation profile"
   ]
  },
  {
   "cell_type": "code",
   "execution_count": 6,
   "metadata": {},
   "outputs": [],
   "source": [
    "import os\n",
    "notebook_wd = os.getcwd()"
   ]
  },
  {
   "cell_type": "code",
   "execution_count": 23,
   "metadata": {},
   "outputs": [],
   "source": [
    "os.chdir(os.path.join(notebook_wd, '..'))\n",
    "from src.d00_utils.conf_utils import *\n",
    "from src.d00_utils.calc_utils import *\n",
    "from src.d00_utils.flux_utils import *\n",
    "from src.d03_modeling.numerical_model import differentiate"
   ]
  },
  {
   "cell_type": "code",
   "execution_count": 8,
   "metadata": {},
   "outputs": [
    {
     "data": {
      "text/plain": [
       "{'triethylene_glycol': {'name': 'PEG-3',\n",
       "  'D_g': 5.95e-06,\n",
       "  'mw': 0.1502,\n",
       "  'rho': 1108.0,\n",
       "  'c_inf': 0,\n",
       "  'vp': 0.0668,\n",
       "  'T_vp': 298,\n",
       "  'dH': 78300.0},\n",
       " 'hexaethylene_glycol': {'name': 'PEG-6',\n",
       "  'D_g': 4.26e-06,\n",
       "  'mw': 0.2823,\n",
       "  'rho': 1180.0,\n",
       "  'c_inf': 0,\n",
       "  'vp': 3.05e-05,\n",
       "  'T_vp': 298,\n",
       "  'dH': 102100.0}}"
      ]
     },
     "execution_count": 8,
     "metadata": {},
     "output_type": "execute_result"
    }
   ],
   "source": [
    "cmpds, water = load_compounds()\n",
    "cmpds"
   ]
  },
  {
   "cell_type": "code",
   "execution_count": 10,
   "metadata": {},
   "outputs": [
    {
     "data": {
      "text/plain": [
       "{'r_init': 5e-05,\n",
       " 'X_h2o': 0.7,\n",
       " 'composition': {'triethylene_glycol': 0.1, 'hexaethylene_glycol': 0.1}}"
      ]
     },
     "execution_count": 10,
     "metadata": {},
     "output_type": "execute_result"
    }
   ],
   "source": [
    "params = load_parameters()\n",
    "params"
   ]
  },
  {
   "cell_type": "code",
   "execution_count": 15,
   "metadata": {},
   "outputs": [
    {
     "data": {
      "text/plain": [
       "array([1.05540888e-09, 1.05540888e-09])"
      ]
     },
     "execution_count": 15,
     "metadata": {},
     "output_type": "execute_result"
    }
   ],
   "source": [
    "x_cmpds = convert_molar_abundances_to_mole_fractions(params['composition'], x_water=params['X_h2o'])\n",
    "v_init = convert_radius_to_volume(params['r_init'])\n",
    "n_inits = convert_volume_to_moles(v_init, cmpds, water, x_cmpds, x_water=params['X_h2o'])\n",
    "n_inits"
   ]
  },
  {
   "cell_type": "code",
   "execution_count": 21,
   "metadata": {},
   "outputs": [],
   "source": [
    "gp_dict = pack_partition_dict(cmpds, water, T=298, x_water=params['X_h2o'])"
   ]
  },
  {
   "cell_type": "code",
   "execution_count": 34,
   "metadata": {},
   "outputs": [],
   "source": [
    "ns = differentiate(function=gas_particle_partition, function_params_dict=gp_dict, n_inits=n_inits, step_count=100, step=1)"
   ]
  },
  {
   "cell_type": "code",
   "execution_count": 75,
   "metadata": {},
   "outputs": [
    {
     "data": {
      "text/plain": [
       "array([5.00000000e-05, 4.99992506e-05, 4.99985013e-05, 4.99977520e-05,\n",
       "       4.99970027e-05, 4.99962535e-05, 4.99955043e-05, 4.99947551e-05,\n",
       "       4.99940060e-05, 4.99932569e-05, 4.99925078e-05, 4.99917588e-05,\n",
       "       4.99910098e-05, 4.99902608e-05, 4.99895118e-05, 4.99887629e-05,\n",
       "       4.99880141e-05, 4.99872652e-05, 4.99865164e-05, 4.99857676e-05,\n",
       "       4.99850189e-05, 4.99842702e-05, 4.99835215e-05, 4.99827729e-05,\n",
       "       4.99820243e-05, 4.99812757e-05, 4.99805272e-05, 4.99797786e-05,\n",
       "       4.99790302e-05, 4.99782817e-05, 4.99775333e-05, 4.99767849e-05,\n",
       "       4.99760366e-05, 4.99752883e-05, 4.99745400e-05, 4.99737918e-05,\n",
       "       4.99730436e-05, 4.99722954e-05, 4.99715472e-05, 4.99707991e-05,\n",
       "       4.99700510e-05, 4.99693030e-05, 4.99685550e-05, 4.99678070e-05,\n",
       "       4.99670591e-05, 4.99663112e-05, 4.99655633e-05, 4.99648154e-05,\n",
       "       4.99640676e-05, 4.99633198e-05, 4.99625721e-05, 4.99618244e-05,\n",
       "       4.99610767e-05, 4.99603291e-05, 4.99595814e-05, 4.99588339e-05,\n",
       "       4.99580863e-05, 4.99573388e-05, 4.99565913e-05, 4.99558439e-05,\n",
       "       4.99550965e-05, 4.99543491e-05, 4.99536017e-05, 4.99528544e-05,\n",
       "       4.99521071e-05, 4.99513599e-05, 4.99506127e-05, 4.99498655e-05,\n",
       "       4.99491183e-05, 4.99483712e-05, 4.99476242e-05, 4.99468771e-05,\n",
       "       4.99461301e-05, 4.99453831e-05, 4.99446362e-05, 4.99438892e-05,\n",
       "       4.99431424e-05, 4.99423955e-05, 4.99416487e-05, 4.99409019e-05,\n",
       "       4.99401552e-05, 4.99394085e-05, 4.99386618e-05, 4.99379151e-05,\n",
       "       4.99371685e-05, 4.99364219e-05, 4.99356754e-05, 4.99349289e-05,\n",
       "       4.99341824e-05, 4.99334359e-05, 4.99326895e-05, 4.99319431e-05,\n",
       "       4.99311968e-05, 4.99304505e-05, 4.99297042e-05, 4.99289579e-05,\n",
       "       4.99282117e-05, 4.99274656e-05, 4.99267194e-05, 4.99259733e-05])"
      ]
     },
     "execution_count": 75,
     "metadata": {},
     "output_type": "execute_result"
    }
   ],
   "source": [
    "n_waters = convert_water_mole_fraction_to_moles(ns, x_water=params['X_h2o'])\n",
    "n_totals = np.concatenate((ns, n_waters.reshape(len(n_waters), 1)), \n",
    "                          axis=1)  # add water ns to n_total\n",
    "\n",
    "wet_cmpds = {**cmpds, **{'water': water}}\n",
    "\n",
    "Vs = np.empty(len(ns))\n",
    "rs = np.empty(len(ns))\n",
    "for tick in range(len(n_wets)):\n",
    "    Vs[tick] = convert_moles_to_volume(wet_cmpds, n_totals[tick])\n",
    "    rs[tick] = convert_volume_to_radius(Vs[tick])\n",
    "    \n",
    "rs"
   ]
  },
  {
   "cell_type": "code",
   "execution_count": 86,
   "metadata": {},
   "outputs": [
    {
     "data": {
      "text/plain": [
       "array([ 0.,  5., 10., 15., 20.])"
      ]
     },
     "execution_count": 86,
     "metadata": {},
     "output_type": "execute_result"
    }
   ],
   "source": [
    "np.linspace(0, 5*4, 4+1, endpoint=True)"
   ]
  },
  {
   "cell_type": "code",
   "execution_count": 87,
   "metadata": {},
   "outputs": [
    {
     "data": {
      "text/plain": [
       "array([5.23598776e-13, 5.23575234e-13, 5.23551694e-13, 5.23528156e-13,\n",
       "       5.23504619e-13, 5.23481084e-13, 5.23457551e-13, 5.23434020e-13,\n",
       "       5.23410490e-13, 5.23386962e-13, 5.23363436e-13, 5.23339912e-13,\n",
       "       5.23316389e-13, 5.23292869e-13, 5.23269350e-13, 5.23245832e-13,\n",
       "       5.23222317e-13, 5.23198803e-13, 5.23175291e-13, 5.23151780e-13,\n",
       "       5.23128272e-13, 5.23104765e-13, 5.23081260e-13, 5.23057756e-13,\n",
       "       5.23034254e-13, 5.23010755e-13, 5.22987256e-13, 5.22963760e-13,\n",
       "       5.22940265e-13, 5.22916772e-13, 5.22893281e-13, 5.22869792e-13,\n",
       "       5.22846304e-13, 5.22822818e-13, 5.22799334e-13, 5.22775851e-13,\n",
       "       5.22752370e-13, 5.22728891e-13, 5.22705414e-13, 5.22681939e-13,\n",
       "       5.22658465e-13, 5.22634993e-13, 5.22611523e-13, 5.22588054e-13,\n",
       "       5.22564587e-13, 5.22541122e-13, 5.22517659e-13, 5.22494197e-13,\n",
       "       5.22470738e-13, 5.22447280e-13, 5.22423823e-13, 5.22400369e-13,\n",
       "       5.22376916e-13, 5.22353465e-13, 5.22330015e-13, 5.22306568e-13,\n",
       "       5.22283122e-13, 5.22259678e-13, 5.22236235e-13, 5.22212795e-13,\n",
       "       5.22189356e-13, 5.22165919e-13, 5.22142483e-13, 5.22119050e-13,\n",
       "       5.22095618e-13, 5.22072188e-13, 5.22048759e-13, 5.22025332e-13,\n",
       "       5.22001907e-13, 5.21978484e-13, 5.21955063e-13, 5.21931643e-13,\n",
       "       5.21908225e-13, 5.21884809e-13, 5.21861394e-13, 5.21837982e-13,\n",
       "       5.21814571e-13, 5.21791162e-13, 5.21767754e-13, 5.21744348e-13,\n",
       "       5.21720944e-13, 5.21697542e-13, 5.21674141e-13, 5.21650743e-13,\n",
       "       5.21627346e-13, 5.21603950e-13, 5.21580557e-13, 5.21557165e-13,\n",
       "       5.21533775e-13, 5.21510387e-13, 5.21487000e-13, 5.21463615e-13,\n",
       "       5.21440232e-13, 5.21416851e-13, 5.21393471e-13, 5.21370093e-13,\n",
       "       5.21346717e-13, 5.21323343e-13, 5.21299970e-13, 5.21276599e-13])"
      ]
     },
     "execution_count": 87,
     "metadata": {},
     "output_type": "execute_result"
    }
   ],
   "source": [
    "Vs"
   ]
  }
 ],
 "metadata": {
  "kernelspec": {
   "display_name": "droplet",
   "language": "python",
   "name": "dropletenv"
  },
  "language_info": {
   "codemirror_mode": {
    "name": "ipython",
    "version": 3
   },
   "file_extension": ".py",
   "mimetype": "text/x-python",
   "name": "python",
   "nbconvert_exporter": "python",
   "pygments_lexer": "ipython3",
   "version": "3.7.4"
  }
 },
 "nbformat": 4,
 "nbformat_minor": 2
}
