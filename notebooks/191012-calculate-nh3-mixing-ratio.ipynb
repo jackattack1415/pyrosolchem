{
 "cells": [
  {
   "cell_type": "markdown",
   "metadata": {},
   "source": [
    "## estimate gas-phase ammonia concentration, as well as nhx in the droplet. get an initial estimate of the droplet ph. estimate vial nh3."
   ]
  },
  {
   "cell_type": "markdown",
   "metadata": {},
   "source": [
    "#### 1. given: starting bubbler concentration, nhx_bubb and rh, calculate C_nh3 in the gas-phase surrounding the droplet.\n",
    "\n",
    "#### assumptions: rh (of water) gives the same percentage of saturation of nh3, nh3 is equilibrated throughout the EDB, concentration of nhx_bubb does not change over time\n",
    "\n",
    "NH balance: $ NH_x,bubb(aq) = NH_3(aq) + NH_4^+(aq) $\n",
    "\n",
    "Charge balance: $ [NH_4^+] + [H^+] = [OH^-] $ we are quite basic, so we can assume: $ [NH_4^+] = [OH^-] $\n",
    "\n",
    "Acid-base equilibrium: $ K_a = \\frac{[NH_3][H^+]}{[NH_4^+]} $ where $ [H^+] = \\frac{K_w}{[OH^-]} $ becoming: $ K_a = \\frac{[NH_3] K_w}{[OH^-][NH_4^+]} $ and then $ K_a = \\frac{[NH_3] K_w}{[NH_4^+]^2} $ so $ [NH_4^+] = (\\frac{[NH_3] K_w}{K_a})^{\\frac{1}{2}} $\n",
    "\n",
    "plugging this into the NH balance, $ [NH_x] = [NH_3] + (\\frac{[NH_3] K_w}{K_a})^{\\frac{1}{2}} $ and then we solve for $ [NH_3] $ with python.\n",
    "\n",
    "\n",
    "The next other part of this step is to take $ [NH_3] $ and calculate $ C_{NH_3} $.\n",
    "\n",
    "$ C_{NH_3} = \\frac{P_{NH_3}}{P_{air}} $ and $ P_{air} = 1 atm $ so we just need $ P_{NH_3} $.\n",
    "\n",
    "$ P_{NH_3} = RH * P_{NH_3, sat} $ where $ P_{NH_3,sat} = \\frac{[NH_3]}{K_H} $, and finally: $P_{NH_3} = \\frac{RH * [NH_3]}{K_H}$"
   ]
  },
  {
   "cell_type": "code",
   "execution_count": 2,
   "metadata": {},
   "outputs": [],
   "source": [
    "from scipy.optimize import fsolve\n",
    "import numpy as np\n",
    "\n",
    "def find_nh3(nh3):\n",
    "    kw = 1e-14\n",
    "    ka = 10**-9.25\n",
    "    kb = kw/ka\n",
    "    nhx = 0.0029\n",
    "\n",
    "    return (nhx - nh3)**2 - (nh3 * kb)\n",
    "\n",
    "def calc_p_nh3(nh3):\n",
    "    rh = 0.75\n",
    "    kh = 61\n",
    "    \n",
    "    p_nh3 = rh*nh3 / kh\n",
    "    \n",
    "    return p_nh3\n",
    "\n",
    "def calc_ppm(p):\n",
    "    ppm = p*1e6\n",
    "    \n",
    "    return ppm"
   ]
  },
  {
   "cell_type": "code",
   "execution_count": 3,
   "metadata": {},
   "outputs": [
    {
     "name": "stdout",
     "output_type": "stream",
     "text": [
      "chamber nh3 mixing ratio: 33.0 ppm\n"
     ]
    }
   ],
   "source": [
    "bubbler_input_nh3_concentration = 0.0029\n",
    "nh3_out = fsolve(find_nh3, bubbler_input_nh3_concentration)\n",
    "p_nh3 = calc_p_nh3(nh3_out)\n",
    "C_nh3 = calc_ppm(p_nh3)\n",
    "print('chamber nh3 mixing ratio: %.1f ppm' % C_nh3)"
   ]
  }
 ],
 "metadata": {
  "kernelspec": {
   "display_name": "droplet",
   "language": "python",
   "name": "dropletenv"
  },
  "language_info": {
   "codemirror_mode": {
    "name": "ipython",
    "version": 3
   },
   "file_extension": ".py",
   "mimetype": "text/x-python",
   "name": "python",
   "nbconvert_exporter": "python",
   "pygments_lexer": "ipython3",
   "version": "3.7.4"
  }
 },
 "nbformat": 4,
 "nbformat_minor": 2
}
