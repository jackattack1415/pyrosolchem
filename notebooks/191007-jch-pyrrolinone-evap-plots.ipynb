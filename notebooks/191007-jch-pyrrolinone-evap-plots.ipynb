{
 "cells": [
  {
   "cell_type": "markdown",
   "metadata": {},
   "source": [
    "## Make these plots more deployable for a presentation"
   ]
  },
  {
   "cell_type": "code",
   "execution_count": 1,
   "metadata": {},
   "outputs": [],
   "source": [
    "import os\n",
    "notebook_wd = os.getcwd()"
   ]
  },
  {
   "cell_type": "code",
   "execution_count": 2,
   "metadata": {},
   "outputs": [],
   "source": [
    "import pandas as pd\n",
    "import numpy as np\n",
    "import seaborn as sns\n",
    "\n",
    "os.chdir(os.path.join(notebook_wd, '..'))\n",
    "from src.d00_utils.conf_utils import *"
   ]
  },
  {
   "cell_type": "code",
   "execution_count": 7,
   "metadata": {},
   "outputs": [
    {
     "data": {
      "text/plain": [
       "{'pyr_evap_nh42so4': {'paths': {'raw_data': '190918-butenedial-ammonium-sulfate-droplets.csv',\n",
       "   'cleaned_data': '191007-butenedial-ammonium-sulfate-droplets-CLEANED.csv',\n",
       "   'processed_data': '191007-butenedial-ammonium-sulfate-droplets-PROCESSED.csv',\n",
       "   'clustered_data': '190930-butenedial-ammonium-sulfate-droplets-CLUSTERED.csv'},\n",
       "  'experimental': {'composition': {'Butenedial': '0.75*0.07',\n",
       "    'PEG-6': 0.2,\n",
       "    'NH42SO4': '0.03*3'}},\n",
       "  'processing': {'solution_comp': ['bd07hg20as03'],\n",
       "   'bad_idx': None,\n",
       "   'idx_range': [53, 77],\n",
       "   'trap_time': None,\n",
       "   'other_query': 'vial>800 and comptype==\"bd07hg20as03\" and p283>5000',\n",
       "   'y_col': 'mz84_mz283',\n",
       "   'columns_to_keep': ['trapped', 'comp', 'vial', 'mz84_mz283', 'mz85_mz283']},\n",
       "  'plot': {'ylabel': 'Normalized signal',\n",
       "   'y_col': ['mz84_mz283'],\n",
       "   'x_col': 'hrs',\n",
       "   'xlabel': 'Time (hrs)',\n",
       "   'series_title': 'None',\n",
       "   'series_color': ['green']}}}"
      ]
     },
     "execution_count": 7,
     "metadata": {},
     "output_type": "execute_result"
    }
   ],
   "source": [
    "compounds, water = load_compounds()\n",
    "params = load_experiments(['pyr_evap_nh42so4'])\n",
    "constants = load_constants()\n",
    "exp_vial_droplet"
   ]
  },
  {
   "cell_type": "code",
   "execution_count": 8,
   "metadata": {},
   "outputs": [],
   "source": [
    "paths = params['pyr_evap_nh42so4']['paths']"
   ]
  },
  {
   "cell_type": "code",
   "execution_count": 9,
   "metadata": {},
   "outputs": [],
   "source": [
    "from src.d01_data.clean_ms_data import *\n",
    "from src.d01_data.process_ms_data import *"
   ]
  },
  {
   "cell_type": "code",
   "execution_count": 10,
   "metadata": {},
   "outputs": [],
   "source": [
    "import matplotlib.pyplot as plt\n",
    "import seaborn as sns\n",
    "%matplotlib inline"
   ]
  },
  {
   "cell_type": "code",
   "execution_count": 11,
   "metadata": {},
   "outputs": [
    {
     "data": {
      "text/html": [
       "<div>\n",
       "<style scoped>\n",
       "    .dataframe tbody tr th:only-of-type {\n",
       "        vertical-align: middle;\n",
       "    }\n",
       "\n",
       "    .dataframe tbody tr th {\n",
       "        vertical-align: top;\n",
       "    }\n",
       "\n",
       "    .dataframe thead th {\n",
       "        text-align: right;\n",
       "    }\n",
       "</style>\n",
       "<table border=\"1\" class=\"dataframe\">\n",
       "  <thead>\n",
       "    <tr style=\"text-align: right;\">\n",
       "      <th></th>\n",
       "      <th>mins</th>\n",
       "      <th>solution_name</th>\n",
       "      <th>vial</th>\n",
       "      <th>mz84_mz283</th>\n",
       "      <th>mz85_mz283</th>\n",
       "    </tr>\n",
       "  </thead>\n",
       "  <tbody>\n",
       "    <tr>\n",
       "      <th>0</th>\n",
       "      <td>118.0</td>\n",
       "      <td>bd07hg20as03_018</td>\n",
       "      <td>886.0</td>\n",
       "      <td>0.016441</td>\n",
       "      <td>0.008400</td>\n",
       "    </tr>\n",
       "    <tr>\n",
       "      <th>1</th>\n",
       "      <td>68.0</td>\n",
       "      <td>bd07hg20as03_018</td>\n",
       "      <td>1027.0</td>\n",
       "      <td>0.029026</td>\n",
       "      <td>0.011829</td>\n",
       "    </tr>\n",
       "    <tr>\n",
       "      <th>2</th>\n",
       "      <td>21.0</td>\n",
       "      <td>bd07hg20as03_018</td>\n",
       "      <td>1102.0</td>\n",
       "      <td>0.031435</td>\n",
       "      <td>0.014454</td>\n",
       "    </tr>\n",
       "    <tr>\n",
       "      <th>3</th>\n",
       "      <td>21.0</td>\n",
       "      <td>bd07hg20as03_018</td>\n",
       "      <td>1127.0</td>\n",
       "      <td>0.033464</td>\n",
       "      <td>0.015761</td>\n",
       "    </tr>\n",
       "    <tr>\n",
       "      <th>4</th>\n",
       "      <td>119.0</td>\n",
       "      <td>bd07hg20as03_018</td>\n",
       "      <td>1151.0</td>\n",
       "      <td>0.022317</td>\n",
       "      <td>0.009138</td>\n",
       "    </tr>\n",
       "  </tbody>\n",
       "</table>\n",
       "</div>"
      ],
      "text/plain": [
       "    mins     solution_name    vial  mz84_mz283  mz85_mz283\n",
       "0  118.0  bd07hg20as03_018   886.0    0.016441    0.008400\n",
       "1   68.0  bd07hg20as03_018  1027.0    0.029026    0.011829\n",
       "2   21.0  bd07hg20as03_018  1102.0    0.031435    0.014454\n",
       "3   21.0  bd07hg20as03_018  1127.0    0.033464    0.015761\n",
       "4  119.0  bd07hg20as03_018  1151.0    0.022317    0.009138"
      ]
     },
     "execution_count": 11,
     "metadata": {},
     "output_type": "execute_result"
    }
   ],
   "source": [
    "df_cleaned = import_ms_data(paths['cleaned_data'])\n",
    "df_cleaned.head()"
   ]
  },
  {
   "cell_type": "code",
   "execution_count": 12,
   "metadata": {},
   "outputs": [],
   "source": [
    "df_processed = process_ms_data_in_pyrrolinone_evap_experiments(paths['cleaned_data'], save_processed_data=True)"
   ]
  },
  {
   "cell_type": "code",
   "execution_count": 13,
   "metadata": {},
   "outputs": [
    {
     "data": {
      "text/plain": [
       "0     bd07hg20as03_018\n",
       "1     bd07hg20as03_018\n",
       "2     bd07hg20as03_018\n",
       "3     bd07hg20as03_018\n",
       "4     bd07hg20as03_018\n",
       "5     bd07hg20as03_018\n",
       "6     bd07hg20as03_019\n",
       "7     bd07hg20as03_019\n",
       "9     bd07hg20as03_019\n",
       "10    bd07hg20as03_019\n",
       "11    bd07hg20as03_019\n",
       "12    bd07hg20as03_019\n",
       "14    bd07hg20as03_020\n",
       "15    bd07hg20as03_020\n",
       "17    bd07hg20as03_021\n",
       "19    bd07hg20as03_022\n",
       "20    bd07hg20as03_022\n",
       "21    bd07hg20as03_022\n",
       "23    bd07hg20as03_022\n",
       "24    bd07hg20as03_022\n",
       "Name: solution_name, dtype: object"
      ]
     },
     "execution_count": 13,
     "metadata": {},
     "output_type": "execute_result"
    }
   ],
   "source": [
    "df_processed.solution_name"
   ]
  },
  {
   "cell_type": "code",
   "execution_count": 15,
   "metadata": {},
   "outputs": [
    {
     "data": {
      "text/html": [
       "<div>\n",
       "<style scoped>\n",
       "    .dataframe tbody tr th:only-of-type {\n",
       "        vertical-align: middle;\n",
       "    }\n",
       "\n",
       "    .dataframe tbody tr th {\n",
       "        vertical-align: top;\n",
       "    }\n",
       "\n",
       "    .dataframe thead th {\n",
       "        text-align: right;\n",
       "    }\n",
       "</style>\n",
       "<table border=\"1\" class=\"dataframe\">\n",
       "  <thead>\n",
       "    <tr style=\"text-align: right;\">\n",
       "      <th></th>\n",
       "      <th>hrs</th>\n",
       "      <th>mz84_mz283</th>\n",
       "      <th>score</th>\n",
       "      <th>tau</th>\n",
       "    </tr>\n",
       "  </thead>\n",
       "  <tbody>\n",
       "    <tr>\n",
       "      <th>0</th>\n",
       "      <td>0.103333</td>\n",
       "      <td>0.030251</td>\n",
       "      <td>0.852499</td>\n",
       "      <td>3.189017</td>\n",
       "    </tr>\n",
       "    <tr>\n",
       "      <th>1</th>\n",
       "      <td>0.128552</td>\n",
       "      <td>0.030013</td>\n",
       "      <td>0.852499</td>\n",
       "      <td>3.189017</td>\n",
       "    </tr>\n",
       "    <tr>\n",
       "      <th>2</th>\n",
       "      <td>0.153771</td>\n",
       "      <td>0.029777</td>\n",
       "      <td>0.852499</td>\n",
       "      <td>3.189017</td>\n",
       "    </tr>\n",
       "    <tr>\n",
       "      <th>3</th>\n",
       "      <td>0.178990</td>\n",
       "      <td>0.029542</td>\n",
       "      <td>0.852499</td>\n",
       "      <td>3.189017</td>\n",
       "    </tr>\n",
       "    <tr>\n",
       "      <th>4</th>\n",
       "      <td>0.204209</td>\n",
       "      <td>0.029309</td>\n",
       "      <td>0.852499</td>\n",
       "      <td>3.189017</td>\n",
       "    </tr>\n",
       "  </tbody>\n",
       "</table>\n",
       "</div>"
      ],
      "text/plain": [
       "        hrs  mz84_mz283     score       tau\n",
       "0  0.103333    0.030251  0.852499  3.189017\n",
       "1  0.128552    0.030013  0.852499  3.189017\n",
       "2  0.153771    0.029777  0.852499  3.189017\n",
       "3  0.178990    0.029542  0.852499  3.189017\n",
       "4  0.204209    0.029309  0.852499  3.189017"
      ]
     },
     "execution_count": 15,
     "metadata": {},
     "output_type": "execute_result"
    }
   ],
   "source": [
    "from src.d03_modeling.perform_ols import *\n",
    "df_mod = create_ordinary_least_squares_data(paths['clustered_data'], x_col_name='hrs', y_col_name='mz84_mz283',\n",
    "                                        take_log=True, save_data=False)\n",
    "df_mod.head()"
   ]
  },
  {
   "cell_type": "code",
   "execution_count": 16,
   "metadata": {},
   "outputs": [
    {
     "data": {
      "text/html": [
       "<div>\n",
       "<style scoped>\n",
       "    .dataframe tbody tr th:only-of-type {\n",
       "        vertical-align: middle;\n",
       "    }\n",
       "\n",
       "    .dataframe tbody tr th {\n",
       "        vertical-align: top;\n",
       "    }\n",
       "\n",
       "    .dataframe thead th {\n",
       "        text-align: right;\n",
       "    }\n",
       "</style>\n",
       "<table border=\"1\" class=\"dataframe\">\n",
       "  <thead>\n",
       "    <tr style=\"text-align: right;\">\n",
       "      <th></th>\n",
       "      <th>mz84_mz283</th>\n",
       "      <th>hrs</th>\n",
       "      <th>mz84_mz283_std</th>\n",
       "      <th>hrs_std</th>\n",
       "      <th>experiment</th>\n",
       "    </tr>\n",
       "  </thead>\n",
       "  <tbody>\n",
       "    <tr>\n",
       "      <th>0</th>\n",
       "      <td>0.023115</td>\n",
       "      <td>0.958333</td>\n",
       "      <td>0.008359</td>\n",
       "      <td>2.474874e-01</td>\n",
       "      <td>pyr_nh42so4</td>\n",
       "    </tr>\n",
       "    <tr>\n",
       "      <th>1</th>\n",
       "      <td>0.025233</td>\n",
       "      <td>0.103333</td>\n",
       "      <td>0.007987</td>\n",
       "      <td>3.990730e-02</td>\n",
       "      <td>pyr_nh42so4</td>\n",
       "    </tr>\n",
       "    <tr>\n",
       "      <th>2</th>\n",
       "      <td>0.018427</td>\n",
       "      <td>1.925000</td>\n",
       "      <td>0.005102</td>\n",
       "      <td>9.477068e-02</td>\n",
       "      <td>pyr_nh42so4</td>\n",
       "    </tr>\n",
       "    <tr>\n",
       "      <th>3</th>\n",
       "      <td>0.012860</td>\n",
       "      <td>2.600000</td>\n",
       "      <td>NaN</td>\n",
       "      <td>NaN</td>\n",
       "      <td>pyr_nh42so4</td>\n",
       "    </tr>\n",
       "    <tr>\n",
       "      <th>4</th>\n",
       "      <td>0.033499</td>\n",
       "      <td>0.350000</td>\n",
       "      <td>0.002082</td>\n",
       "      <td>1.493814e-09</td>\n",
       "      <td>pyr_nh42so4</td>\n",
       "    </tr>\n",
       "  </tbody>\n",
       "</table>\n",
       "</div>"
      ],
      "text/plain": [
       "   mz84_mz283       hrs  mz84_mz283_std       hrs_std   experiment\n",
       "0    0.023115  0.958333        0.008359  2.474874e-01  pyr_nh42so4\n",
       "1    0.025233  0.103333        0.007987  3.990730e-02  pyr_nh42so4\n",
       "2    0.018427  1.925000        0.005102  9.477068e-02  pyr_nh42so4\n",
       "3    0.012860  2.600000             NaN           NaN  pyr_nh42so4\n",
       "4    0.033499  0.350000        0.002082  1.493814e-09  pyr_nh42so4"
      ]
     },
     "execution_count": 16,
     "metadata": {},
     "output_type": "execute_result"
    }
   ],
   "source": [
    "df_clustered = import_ms_data(paths['clustered_data'])\n",
    "df_clustered"
   ]
  },
  {
   "cell_type": "code",
   "execution_count": 17,
   "metadata": {},
   "outputs": [
    {
     "data": {
      "text/plain": [
       "<matplotlib.axes._subplots.AxesSubplot at 0x1b1e6a37b08>"
      ]
     },
     "execution_count": 17,
     "metadata": {},
     "output_type": "execute_result"
    },
    {
     "data": {
      "image/png": "[encoded data removed]",
      "text/plain": [
       "<Figure size 432x288 with 1 Axes>"
      ]
     },
     "metadata": {},
     "output_type": "display_data"
    }
   ],
   "source": [
    "from src.d05_reporting.plot_ms_data import plot_ms_data\n",
    "plot_ms_data(df_data=df_processed, x_data_col='hrs', y_data_cols=['mz84_mz283'],\n",
    "             series_labels=['Pyrrolinone'], series_colors=['Green'], save_fig=False, ax=None,\n",
    "             df_model=df_mod, x_model_col='hrs', y_model_cols=['mz84_mz283'], \n",
    "             model_label='first order decay ($\\\\tau$ = %.1f hrs)' % df_mod.tau[0],\n",
    "             df_cluster=df_clustered, x_cluster_col='hrs', y_cluster_cols=['mz84_mz283'],\n",
    "             x_label='%s' % 'hrs', y_label='Normalized signal', series_title=None)"
   ]
  }
 ],
 "metadata": {
  "kernelspec": {
   "display_name": "droplet",
   "language": "python",
   "name": "dropletenv"
  },
  "language_info": {
   "codemirror_mode": {
    "name": "ipython",
    "version": 3
   },
   "file_extension": ".py",
   "mimetype": "text/x-python",
   "name": "python",
   "nbconvert_exporter": "python",
   "pygments_lexer": "ipython3",
   "version": "3.7.4"
  }
 },
 "nbformat": 4,
 "nbformat_minor": 2
}
