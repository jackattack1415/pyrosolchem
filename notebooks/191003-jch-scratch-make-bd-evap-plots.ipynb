{
 "cells": [
  {
   "cell_type": "code",
   "execution_count": 1,
   "metadata": {},
   "outputs": [],
   "source": [
    "import os\n",
    "notebook_wd = os.getcwd()"
   ]
  },
  {
   "cell_type": "code",
   "execution_count": 2,
   "metadata": {},
   "outputs": [],
   "source": [
    "from datetime import date\n",
    "import matplotlib.pyplot as plt\n",
    "import seaborn as sns\n",
    "import numpy as np"
   ]
  },
  {
   "cell_type": "code",
   "execution_count": 3,
   "metadata": {},
   "outputs": [],
   "source": [
    "os.chdir(os.path.join(notebook_wd, '..'))\n",
    "from src.d00_utils.conf_utils import *"
   ]
  },
  {
   "cell_type": "code",
   "execution_count": 33,
   "metadata": {},
   "outputs": [
    {
     "ename": "KeyError",
     "evalue": "'bd_wet'",
     "output_type": "error",
     "traceback": [
      "\u001b[1;31m---------------------------------------------------------------------------\u001b[0m",
      "\u001b[1;31mKeyError\u001b[0m                                  Traceback (most recent call last)",
      "\u001b[1;32m<ipython-input-33-03128132fcf8>\u001b[0m in \u001b[0;36m<module>\u001b[1;34m\u001b[0m\n\u001b[0;32m      1\u001b[0m \u001b[0mcompounds\u001b[0m\u001b[1;33m,\u001b[0m \u001b[0mwater\u001b[0m \u001b[1;33m=\u001b[0m \u001b[0mload_compounds\u001b[0m\u001b[1;33m(\u001b[0m\u001b[1;33m)\u001b[0m\u001b[1;33m\u001b[0m\u001b[1;33m\u001b[0m\u001b[0m\n\u001b[1;32m----> 2\u001b[1;33m \u001b[0mexp_params\u001b[0m \u001b[1;33m=\u001b[0m \u001b[0mload_experiments\u001b[0m\u001b[1;33m(\u001b[0m\u001b[1;33m[\u001b[0m\u001b[1;34m'bd_wet'\u001b[0m\u001b[1;33m,\u001b[0m \u001b[1;34m'bd_dry'\u001b[0m\u001b[1;33m,\u001b[0m \u001b[1;34m'bd_nacl_low'\u001b[0m\u001b[1;33m,\u001b[0m \u001b[1;34m'bd_nacl_high'\u001b[0m\u001b[1;33m,\u001b[0m\u001b[1;34m'bd_na2so4_low'\u001b[0m\u001b[1;33m,\u001b[0m \u001b[1;34m'bd_na2so4_high'\u001b[0m\u001b[1;33m]\u001b[0m\u001b[1;33m)\u001b[0m\u001b[1;33m\u001b[0m\u001b[1;33m\u001b[0m\u001b[0m\n\u001b[0m\u001b[0;32m      3\u001b[0m \u001b[0mconstants\u001b[0m \u001b[1;33m=\u001b[0m \u001b[0mload_constants\u001b[0m\u001b[1;33m(\u001b[0m\u001b[1;33m)\u001b[0m\u001b[1;33m\u001b[0m\u001b[1;33m\u001b[0m\u001b[0m\n\u001b[0;32m      4\u001b[0m \u001b[0mpaths\u001b[0m \u001b[1;33m=\u001b[0m \u001b[0mload_paths\u001b[0m\u001b[1;33m(\u001b[0m\u001b[1;33m)\u001b[0m\u001b[1;33m\u001b[0m\u001b[1;33m\u001b[0m\u001b[0m\n\u001b[0;32m      5\u001b[0m \u001b[0mexp_params\u001b[0m\u001b[1;33m\u001b[0m\u001b[1;33m\u001b[0m\u001b[0m\n",
      "\u001b[1;32m~\\Documents\\droplet-chemistry\\src\\d00_utils\\conf_utils.py\u001b[0m in \u001b[0;36mload_experiments\u001b[1;34m(experiment_names)\u001b[0m\n\u001b[0;32m     60\u001b[0m         \u001b[0mexperiments\u001b[0m \u001b[1;33m=\u001b[0m \u001b[0mexperiments\u001b[0m\u001b[1;33m\u001b[0m\u001b[1;33m\u001b[0m\u001b[0m\n\u001b[0;32m     61\u001b[0m     \u001b[1;32melif\u001b[0m \u001b[0mexperiment_names\u001b[0m \u001b[1;32mis\u001b[0m \u001b[1;32mnot\u001b[0m \u001b[1;32mNone\u001b[0m\u001b[1;33m:\u001b[0m\u001b[1;33m\u001b[0m\u001b[1;33m\u001b[0m\u001b[0m\n\u001b[1;32m---> 62\u001b[1;33m         \u001b[0mexperiments\u001b[0m \u001b[1;33m=\u001b[0m \u001b[0mdict\u001b[0m\u001b[1;33m(\u001b[0m\u001b[1;33m(\u001b[0m\u001b[0mexp\u001b[0m\u001b[1;33m,\u001b[0m \u001b[0mexperiments\u001b[0m\u001b[1;33m[\u001b[0m\u001b[0mexp\u001b[0m\u001b[1;33m]\u001b[0m\u001b[1;33m)\u001b[0m \u001b[1;32mfor\u001b[0m \u001b[0mexp\u001b[0m \u001b[1;32min\u001b[0m \u001b[0mexperiment_names\u001b[0m\u001b[1;33m)\u001b[0m\u001b[1;33m\u001b[0m\u001b[1;33m\u001b[0m\u001b[0m\n\u001b[0m\u001b[0;32m     63\u001b[0m \u001b[1;33m\u001b[0m\u001b[0m\n\u001b[0;32m     64\u001b[0m     \u001b[1;32mreturn\u001b[0m \u001b[0mexperiments\u001b[0m\u001b[1;33m\u001b[0m\u001b[1;33m\u001b[0m\u001b[0m\n",
      "\u001b[1;32m~\\Documents\\droplet-chemistry\\src\\d00_utils\\conf_utils.py\u001b[0m in \u001b[0;36m<genexpr>\u001b[1;34m(.0)\u001b[0m\n\u001b[0;32m     60\u001b[0m         \u001b[0mexperiments\u001b[0m \u001b[1;33m=\u001b[0m \u001b[0mexperiments\u001b[0m\u001b[1;33m\u001b[0m\u001b[1;33m\u001b[0m\u001b[0m\n\u001b[0;32m     61\u001b[0m     \u001b[1;32melif\u001b[0m \u001b[0mexperiment_names\u001b[0m \u001b[1;32mis\u001b[0m \u001b[1;32mnot\u001b[0m \u001b[1;32mNone\u001b[0m\u001b[1;33m:\u001b[0m\u001b[1;33m\u001b[0m\u001b[1;33m\u001b[0m\u001b[0m\n\u001b[1;32m---> 62\u001b[1;33m         \u001b[0mexperiments\u001b[0m \u001b[1;33m=\u001b[0m \u001b[0mdict\u001b[0m\u001b[1;33m(\u001b[0m\u001b[1;33m(\u001b[0m\u001b[0mexp\u001b[0m\u001b[1;33m,\u001b[0m \u001b[0mexperiments\u001b[0m\u001b[1;33m[\u001b[0m\u001b[0mexp\u001b[0m\u001b[1;33m]\u001b[0m\u001b[1;33m)\u001b[0m \u001b[1;32mfor\u001b[0m \u001b[0mexp\u001b[0m \u001b[1;32min\u001b[0m \u001b[0mexperiment_names\u001b[0m\u001b[1;33m)\u001b[0m\u001b[1;33m\u001b[0m\u001b[1;33m\u001b[0m\u001b[0m\n\u001b[0m\u001b[0;32m     63\u001b[0m \u001b[1;33m\u001b[0m\u001b[0m\n\u001b[0;32m     64\u001b[0m     \u001b[1;32mreturn\u001b[0m \u001b[0mexperiments\u001b[0m\u001b[1;33m\u001b[0m\u001b[1;33m\u001b[0m\u001b[0m\n",
      "\u001b[1;31mKeyError\u001b[0m: 'bd_wet'"
     ]
    }
   ],
   "source": [
    "compounds, water = load_compounds()\n",
    "exp_params = load_experiments(['bd_wet', 'bd_dry', 'bd_nacl_low', 'bd_nacl_high','bd_na2so4_low', 'bd_na2so4_high'])\n",
    "constants = load_constants()\n",
    "paths = load_paths()\n",
    "exp_params"
   ]
  },
  {
   "cell_type": "code",
   "execution_count": 5,
   "metadata": {},
   "outputs": [
    {
     "data": {
      "text/plain": [
       "array(['bd_wet', 'bd_dry', 'bd_nacl_low', 'bd_nacl_high', 'bd_na2so4_low',\n",
       "       'bd_na2so4_high'], dtype=object)"
      ]
     },
     "execution_count": 5,
     "metadata": {},
     "output_type": "execute_result"
    }
   ],
   "source": [
    "from src.d01_data.clean_ms_data import *\n",
    "\n",
    "df_cleaned = filter_and_clean_data(paths['raw_data'], exp_params, save_cleaned_data=True)\n",
    "df_cleaned.experiment.unique()"
   ]
  },
  {
   "cell_type": "code",
   "execution_count": 6,
   "metadata": {},
   "outputs": [
    {
     "name": "stderr",
     "output_type": "stream",
     "text": [
      "C:\\Users\\joh3146\\Documents\\droplet-chemistry\\src\\d01_data\\process_ms_data.py:109: SettingWithCopyWarning: \n",
      "A value is trying to be set on a copy of a slice from a DataFrame.\n",
      "Try using .loc[row_indexer,col_indexer] = value instead\n",
      "\n",
      "See the caveats in the documentation: http://pandas.pydata.org/pandas-docs/stable/indexing.html#indexing-view-versus-copy\n",
      "  df_experiment[cal_data_col] = df_experiment[experiment_defs['y_col']] * cal_factor_avg\n",
      "C:\\Users\\joh3146\\Documents\\droplet-chemistry\\src\\d01_data\\process_ms_data.py:110: SettingWithCopyWarning: \n",
      "A value is trying to be set on a copy of a slice from a DataFrame.\n",
      "Try using .loc[row_indexer,col_indexer] = value instead\n",
      "\n",
      "See the caveats in the documentation: http://pandas.pydata.org/pandas-docs/stable/indexing.html#indexing-view-versus-copy\n",
      "  df_experiment[cal_data_col + '_std'] = df_experiment[cal_data_col] * cal_factor_std\n",
      "C:\\Users\\joh3146\\Documents\\droplet-chemistry\\src\\d01_data\\process_ms_data.py:114: SettingWithCopyWarning: \n",
      "A value is trying to be set on a copy of a slice from a DataFrame.\n",
      "Try using .loc[row_indexer,col_indexer] = value instead\n",
      "\n",
      "See the caveats in the documentation: http://pandas.pydata.org/pandas-docs/stable/indexing.html#indexing-view-versus-copy\n",
      "  rel_molar_abundance_in_solution\n"
     ]
    },
    {
     "data": {
      "text/html": [
       "<div>\n",
       "<style scoped>\n",
       "    .dataframe tbody tr th:only-of-type {\n",
       "        vertical-align: middle;\n",
       "    }\n",
       "\n",
       "    .dataframe tbody tr th {\n",
       "        vertical-align: top;\n",
       "    }\n",
       "\n",
       "    .dataframe thead th {\n",
       "        text-align: right;\n",
       "    }\n",
       "</style>\n",
       "<table border=\"1\" class=\"dataframe\">\n",
       "  <thead>\n",
       "    <tr style=\"text-align: right;\">\n",
       "      <th></th>\n",
       "      <th>hrs</th>\n",
       "      <th>solution_name</th>\n",
       "      <th>experiment</th>\n",
       "      <th>mz85_mz283</th>\n",
       "      <th>mol85_mol283</th>\n",
       "      <th>mol85_mol283_std</th>\n",
       "      <th>mol85_mol283/mol85_mol283_0</th>\n",
       "    </tr>\n",
       "  </thead>\n",
       "  <tbody>\n",
       "    <tr>\n",
       "      <th>0</th>\n",
       "      <td>4.200000</td>\n",
       "      <td>bd10hg20_002</td>\n",
       "      <td>bd_wet</td>\n",
       "      <td>0.007122</td>\n",
       "      <td>0.090733</td>\n",
       "      <td>0.000113</td>\n",
       "      <td>0.241953</td>\n",
       "    </tr>\n",
       "    <tr>\n",
       "      <th>1</th>\n",
       "      <td>2.800000</td>\n",
       "      <td>bd10hg20_002</td>\n",
       "      <td>bd_wet</td>\n",
       "      <td>0.007784</td>\n",
       "      <td>0.099165</td>\n",
       "      <td>0.000123</td>\n",
       "      <td>0.264441</td>\n",
       "    </tr>\n",
       "    <tr>\n",
       "      <th>2</th>\n",
       "      <td>2.883333</td>\n",
       "      <td>bd10hg20_002</td>\n",
       "      <td>bd_wet</td>\n",
       "      <td>0.009940</td>\n",
       "      <td>0.126630</td>\n",
       "      <td>0.000157</td>\n",
       "      <td>0.337680</td>\n",
       "    </tr>\n",
       "    <tr>\n",
       "      <th>3</th>\n",
       "      <td>0.433333</td>\n",
       "      <td>bd10hg20_002</td>\n",
       "      <td>bd_wet</td>\n",
       "      <td>0.025973</td>\n",
       "      <td>0.330885</td>\n",
       "      <td>0.000410</td>\n",
       "      <td>0.882360</td>\n",
       "    </tr>\n",
       "    <tr>\n",
       "      <th>4</th>\n",
       "      <td>0.700000</td>\n",
       "      <td>bd10hg20_002</td>\n",
       "      <td>bd_wet</td>\n",
       "      <td>0.024839</td>\n",
       "      <td>0.316434</td>\n",
       "      <td>0.000393</td>\n",
       "      <td>0.843825</td>\n",
       "    </tr>\n",
       "  </tbody>\n",
       "</table>\n",
       "</div>"
      ],
      "text/plain": [
       "        hrs solution_name experiment  mz85_mz283  mol85_mol283  \\\n",
       "0  4.200000  bd10hg20_002     bd_wet    0.007122      0.090733   \n",
       "1  2.800000  bd10hg20_002     bd_wet    0.007784      0.099165   \n",
       "2  2.883333  bd10hg20_002     bd_wet    0.009940      0.126630   \n",
       "3  0.433333  bd10hg20_002     bd_wet    0.025973      0.330885   \n",
       "4  0.700000  bd10hg20_002     bd_wet    0.024839      0.316434   \n",
       "\n",
       "   mol85_mol283_std  mol85_mol283/mol85_mol283_0  \n",
       "0          0.000113                     0.241953  \n",
       "1          0.000123                     0.264441  \n",
       "2          0.000157                     0.337680  \n",
       "3          0.000410                     0.882360  \n",
       "4          0.000393                     0.843825  "
      ]
     },
     "execution_count": 6,
     "metadata": {},
     "output_type": "execute_result"
    }
   ],
   "source": [
    "from src.d01_data.process_ms_data import *\n",
    "\n",
    "df_processed = process_ms_data_in_evap_experiments(paths['cleaned_data'], exp_params, save_processed_data=True)\n",
    "df_processed.head()"
   ]
  },
  {
   "cell_type": "code",
   "execution_count": 29,
   "metadata": {},
   "outputs": [
    {
     "data": {
      "text/html": [
       "<div>\n",
       "<style scoped>\n",
       "    .dataframe tbody tr th:only-of-type {\n",
       "        vertical-align: middle;\n",
       "    }\n",
       "\n",
       "    .dataframe tbody tr th {\n",
       "        vertical-align: top;\n",
       "    }\n",
       "\n",
       "    .dataframe thead th {\n",
       "        text-align: right;\n",
       "    }\n",
       "</style>\n",
       "<table border=\"1\" class=\"dataframe\">\n",
       "  <thead>\n",
       "    <tr style=\"text-align: right;\">\n",
       "      <th></th>\n",
       "      <th>mol85_mol283</th>\n",
       "      <th>hrs</th>\n",
       "      <th>mol85_mol283_std</th>\n",
       "      <th>hrs_std</th>\n",
       "      <th>experiment</th>\n",
       "    </tr>\n",
       "  </thead>\n",
       "  <tbody>\n",
       "    <tr>\n",
       "      <th>0</th>\n",
       "      <td>0.374519</td>\n",
       "      <td>0.195833</td>\n",
       "      <td>0.045142</td>\n",
       "      <td>0.197755</td>\n",
       "      <td>bd_wet</td>\n",
       "    </tr>\n",
       "    <tr>\n",
       "      <th>1</th>\n",
       "      <td>0.236034</td>\n",
       "      <td>0.996667</td>\n",
       "      <td>0.062729</td>\n",
       "      <td>0.281711</td>\n",
       "      <td>bd_wet</td>\n",
       "    </tr>\n",
       "    <tr>\n",
       "      <th>2</th>\n",
       "      <td>0.138385</td>\n",
       "      <td>2.716667</td>\n",
       "      <td>0.046233</td>\n",
       "      <td>0.220479</td>\n",
       "      <td>bd_wet</td>\n",
       "    </tr>\n",
       "    <tr>\n",
       "      <th>3</th>\n",
       "      <td>0.212267</td>\n",
       "      <td>1.838889</td>\n",
       "      <td>0.004626</td>\n",
       "      <td>0.113448</td>\n",
       "      <td>bd_wet</td>\n",
       "    </tr>\n",
       "    <tr>\n",
       "      <th>4</th>\n",
       "      <td>0.090733</td>\n",
       "      <td>4.200000</td>\n",
       "      <td>NaN</td>\n",
       "      <td>NaN</td>\n",
       "      <td>bd_wet</td>\n",
       "    </tr>\n",
       "  </tbody>\n",
       "</table>\n",
       "</div>"
      ],
      "text/plain": [
       "   mol85_mol283       hrs  mol85_mol283_std   hrs_std experiment\n",
       "0      0.374519  0.195833          0.045142  0.197755     bd_wet\n",
       "1      0.236034  0.996667          0.062729  0.281711     bd_wet\n",
       "2      0.138385  2.716667          0.046233  0.220479     bd_wet\n",
       "3      0.212267  1.838889          0.004626  0.113448     bd_wet\n",
       "4      0.090733  4.200000               NaN       NaN     bd_wet"
      ]
     },
     "execution_count": 29,
     "metadata": {},
     "output_type": "execute_result"
    }
   ],
   "source": [
    "from src.d02_extraction.cluster_ms_data import *\n",
    "\n",
    "df_clustered = create_clustered_statistics_dataframe(paths['processed_data'], 'hrs', ['mol85_mol283'], \n",
    "                                                     max_points_per_cluster=4, save_clustered_data=True)\n",
    "\n",
    "df_clustered.head()"
   ]
  },
  {
   "cell_type": "code",
   "execution_count": 30,
   "metadata": {},
   "outputs": [
    {
     "data": {
      "text/html": [
       "<div>\n",
       "<style scoped>\n",
       "    .dataframe tbody tr th:only-of-type {\n",
       "        vertical-align: middle;\n",
       "    }\n",
       "\n",
       "    .dataframe tbody tr th {\n",
       "        vertical-align: top;\n",
       "    }\n",
       "\n",
       "    .dataframe thead th {\n",
       "        text-align: right;\n",
       "    }\n",
       "</style>\n",
       "<table border=\"1\" class=\"dataframe\">\n",
       "  <thead>\n",
       "    <tr style=\"text-align: right;\">\n",
       "      <th></th>\n",
       "      <th>hrs</th>\n",
       "      <th>mol85_mol283</th>\n",
       "      <th>score</th>\n",
       "      <th>tau</th>\n",
       "    </tr>\n",
       "  </thead>\n",
       "  <tbody>\n",
       "    <tr>\n",
       "      <th>0</th>\n",
       "      <td>0.195833</td>\n",
       "      <td>0.348493</td>\n",
       "      <td>0.976652</td>\n",
       "      <td>2.909448</td>\n",
       "    </tr>\n",
       "    <tr>\n",
       "      <th>1</th>\n",
       "      <td>0.236279</td>\n",
       "      <td>0.343682</td>\n",
       "      <td>0.976652</td>\n",
       "      <td>2.909448</td>\n",
       "    </tr>\n",
       "    <tr>\n",
       "      <th>2</th>\n",
       "      <td>0.276726</td>\n",
       "      <td>0.338938</td>\n",
       "      <td>0.976652</td>\n",
       "      <td>2.909448</td>\n",
       "    </tr>\n",
       "    <tr>\n",
       "      <th>3</th>\n",
       "      <td>0.317172</td>\n",
       "      <td>0.334258</td>\n",
       "      <td>0.976652</td>\n",
       "      <td>2.909448</td>\n",
       "    </tr>\n",
       "    <tr>\n",
       "      <th>4</th>\n",
       "      <td>0.357618</td>\n",
       "      <td>0.329644</td>\n",
       "      <td>0.976652</td>\n",
       "      <td>2.909448</td>\n",
       "    </tr>\n",
       "  </tbody>\n",
       "</table>\n",
       "</div>"
      ],
      "text/plain": [
       "        hrs  mol85_mol283     score       tau\n",
       "0  0.195833      0.348493  0.976652  2.909448\n",
       "1  0.236279      0.343682  0.976652  2.909448\n",
       "2  0.276726      0.338938  0.976652  2.909448\n",
       "3  0.317172      0.334258  0.976652  2.909448\n",
       "4  0.357618      0.329644  0.976652  2.909448"
      ]
     },
     "execution_count": 30,
     "metadata": {},
     "output_type": "execute_result"
    }
   ],
   "source": [
    "from src.d03_modeling.conduct_linear_regression import *\n",
    "df_mod = create_ordinary_least_squares_data(paths['clustered_data'], x_col_name='hrs', y_col_name='mol85_mol283',\n",
    "                                        take_log=True, save_data=False, experiment='bd_wet')\n",
    "df_mod.head()"
   ]
  },
  {
   "cell_type": "code",
   "execution_count": 32,
   "metadata": {},
   "outputs": [
    {
     "data": {
      "image/png": "[encoded data removed]",
      "text/plain": [
       "<Figure size 360x360 with 1 Axes>"
      ]
     },
     "metadata": {},
     "output_type": "display_data"
    }
   ],
   "source": [
    "# created a new plotting function\n",
    "from src.d05_reporting.plot_ms_data import plot_ms_data\n",
    "\n",
    "\n",
    "fig, ax = plt.subplots(figsize=(5,5))\n",
    "ax = plot_ms_data(df_data=df_processed[df_processed.experiment == 'bd_wet'], x_data_col='hrs', y_data_cols=['mol85_mol283'],\n",
    "             series_labels=['Observations'], series_colors=['red'], save_fig=False, ax=ax,\n",
    "             df_model=df_mod, x_model_col='hrs', y_model_cols=['mol85_mol283'], \n",
    "             model_label='First order decay ($\\\\tau$ = %.1f hrs)' % df_mod.tau[0],\n",
    "             df_cluster=df_clustered[df_clustered.experiment == 'bd_wet'], x_cluster_col='hrs', y_cluster_cols=['mol85_mol283'],\n",
    "             x_label='hrs', y_label='$n_{B} / n_{PEG6}$', series_title=None)"
   ]
  },
  {
   "cell_type": "code",
   "execution_count": 11,
   "metadata": {},
   "outputs": [
    {
     "data": {
      "text/plain": [
       "<matplotlib.axes._subplots.AxesSubplot at 0x209c5f22548>"
      ]
     },
     "execution_count": 11,
     "metadata": {},
     "output_type": "execute_result"
    },
    {
     "data": {
      "image/png": "[encoded data removed]",
      "text/plain": [
       "<Figure size 432x288 with 1 Axes>"
      ]
     },
     "metadata": {},
     "output_type": "display_data"
    }
   ],
   "source": [
    "plot_ms_data(df_data=df_processed[df_processed.experiment == 'bd_na2so4_high'], x_data_col='hrs', y_data_cols=['mol85_mol283'],\n",
    "             series_labels=['Butenedial'], series_colors=['red'], save_fig=False,\n",
    "             df_model=None, x_model_col=None, y_model_cols=None,\n",
    "             df_cluster=df_clustered[df_clustered.experiment == 'bd_na2so4_high'], x_cluster_col='hrs', y_cluster_cols=['mol85_mol283'],\n",
    "             x_label=None, y_label=None, series_title=None)"
   ]
  }
 ],
 "metadata": {
  "kernelspec": {
   "display_name": "droplet",
   "language": "python",
   "name": "dropletenv"
  },
  "language_info": {
   "codemirror_mode": {
    "name": "ipython",
    "version": 3
   },
   "file_extension": ".py",
   "mimetype": "text/x-python",
   "name": "python",
   "nbconvert_exporter": "python",
   "pygments_lexer": "ipython3",
   "version": "3.7.4"
  }
 },
 "nbformat": 4,
 "nbformat_minor": 2
}
