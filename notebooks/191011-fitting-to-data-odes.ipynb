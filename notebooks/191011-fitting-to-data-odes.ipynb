{
 "cells": [
  {
   "cell_type": "code",
   "execution_count": 149,
   "metadata": {},
   "outputs": [],
   "source": [
    "import numpy as np\n",
    "import matplotlib.pyplot as plt\n",
    "from scipy.integrate import odeint\n",
    "from lmfit import minimize, Parameters, Parameter, report_fit\n",
    "from scipy.integrate import odeint"
   ]
  },
  {
   "cell_type": "code",
   "execution_count": 150,
   "metadata": {},
   "outputs": [],
   "source": [
    "import os\n",
    "notebook_wd = os.getcwd()"
   ]
  },
  {
   "cell_type": "code",
   "execution_count": 151,
   "metadata": {},
   "outputs": [],
   "source": [
    "os.chdir(os.path.join(notebook_wd, '..'))\n",
    "from src.d00_utils.conf_utils import *\n",
    "from src.d00_utils.data_utils import import_ms_data"
   ]
  },
  {
   "cell_type": "code",
   "execution_count": 152,
   "metadata": {},
   "outputs": [
    {
     "data": {
      "text/plain": [
       "{'bd_rxn_nh3g_droplet': {'paths': {'raw_data': '190924-butenedial-nh3g-droplets.csv',\n",
       "   'cleaned_data': '191011-bd_rxn_nh3g_droplet-CLEANED.csv',\n",
       "   'processed_data': '191011-bd_rxn_nh3g_droplet-PROCESSED.csv',\n",
       "   'clustered_data': '191011-bd_rxn_nh3g_droplet-CLUSTERED.csv'},\n",
       "  'experimental': {'composition': {'Butenedial': 0.75, 'PEG-6': 0.2}},\n",
       "  'processing': {'solution_name': ['butenedial-peg6-181016',\n",
       "    'butenedial-peg6-181018'],\n",
       "   'bad_idx': None,\n",
       "   'idx_range': None,\n",
       "   'trap_time': None,\n",
       "   'other_query': 'p283>=10000 and (solution==\"butenedial-peg6-181016\" or solution==\"butenedial-peg6-181018\") and nominal_nh3_mM==29',\n",
       "   'y_col': 'mz84_mz283',\n",
       "   'p283_cutoff': 30000,\n",
       "   'columns_to_keep': ['trapped',\n",
       "    'solution',\n",
       "    'nominal_nh3_mM',\n",
       "    'mz84_mz283',\n",
       "    'mz85_mz283',\n",
       "    'mz149_mz283']}}}"
      ]
     },
     "execution_count": 152,
     "metadata": {},
     "output_type": "execute_result"
    }
   ],
   "source": [
    "compounds, water = load_compounds()\n",
    "exp_droplet_nh3g = load_experiments(['bd_rxn_nh3g_droplet'])\n",
    "exp_droplet_nh3g"
   ]
  },
  {
   "cell_type": "code",
   "execution_count": 153,
   "metadata": {},
   "outputs": [
    {
     "data": {
      "text/html": [
       "<div>\n",
       "<style scoped>\n",
       "    .dataframe tbody tr th:only-of-type {\n",
       "        vertical-align: middle;\n",
       "    }\n",
       "\n",
       "    .dataframe tbody tr th {\n",
       "        vertical-align: top;\n",
       "    }\n",
       "\n",
       "    .dataframe thead th {\n",
       "        text-align: right;\n",
       "    }\n",
       "</style>\n",
       "<table border=\"1\" class=\"dataframe\">\n",
       "  <thead>\n",
       "    <tr style=\"text-align: right;\">\n",
       "      <th></th>\n",
       "      <th>mins</th>\n",
       "      <th>solution</th>\n",
       "      <th>nominal_nh3_mM</th>\n",
       "      <th>mz84_mz283</th>\n",
       "      <th>mz85_mz283</th>\n",
       "      <th>mz149_mz283</th>\n",
       "      <th>experiment</th>\n",
       "    </tr>\n",
       "  </thead>\n",
       "  <tbody>\n",
       "    <tr>\n",
       "      <th>0</th>\n",
       "      <td>18</td>\n",
       "      <td>butenedial-peg6-181018</td>\n",
       "      <td>2.9</td>\n",
       "      <td>0.076130</td>\n",
       "      <td>0.015851</td>\n",
       "      <td>0.006363</td>\n",
       "      <td>bd_nh3g_29</td>\n",
       "    </tr>\n",
       "    <tr>\n",
       "      <th>1</th>\n",
       "      <td>37</td>\n",
       "      <td>butenedial-peg6-181018</td>\n",
       "      <td>2.9</td>\n",
       "      <td>0.021884</td>\n",
       "      <td>0.004668</td>\n",
       "      <td>0.006950</td>\n",
       "      <td>bd_nh3g_29</td>\n",
       "    </tr>\n",
       "    <tr>\n",
       "      <th>2</th>\n",
       "      <td>70</td>\n",
       "      <td>butenedial-peg6-181018</td>\n",
       "      <td>2.9</td>\n",
       "      <td>0.021640</td>\n",
       "      <td>0.002487</td>\n",
       "      <td>0.008978</td>\n",
       "      <td>bd_nh3g_29</td>\n",
       "    </tr>\n",
       "    <tr>\n",
       "      <th>3</th>\n",
       "      <td>34</td>\n",
       "      <td>butenedial-peg6-181018</td>\n",
       "      <td>2.9</td>\n",
       "      <td>0.030922</td>\n",
       "      <td>0.008628</td>\n",
       "      <td>0.006401</td>\n",
       "      <td>bd_nh3g_29</td>\n",
       "    </tr>\n",
       "    <tr>\n",
       "      <th>4</th>\n",
       "      <td>13</td>\n",
       "      <td>butenedial-peg6-181018</td>\n",
       "      <td>2.9</td>\n",
       "      <td>0.019313</td>\n",
       "      <td>0.011089</td>\n",
       "      <td>0.004236</td>\n",
       "      <td>bd_nh3g_29</td>\n",
       "    </tr>\n",
       "  </tbody>\n",
       "</table>\n",
       "</div>"
      ],
      "text/plain": [
       "   mins                solution  nominal_nh3_mM  mz84_mz283  mz85_mz283  \\\n",
       "0    18  butenedial-peg6-181018             2.9    0.076130    0.015851   \n",
       "1    37  butenedial-peg6-181018             2.9    0.021884    0.004668   \n",
       "2    70  butenedial-peg6-181018             2.9    0.021640    0.002487   \n",
       "3    34  butenedial-peg6-181018             2.9    0.030922    0.008628   \n",
       "4    13  butenedial-peg6-181018             2.9    0.019313    0.011089   \n",
       "\n",
       "   mz149_mz283  experiment  \n",
       "0     0.006363  bd_nh3g_29  \n",
       "1     0.006950  bd_nh3g_29  \n",
       "2     0.008978  bd_nh3g_29  \n",
       "3     0.006401  bd_nh3g_29  \n",
       "4     0.004236  bd_nh3g_29  "
      ]
     },
     "execution_count": 153,
     "metadata": {},
     "output_type": "execute_result"
    }
   ],
   "source": [
    "df_processed = import_ms_data(exp_droplet_nh3g['bd_rxn_nh3g_droplet']['paths']['processed_data'],\n",
    "                             subdirectory='bd_rxn_nh3g_droplet')\n",
    "\n",
    "df_processed.head()"
   ]
  },
  {
   "cell_type": "code",
   "execution_count": 154,
   "metadata": {},
   "outputs": [
    {
     "name": "stdout",
     "output_type": "stream",
     "text": [
      "[[Fit Statistics]]\n",
      "    # fitting method   = leastsq\n",
      "    # function evals   = 16\n",
      "    # data points      = 10\n",
      "    # variables        = 2\n",
      "    chi-square         = 0.00505747\n",
      "    reduced chi-square = 6.3218e-04\n",
      "    Akaike info crit   = -71.8947443\n",
      "    Bayesian info crit = -71.2895741\n",
      "[[Variables]]\n",
      "    x10:  5 (fixed)\n",
      "    x20:  0 (fixed)\n",
      "    x30:  0 (fixed)\n",
      "    k0:   0.12183302 +/- 0.00590992 (4.85%) (init = 0.2)\n",
      "    k1:   0.77583947 +/- 0.02663943 (3.43%) (init = 0.3)\n",
      "[[Correlations]] (unreported correlations are < 0.100)\n",
      "    C(k0, k1) =  0.809\n"
     ]
    },
    {
     "data": {
      "image/png": "[encoded data removed]",
      "text/plain": [
       "<Figure size 432x288 with 1 Axes>"
      ]
     },
     "metadata": {
      "needs_background": "light"
     },
     "output_type": "display_data"
    }
   ],
   "source": [
    "def f(y, t, paras):\n",
    "    \"\"\"\n",
    "    Your system of differential equations\n",
    "    \"\"\"\n",
    "\n",
    "    x1 = y[0]\n",
    "    x2 = y[1]\n",
    "    x3 = y[2]\n",
    "\n",
    "    try:\n",
    "        k0 = paras['k0'].value\n",
    "        k1 = paras['k1'].value\n",
    "\n",
    "    except KeyError:\n",
    "        k0, k1 = paras\n",
    "    # the model equations\n",
    "    f0 = -k0 * x1\n",
    "    f1 = k0 * x1 - k1 * x2\n",
    "    f2 = k1 * x2\n",
    "    return [f0, f1, f2]\n",
    "\n",
    "\n",
    "def g(t, x0, paras):\n",
    "    \"\"\"\n",
    "    Solution to the ODE x'(t) = f(t,x,k) with initial condition x(0) = x0\n",
    "    \"\"\"\n",
    "    x = odeint(f, x0, t, args=(paras,))\n",
    "    return x\n",
    "\n",
    "\n",
    "def residual(paras, t, data):\n",
    "\n",
    "    \"\"\"\n",
    "    compute the residual between actual data and fitted data\n",
    "    \"\"\"\n",
    "\n",
    "    x0 = paras['x10'].value, paras['x20'].value, paras['x30'].value\n",
    "    model = g(t, x0, paras)\n",
    "\n",
    "    # you only have data for one of your variables\n",
    "    x2_model = model[:, 1]\n",
    "    return (x2_model - data).ravel()\n",
    "\n",
    "\n",
    "# initial conditions\n",
    "x10 = 5.\n",
    "x20 = 0\n",
    "x30 = 0\n",
    "y0 = [x10, x20, x30]\n",
    "\n",
    "# measured data\n",
    "t_measured = np.linspace(0, 9, 10)\n",
    "x2_measured = np.array([0.000, 0.416, 0.489, 0.595, 0.506, 0.493, 0.458, 0.394, 0.335, 0.309])\n",
    "\n",
    "plt.figure()\n",
    "plt.scatter(t_measured, x2_measured, marker='o', color='b', label='measured data', s=75)\n",
    "\n",
    "# set parameters including bounds; you can also fix parameters (use vary=False)\n",
    "params = Parameters()\n",
    "params.add('x10', value=x10, vary=False)\n",
    "params.add('x20', value=x20, vary=False)\n",
    "params.add('x30', value=x30, vary=False)\n",
    "params.add('k0', value=0.2, min=0.0001, max=2.)\n",
    "params.add('k1', value=0.3, min=0.0001, max=2.)\n",
    "\n",
    "# fit model\n",
    "result = minimize(residual, params, args=(t_measured, x2_measured), method='leastsq')  # leastsq nelder\n",
    "# check results of the fit\n",
    "data_fitted = g(np.linspace(0., 9., 100), y0, result.params)\n",
    "\n",
    "# plot fitted data\n",
    "plt.plot(np.linspace(0., 9., 100), data_fitted[:, 1], '-', linewidth=2, color='red', label='fitted data')\n",
    "plt.legend()\n",
    "plt.xlim([0, max(t_measured)])\n",
    "plt.ylim([0, 1.1 * max(data_fitted[:, 1])])\n",
    "# display fitted statistics\n",
    "report_fit(result)"
   ]
  },
  {
   "cell_type": "code",
   "execution_count": 155,
   "metadata": {},
   "outputs": [],
   "source": [
    "def droplet_function(y, t, coefs):\n",
    "    \"\"\"\n",
    "    Your system of differential equations\n",
    "    \"\"\"\n",
    "\n",
    "    B = y[0]\n",
    "    P = y[1]\n",
    "    D = y[2]\n",
    "\n",
    "    k0 = coefs['k0'].value\n",
    "    k1 = coefs['k1'].value\n",
    "    k_LD = coefs['k_LD'].value\n",
    "    a = coefs['a'].value\n",
    "    b = coefs['b'].value\n",
    "        \n",
    "    k_LB = 1/(60*1.4)\n",
    "    k_LP = 1/(60*4.6)\n",
    "    \n",
    "    # the model equations\n",
    "    dBdt = -2*k0*B*B - k1*B*P - k_LB*B\n",
    "    dPdt = a*(k0*B*B - k1*B*P - k_LP*P)\n",
    "    dDdt = b*(k1*B*P - k_LD*D)\n",
    "    \n",
    "    return [dBdt, dPdt, dDdt]"
   ]
  },
  {
   "cell_type": "code",
   "execution_count": 156,
   "metadata": {},
   "outputs": [],
   "source": [
    "def g(t, y0, coefs):\n",
    "    \"\"\"\n",
    "    Solution to the ODE y'(t) = f(t,y,k) with initial condition y0\n",
    "    \"\"\"\n",
    "    \n",
    "    y = odeint(droplet_function, y0, t, args=(coefs,))\n",
    "    \n",
    "    return y"
   ]
  },
  {
   "cell_type": "code",
   "execution_count": 157,
   "metadata": {},
   "outputs": [],
   "source": [
    "def residual(coefs, t, data):\n",
    "    \"\"\"\n",
    "    compute the residual between actual data and fitted data\n",
    "    \"\"\"\n",
    "\n",
    "    y0 = coefs['B_0'].value, coefs['P_0'].value, coefs['D_0'].value\n",
    "    model = g(t, y0, coefs).T\n",
    "\n",
    "    return (model - data).ravel()"
   ]
  },
  {
   "cell_type": "code",
   "execution_count": 163,
   "metadata": {},
   "outputs": [],
   "source": [
    "B_0 = 0.033\n",
    "P_0 = D_0 = 0\n",
    "X_0 = [B_0, P_0, D_0]\n",
    "\n",
    "params = Parameters()\n",
    "params.add('B_0', value=B_0, vary=False)\n",
    "params.add('P_0', value=P_0, vary=False)\n",
    "params.add('D_0', value=D_0, vary=False)\n",
    "params.add('k0', value=5, min=0, max=10.)\n",
    "params.add('k1', value=5, min=0, max=10.)\n",
    "params.add('k_LD', value=3.5, min=0, max=2.)\n",
    "params.add('a', value=5, min=0.0001, max=20.)\n",
    "params.add('b', value=3.5, min=0.0001, max=20.)"
   ]
  },
  {
   "cell_type": "code",
   "execution_count": 159,
   "metadata": {},
   "outputs": [],
   "source": [
    "df_processed = df_processed.sort_values(by='mins', ascending=True)"
   ]
  },
  {
   "cell_type": "code",
   "execution_count": 160,
   "metadata": {},
   "outputs": [],
   "source": [
    "ys = np.array([df_processed.mz85_mz283.values, df_processed.mz84_mz283.values, df_processed.mz149_mz283.values])"
   ]
  },
  {
   "cell_type": "code",
   "execution_count": 164,
   "metadata": {},
   "outputs": [
    {
     "data": {
      "text/html": [
       "<h2>Fit Statistics</h2><table><tr><td>fitting method</td><td>leastsq</td><td></td></tr><tr><td># function evals</td><td>82</td><td></td></tr><tr><td># data points</td><td>39</td><td></td></tr><tr><td># variables</td><td>5</td><td></td></tr><tr><td>chi-square</td><td> 0.00911855</td><td></td></tr><tr><td>reduced chi-square</td><td> 2.6819e-04</td><td></td></tr><tr><td>Akaike info crit.</td><td>-316.079241</td><td></td></tr><tr><td>Bayesian info crit.</td><td>-307.761433</td><td></td></tr></table><h2>Variables</h2><table><tr><th> name </th><th> value </th><th> standard error </th><th> relative error </th><th> initial value </th><th> min </th><th> max </th><th> vary </th></tr><tr><td> B_0 </td><td>  0.03300000 </td><td>  0.00000000 </td><td> (0.00%) </td><td> 0.033 </td><td>        -inf </td><td>         inf </td><td> False </td></tr><tr><td> P_0 </td><td>  0.00000000 </td><td>  0.00000000 </td><td>  </td><td> 0 </td><td>        -inf </td><td>         inf </td><td> False </td></tr><tr><td> D_0 </td><td>  0.00000000 </td><td>  0.00000000 </td><td>  </td><td> 0 </td><td>        -inf </td><td>         inf </td><td> False </td></tr><tr><td> k0 </td><td>  1.13734749 </td><td>  0.82952668 </td><td> (72.94%) </td><td> 5 </td><td>  0.00000000 </td><td>  10.0000000 </td><td> True </td></tr><tr><td> k1 </td><td>  0.05243888 </td><td>  0.11116424 </td><td> (211.99%) </td><td> 5 </td><td>  0.00000000 </td><td>  10.0000000 </td><td> True </td></tr><tr><td> k_LD </td><td>  0.00129756 </td><td>  0.00330194 </td><td> (254.47%) </td><td> 2.0 </td><td>  0.00000000 </td><td>  2.00000000 </td><td> True </td></tr><tr><td> a </td><td>  8.39330703 </td><td>  4.23095471 </td><td> (50.41%) </td><td> 5 </td><td>  1.0000e-04 </td><td>  20.0000000 </td><td> True </td></tr><tr><td> b </td><td>  14.2435311 </td><td>  34.2693922 </td><td> (240.60%) </td><td> 3.5 </td><td>  1.0000e-04 </td><td>  20.0000000 </td><td> True </td></tr></table><h2>Correlations (unreported correlations are < 0.100)</h2><table><tr><td>k0</td><td>a</td><td>-0.8825</td></tr><tr><td>k1</td><td>b</td><td>-0.8360</td></tr><tr><td>k1</td><td>k_LD</td><td>0.6102</td></tr><tr><td>k0</td><td>k1</td><td>0.5334</td></tr><tr><td>k0</td><td>b</td><td>-0.3895</td></tr><tr><td>k_LD</td><td>b</td><td>-0.2927</td></tr><tr><td>k1</td><td>a</td><td>-0.2242</td></tr><tr><td>k0</td><td>k_LD</td><td>0.2204</td></tr><tr><td>a</td><td>b</td><td>0.1033</td></tr></table>"
      ],
      "text/plain": [
       "<lmfit.minimizer.MinimizerResult at 0x217fa1a2bc8>"
      ]
     },
     "execution_count": 164,
     "metadata": {},
     "output_type": "execute_result"
    }
   ],
   "source": [
    "result = minimize(residual, params, args=(df_processed.mins.values, ys), method='leastsq')\n",
    "result"
   ]
  },
  {
   "cell_type": "code",
   "execution_count": 165,
   "metadata": {},
   "outputs": [
    {
     "data": {
      "text/plain": [
       "<matplotlib.collections.PathCollection at 0x217fa2cc548>"
      ]
     },
     "execution_count": 165,
     "metadata": {},
     "output_type": "execute_result"
    },
    {
     "data": {
      "image/png": "[encoded data removed]",
      "text/plain": [
       "<Figure size 432x288 with 1 Axes>"
      ]
     },
     "metadata": {
      "needs_background": "light"
     },
     "output_type": "display_data"
    }
   ],
   "source": [
    "data_fitted = g(np.linspace(0., 75., 75), X_0, result.params)\n",
    "plt.plot(np.linspace(0., 75., 75), data_fitted, '-', linewidth=2, color='red', label='fitted data')\n",
    "plt.scatter(df_processed['mins'], df_processed['mz85_mz283'])\n",
    "plt.scatter(df_processed['mins'], df_processed['mz84_mz283'])\n",
    "plt.scatter(df_processed['mins'], df_processed['mz149_mz283'])"
   ]
  },
  {
   "cell_type": "code",
   "execution_count": 176,
   "metadata": {},
   "outputs": [
    {
     "data": {
      "text/plain": [
       "(2, 13)"
      ]
     },
     "execution_count": 176,
     "metadata": {},
     "output_type": "execute_result"
    }
   ],
   "source": [
    "y = np.empty(0)\n",
    "y = [df_processed.mz85_mz283,df_processed.mz84_mz283]\n",
    "np.asarray(y).shape"
   ]
  },
  {
   "cell_type": "code",
   "execution_count": 177,
   "metadata": {},
   "outputs": [
    {
     "data": {
      "text/plain": [
       "array([0., 1., 2., 3., 4., 5.])"
      ]
     },
     "execution_count": 177,
     "metadata": {},
     "output_type": "execute_result"
    }
   ],
   "source": [
    "np.linspace(0, 5, 6)"
   ]
  }
 ],
 "metadata": {
  "kernelspec": {
   "display_name": "droplet",
   "language": "python",
   "name": "dropletenv"
  },
  "language_info": {
   "codemirror_mode": {
    "name": "ipython",
    "version": 3
   },
   "file_extension": ".py",
   "mimetype": "text/x-python",
   "name": "python",
   "nbconvert_exporter": "python",
   "pygments_lexer": "ipython3",
   "version": "3.7.4"
  }
 },
 "nbformat": 4,
 "nbformat_minor": 2
}
