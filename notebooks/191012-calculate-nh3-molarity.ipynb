{
 "cells": [
  {
   "cell_type": "markdown",
   "metadata": {},
   "source": [
    "## estimate gas-phase ammonia concentration, as well as nhx in the droplet. get an initial estimate of the droplet ph. estimate vial nh3."
   ]
  },
  {
   "cell_type": "code",
   "execution_count": 20,
   "metadata": {},
   "outputs": [],
   "source": [
    "from scipy.optimize import fsolve\n",
    "import numpy as np"
   ]
  },
  {
   "cell_type": "markdown",
   "metadata": {},
   "source": [
    "11-04-2019\n",
    "\n",
    "#### assumptions: ions present are hydroxyl, hydrogen, sulfate, ammonium. neglect acetic acid. assume ph range high enough that there is no sulfuric acid present.\n",
    "\n",
    "Charge balance: $ 2*[SO_4^{2-}] + [HSO_4^-] + [OH^-] = [H^+] + [NH_4^+] $\n",
    "\n",
    "Acid-base equilibria: $ K_{a,N} = \\frac{[NH_3][H^+]}{[NH_4^+]} $ and $ K_{a,S2} = \\frac{[SO_4^{2-}][H^+]}{[HSO_4^-]} $ \n",
    "\n",
    "Sulfur balance: $ S_T = [SO_4^{2-}] + [HSO_4^-] $\n",
    "\n",
    "NHX balance: $ NH_T = [NH_4^{+}] + [NH_3] $\n",
    "\n",
    "Water equilibrium: $ K_w = [OH^-][H^+] $ so $ [OH^-] = \\frac{K_w}{[H^+]} $\n",
    "\n",
    "---\n",
    "\n",
    "get sulfur species in terms of $ [SO_4^{2-}] $ so $ [HSO_4^-] = \\frac{[H^+][SO_4^{2-}]}{K_{a,s2}} $\n",
    "\n",
    "Now $ S_T $ can be expressed in terms of $ [SO_4^{2-}] $ : $ S_T = [SO_4^{2-}] + \\frac{[H^+][SO_4^{2-}]}{K_{a,s2}} $ and as such: $ [SO_4^{2-}] = S_T*(\\frac{[H^+]}{K_{a,S2}} + 1)^{-1} $\n",
    "\n",
    "Similarly, can do this with NHX. $ [NH_3] = \\frac{[NH_4^+] K_a}{[H^+]} $ and so $ [NH_4^+] = [NH_T](1 + \\frac{K_a}{[H^+]})^{-1} $\n",
    "\n",
    "Finally, all the above can be plugged into the charge balance in terms of constants and H+.\n",
    "\n",
    "$ 2*[SO_4^{2-}] + (S_T - [SO_4^{2-}]) + [OH^-] = [H^+] + [NH_4^+] $\n",
    "pH can be solved for with python."
   ]
  },
  {
   "cell_type": "code",
   "execution_count": 21,
   "metadata": {},
   "outputs": [],
   "source": [
    "def calc_as_ph(ammsulf):\n",
    "    s_tot = ammsulf\n",
    "    nh_tot = 2*ammsulf\n",
    "    k_w = 1e-14\n",
    "    k_n = 5.8e-10\n",
    "    k_s = 1.2e-2\n",
    "    \n",
    "    def find_h(h):\n",
    "        return h + (nh_tot * (1 + k_n/h)**-1) - (k_w / h) - s_tot * (1 + ((h / k_s) + 1)**-1)\n",
    "    \n",
    "    h = fsolve(find_h, 1e-7)\n",
    "    ph = -np.log10(h[0])\n",
    "\n",
    "    return ph"
   ]
  },
  {
   "cell_type": "code",
   "execution_count": 22,
   "metadata": {},
   "outputs": [],
   "source": [
    "def calc_ah_ph(ammhyd):\n",
    "    nh_tot = ammhyd\n",
    "    k_w = 1e-14\n",
    "    k_n = 5.8e-10\n",
    "    \n",
    "    def find_oh(oh):\n",
    "        return (k_w/oh) + (nh_tot * (1 + k_n/(k_w/oh))**-1) - oh\n",
    "    \n",
    "    oh = fsolve(find_oh, 1e-9)\n",
    "    ph = 14+np.log10(oh[0])\n",
    "\n",
    "    return ph"
   ]
  },
  {
   "cell_type": "code",
   "execution_count": 23,
   "metadata": {},
   "outputs": [
    {
     "data": {
      "text/plain": [
       "5.4361390810330015"
      ]
     },
     "execution_count": 23,
     "metadata": {},
     "output_type": "execute_result"
    }
   ],
   "source": [
    "ammsulf = 0.32\n",
    "ph = calc_as_ph(ammsulf)\n",
    "ph"
   ]
  },
  {
   "cell_type": "code",
   "execution_count": 24,
   "metadata": {},
   "outputs": [
    {
     "data": {
      "text/plain": [
       "11.369267080723459"
      ]
     },
     "execution_count": 24,
     "metadata": {},
     "output_type": "execute_result"
    }
   ],
   "source": [
    "ammhyd = 0.32\n",
    "ph = calc_ah_ph(ammhyd)\n",
    "ph"
   ]
  },
  {
   "cell_type": "code",
   "execution_count": 25,
   "metadata": {},
   "outputs": [],
   "source": [
    "def calc_nh3(ph, nh_tot):\n",
    "    h = 10**-ph\n",
    "    k_n = 5.8e-10\n",
    "    \n",
    "    return nh_tot * (h / k_n + 1)**-1"
   ]
  },
  {
   "cell_type": "code",
   "execution_count": 34,
   "metadata": {},
   "outputs": [
    {
     "data": {
      "text/plain": [
       "3.3639804889131636e-06"
      ]
     },
     "execution_count": 34,
     "metadata": {},
     "output_type": "execute_result"
    }
   ],
   "source": [
    "nh3 = calc_nh3(4, 0.58)\n",
    "nh3"
   ]
  },
  {
   "cell_type": "code",
   "execution_count": 27,
   "metadata": {},
   "outputs": [],
   "source": [
    "def calc_nhx(ph, nh3):\n",
    "    h = 10**-ph\n",
    "    k_n = 5.8e-10\n",
    "    \n",
    "    return nh3 * (1 + (h / k_n))"
   ]
  },
  {
   "cell_type": "code",
   "execution_count": 28,
   "metadata": {},
   "outputs": [
    {
     "data": {
      "text/plain": [
       "3.484189545674009"
      ]
     },
     "execution_count": 28,
     "metadata": {},
     "output_type": "execute_result"
    }
   ],
   "source": [
    "nhx = calc_nhx(8.5, 0.54)\n",
    "nhx"
   ]
  },
  {
   "cell_type": "code",
   "execution_count": 29,
   "metadata": {},
   "outputs": [
    {
     "data": {
      "text/plain": [
       "64.19753086419753"
      ]
     },
     "execution_count": 29,
     "metadata": {},
     "output_type": "execute_result"
    }
   ],
   "source": [
    "0.52/0.0081"
   ]
  },
  {
   "cell_type": "code",
   "execution_count": 30,
   "metadata": {},
   "outputs": [
    {
     "data": {
      "text/plain": [
       "0.0006949799999999999"
      ]
     },
     "execution_count": 30,
     "metadata": {},
     "output_type": "execute_result"
    }
   ],
   "source": [
    "# mol nhx / kg h2o * g as / mol nhx * kg h2o = g as\n",
    "\n",
    "0.0081 * (132/2) * .65e-3 * 2"
   ]
  },
  {
   "cell_type": "code",
   "execution_count": 31,
   "metadata": {},
   "outputs": [],
   "source": [
    "# calculate molarities from rh and composition\n",
    "\n",
    "x_h2o = 0.75\n",
    "x_other = 1 - x_h2o\n",
    "bd_peg6_molar_ratio = (0.2 / 282) / (.075 / 120)\n",
    "x_bd = x_other * (1 + bd_peg6_molar_ratio) ** -1\n",
    "x_peg = x_other - x_bd"
   ]
  },
  {
   "cell_type": "code",
   "execution_count": 32,
   "metadata": {},
   "outputs": [
    {
     "data": {
      "text/plain": [
       "8.674787744555186"
      ]
     },
     "execution_count": 32,
     "metadata": {},
     "output_type": "execute_result"
    }
   ],
   "source": [
    "(x_bd / x_h2o) * 1000 / 18"
   ]
  },
  {
   "cell_type": "code",
   "execution_count": null,
   "metadata": {},
   "outputs": [],
   "source": []
  }
 ],
 "metadata": {
  "kernelspec": {
   "display_name": "droplet",
   "language": "python",
   "name": "dropletenv"
  },
  "language_info": {
   "codemirror_mode": {
    "name": "ipython",
    "version": 3
   },
   "file_extension": ".py",
   "mimetype": "text/x-python",
   "name": "python",
   "nbconvert_exporter": "python",
   "pygments_lexer": "ipython3",
   "version": "3.7.4"
  }
 },
 "nbformat": 4,
 "nbformat_minor": 2
}
